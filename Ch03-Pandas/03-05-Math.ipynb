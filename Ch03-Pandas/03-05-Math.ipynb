{
  "nbformat": 4,
  "nbformat_minor": 0,
  "metadata": {
    "kernelspec": {
      "display_name": "Python 3",
      "language": "python",
      "name": "python3"
    },
    "language_info": {
      "codemirror_mode": {
        "name": "ipython",
        "version": 3
      },
      "file_extension": ".py",
      "mimetype": "text/x-python",
      "name": "python",
      "nbconvert_exporter": "python",
      "pygments_lexer": "ipython3",
      "version": "3.7.3"
    },
    "colab": {
      "name": "03-05-Math.ipynb",
      "provenance": [],
      "include_colab_link": true
    }
  },
  "cells": [
    {
      "cell_type": "markdown",
      "metadata": {
        "id": "view-in-github",
        "colab_type": "text"
      },
      "source": [
        "<a href=\"https://colab.research.google.com/github/roitraining/PythonML/blob/master/Ch03-Pandas/03-05-Math.ipynb\" target=\"_parent\"><img src=\"https://colab.research.google.com/assets/colab-badge.svg\" alt=\"Open In Colab\"/></a>"
      ]
    },
    {
      "cell_type": "markdown",
      "metadata": {
        "id": "mzD_-g0MdQce",
        "colab_type": "text"
      },
      "source": [
        "# Math on a DataFrame\n",
        "\n",
        "Almost all math is done using numpy arrays and numpy matrices.  In fact, in this course all work is done using numpy array. They are easier to understand and better supported in numpy."
      ]
    },
    {
      "cell_type": "markdown",
      "metadata": {
        "id": "ufu3E8SpdQcg",
        "colab_type": "text"
      },
      "source": [
        "Execute the cell below to set up this notebook"
      ]
    },
    {
      "cell_type": "code",
      "metadata": {
        "id": "NpiGicyXdQci",
        "colab_type": "code",
        "colab": {}
      },
      "source": [
        "import numpy as np\n",
        "import pandas as pd\n",
        "df = pd.read_csv('./math.csv', header=None)\n",
        "df"
      ],
      "execution_count": 0,
      "outputs": []
    },
    {
      "cell_type": "code",
      "metadata": {
        "id": "GAX5RM8IdQcq",
        "colab_type": "code",
        "colab": {}
      },
      "source": [
        "df / 5"
      ],
      "execution_count": 0,
      "outputs": []
    },
    {
      "cell_type": "markdown",
      "metadata": {
        "id": "p-5b9Iy7dQct",
        "colab_type": "text"
      },
      "source": [
        "* For a single value, the value is applied to each element of the DataFrame \n",
        "* This is true for `+`, `-`, `*`, `/`, and `**`"
      ]
    },
    {
      "cell_type": "code",
      "metadata": {
        "id": "5TwTqYrhdQcu",
        "colab_type": "code",
        "colab": {}
      },
      "source": [
        "a = pd.Series([1,2,3,4,5])\n",
        "a"
      ],
      "execution_count": 0,
      "outputs": []
    },
    {
      "cell_type": "code",
      "metadata": {
        "id": "zkEwcCqcdQcx",
        "colab_type": "code",
        "colab": {}
      },
      "source": [
        "df / a"
      ],
      "execution_count": 0,
      "outputs": []
    },
    {
      "cell_type": "markdown",
      "metadata": {
        "id": "Sr-f_YrFdQc0",
        "colab_type": "text"
      },
      "source": [
        "* The Series, a, is applied to each row of the DataFrame, df, which the element of the row and the Series matched\n",
        "* This is true for `+`, `-`, `*`, `/`, and `**`\n",
        "* The expression is not communtative"
      ]
    },
    {
      "cell_type": "code",
      "metadata": {
        "id": "PWnWQV-FdQc3",
        "colab_type": "code",
        "colab": {}
      },
      "source": [
        "df2 = pd.read_csv('./math.csv', header=None)\n",
        "df2"
      ],
      "execution_count": 0,
      "outputs": []
    },
    {
      "cell_type": "code",
      "metadata": {
        "id": "DKnZkeKFdQc7",
        "colab_type": "code",
        "colab": {}
      },
      "source": [
        "df / df2"
      ],
      "execution_count": 0,
      "outputs": []
    },
    {
      "cell_type": "markdown",
      "metadata": {
        "id": "8VvvxddxdQc_",
        "colab_type": "text"
      },
      "source": [
        "* The 2 DataFrame must have the same shape\n",
        "* Corresponding cells are uses for the parameter for theh mat"
      ]
    },
    {
      "cell_type": "code",
      "metadata": {
        "id": "aN1WPqXZdQdA",
        "colab_type": "code",
        "colab": {}
      },
      "source": [
        "df.dot(a)"
      ],
      "execution_count": 0,
      "outputs": []
    },
    {
      "cell_type": "markdown",
      "metadata": {
        "id": "y3gdC-UbdQdE",
        "colab_type": "text"
      },
      "source": [
        "* The result is a single Series with one element or each row in the DataFrame\n",
        "* The process\n",
        "    - For row 0, the corresponding elements of the Series are multiplied together. Then all the elements of the row are summed and placed as the first element of the result Series\n",
        "    - The same procedure is used for all of the rows in the DataFrame"
      ]
    },
    {
      "cell_type": "markdown",
      "metadata": {
        "id": "b82YlNGcdQdL",
        "colab_type": "text"
      },
      "source": [
        "# End of notebook"
      ]
    }
  ]
}