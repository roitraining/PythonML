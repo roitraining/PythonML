{
  "nbformat": 4,
  "nbformat_minor": 0,
  "metadata": {
    "kernelspec": {
      "display_name": "Python 3",
      "language": "python",
      "name": "python3"
    },
    "language_info": {
      "codemirror_mode": {
        "name": "ipython",
        "version": 3
      },
      "file_extension": ".py",
      "mimetype": "text/x-python",
      "name": "python",
      "nbconvert_exporter": "python",
      "pygments_lexer": "ipython3",
      "version": "3.7.3"
    },
    "colab": {
      "name": "03-05-Math.ipynb",
      "provenance": [],
      "include_colab_link": true
    }
  },
  "cells": [
    {
      "cell_type": "markdown",
      "metadata": {
        "id": "view-in-github",
        "colab_type": "text"
      },
      "source": [
        "<a href=\"https://colab.research.google.com/github/roitraining/PythonML/blob/Development/Ch03-Pandas/03-05-Math.ipynb\" target=\"_parent\"><img src=\"https://colab.research.google.com/assets/colab-badge.svg\" alt=\"Open In Colab\"/></a>"
      ]
    },
    {
      "cell_type": "markdown",
      "metadata": {
        "id": "mYfFwNbwYXhD",
        "colab_type": "text"
      },
      "source": [
        "# Math on a DataFrame\n",
        "\n",
        "Almost all math is done using numpy arrays and numpy matrices.  In fact, in this course all work is done using numpy array. They are easier to understand and better supported in numpy."
      ]
    },
    {
      "cell_type": "markdown",
      "metadata": {
        "id": "0RkTlZYXYXhF",
        "colab_type": "text"
      },
      "source": [
        "Execute the cell below to setup this notebook."
      ]
    },
    {
      "cell_type": "code",
      "metadata": {
        "id": "1vRXZTIeYXhG",
        "colab_type": "code",
        "colab": {}
      },
      "source": [
        "import numpy as np\n",
        "import pandas as pd\n",
        "df = pd.read_csv('./math.csv', header=None)\n",
        "df"
      ],
      "execution_count": 0,
      "outputs": []
    },
    {
      "cell_type": "code",
      "metadata": {
        "id": "JKaKgsvTYXhL",
        "colab_type": "code",
        "colab": {}
      },
      "source": [
        "df / 5"
      ],
      "execution_count": 0,
      "outputs": []
    },
    {
      "cell_type": "markdown",
      "metadata": {
        "id": "hrvmdd27YXhR",
        "colab_type": "text"
      },
      "source": [
        "* For a single value, the value is applied to each element of the DataFrame \n",
        "* This is true for `+`, `-`, `*`, `/`, and `**`"
      ]
    },
    {
      "cell_type": "code",
      "metadata": {
        "id": "v-fVrZSNYXhS",
        "colab_type": "code",
        "colab": {}
      },
      "source": [
        "a = pd.Series([1,2,3,4,5])\n",
        "a"
      ],
      "execution_count": 0,
      "outputs": []
    },
    {
      "cell_type": "code",
      "metadata": {
        "id": "2Jb8P-HzYXhW",
        "colab_type": "code",
        "colab": {}
      },
      "source": [
        "df / a"
      ],
      "execution_count": 0,
      "outputs": []
    },
    {
      "cell_type": "markdown",
      "metadata": {
        "id": "4yEMG6SvYXhb",
        "colab_type": "text"
      },
      "source": [
        "* The Series, a, is applied to each row of the DataFrame, df, which the element of the row and the Series matched\n",
        "* This is true for `+`, `-`, `*`, `/`, and `**`\n",
        "* The expression is not commutative"
      ]
    },
    {
      "cell_type": "code",
      "metadata": {
        "id": "L4zvl5iqYXhc",
        "colab_type": "code",
        "colab": {}
      },
      "source": [
        "df2 = pd.read_csv('./math.csv', header=None)\n",
        "df2"
      ],
      "execution_count": 0,
      "outputs": []
    },
    {
      "cell_type": "code",
      "metadata": {
        "id": "7-ScNB5UYXhh",
        "colab_type": "code",
        "colab": {}
      },
      "source": [
        "df / df2"
      ],
      "execution_count": 0,
      "outputs": []
    },
    {
      "cell_type": "code",
      "metadata": {
        "id": "PIim_GJcYXhk",
        "colab_type": "code",
        "colab": {}
      },
      "source": [
        "df.dot(a)"
      ],
      "execution_count": 0,
      "outputs": []
    },
    {
      "cell_type": "markdown",
      "metadata": {
        "id": "yvVFJYJRYXho",
        "colab_type": "text"
      },
      "source": [
        "* The result is a single Series with one element of each row in the DataFrame\n",
        "* The process\n",
        "    - For row 0, the corresponding elements of the Series are multiplied together. All the elements of the row are summed and placed as the first element of the result Series\n",
        "    - The same procedure is used for all of the rows in the DataFrame"
      ]
    },
    {
      "cell_type": "markdown",
      "metadata": {
        "id": "Wav3GoNZYXhp",
        "colab_type": "text"
      },
      "source": [
        "# End of notebook"
      ]
    }
  ]
}