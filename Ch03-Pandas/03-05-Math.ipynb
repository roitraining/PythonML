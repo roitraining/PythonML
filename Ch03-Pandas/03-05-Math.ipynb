{
 "cells": [
  {
   "cell_type": "markdown",
   "metadata": {
    "colab_type": "text",
    "id": "view-in-github"
   },
   "source": [
    "<a href=\"https://colab.research.google.com/github/roitraining/PythonML/blob/master/Ch03-Pandas/03-05-Math.ipynb\" target=\"_parent\"><img src=\"https://colab.research.google.com/assets/colab-badge.svg\" alt=\"Open In Colab\"/></a>"
   ]
  },
  {
   "cell_type": "markdown",
   "metadata": {
    "colab_type": "text",
    "id": "mzD_-g0MdQce"
   },
   "source": [
    "# Math on a DataFrame\n",
    "\n",
    "Almost all math is done using numpy arrays and numpy matrices.  In fact, in this course all work is done using numpy array. They are easier to understand and better supported in numpy."
   ]
  },
  {
   "cell_type": "markdown",
   "metadata": {
    "colab_type": "text",
    "id": "ufu3E8SpdQcg"
   },
   "source": [
    "Execute the cell below to set up this notebook"
   ]
  },
  {
   "cell_type": "code",
   "execution_count": null,
   "metadata": {
    "colab": {},
    "colab_type": "code",
    "id": "NpiGicyXdQci"
   },
   "outputs": [],
   "source": [
    "import numpy as np\n",
    "import pandas as pd\n",
    "df = pd.read_csv('./math.csv', header=None)\n",
    "df"
   ]
  },
  {
   "cell_type": "code",
   "execution_count": null,
   "metadata": {
    "colab": {},
    "colab_type": "code",
    "id": "GAX5RM8IdQcq"
   },
   "outputs": [],
   "source": [
    "df / 5"
   ]
  },
  {
   "cell_type": "markdown",
   "metadata": {
    "colab_type": "text",
    "id": "p-5b9Iy7dQct"
   },
   "source": [
    "* For a single value, the value is applied to each element of the DataFrame \n",
    "* This is true for `+`, `-`, `*`, `/`, and `**`"
   ]
  },
  {
   "cell_type": "code",
   "execution_count": null,
   "metadata": {
    "colab": {},
    "colab_type": "code",
    "id": "5TwTqYrhdQcu"
   },
   "outputs": [],
   "source": [
    "a = pd.Series([1,2,3,4,5])\n",
    "a"
   ]
  },
  {
   "cell_type": "code",
   "execution_count": null,
   "metadata": {
    "colab": {},
    "colab_type": "code",
    "id": "zkEwcCqcdQcx"
   },
   "outputs": [],
   "source": [
    "df / a"
   ]
  },
  {
   "cell_type": "markdown",
   "metadata": {
    "colab_type": "text",
    "id": "Sr-f_YrFdQc0"
   },
   "source": [
    "* The Series, a, is applied to each row of the DataFrame, df, which the element of the row and the Series matched\n",
    "* This is true for `+`, `-`, `*`, `/`, and `**`\n",
    "* The expression is not communtative"
   ]
  },
  {
   "cell_type": "code",
   "execution_count": null,
   "metadata": {
    "colab": {},
    "colab_type": "code",
    "id": "PWnWQV-FdQc3"
   },
   "outputs": [],
   "source": [
    "df2 = pd.read_csv('./math.csv', header=None)\n",
    "df2"
   ]
  },
  {
   "cell_type": "code",
   "execution_count": null,
   "metadata": {
    "colab": {},
    "colab_type": "code",
    "id": "DKnZkeKFdQc7"
   },
   "outputs": [],
   "source": [
    "df / df2"
   ]
  },
  {
   "cell_type": "markdown",
   "metadata": {
    "colab_type": "text",
    "id": "8VvvxddxdQc_"
   },
   "source": [
    "* The 2 DataFrame must have the same shape\n",
    "* Corresponding cells are uses for the parameter for theh mat"
   ]
  },
  {
   "cell_type": "code",
   "execution_count": null,
   "metadata": {
    "colab": {},
    "colab_type": "code",
    "id": "aN1WPqXZdQdA"
   },
   "outputs": [],
   "source": [
    "df.dot(a)"
   ]
  },
  {
   "cell_type": "markdown",
   "metadata": {
    "colab_type": "text",
    "id": "y3gdC-UbdQdE"
   },
   "source": [
    "* The result is a single Series with one element or each row in the DataFrame\n",
    "* The process\n",
    "    - For row 0, the corresponding elements of the Series are multiplied together. Then all the elements of the row are summed and placed as the first element of the result Series\n",
    "    - The same procedure is used for all of the rows in the DataFrame"
   ]
  },
  {
   "cell_type": "markdown",
   "metadata": {
    "colab_type": "text",
    "id": "b82YlNGcdQdL"
   },
   "source": [
    "# End of notebook"
   ]
  },
  {
   "cell_type": "code",
   "execution_count": null,
   "metadata": {},
   "outputs": [],
   "source": []
  }
 ],
 "metadata": {
  "colab": {
   "include_colab_link": true,
   "name": "03-05-Math.ipynb",
   "provenance": []
  },
  "kernelspec": {
   "display_name": "Python 3",
   "language": "python",
   "name": "python3"
  },
  "language_info": {
   "codemirror_mode": {
    "name": "ipython",
    "version": 3
   },
   "file_extension": ".py",
   "mimetype": "text/x-python",
   "name": "python",
   "nbconvert_exporter": "python",
   "pygments_lexer": "ipython3",
   "version": "3.7.3"
  }
 },
 "nbformat": 4,
 "nbformat_minor": 1
}
