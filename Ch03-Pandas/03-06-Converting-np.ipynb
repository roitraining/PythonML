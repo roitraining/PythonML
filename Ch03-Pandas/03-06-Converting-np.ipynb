{
  "nbformat": 4,
  "nbformat_minor": 0,
  "metadata": {
    "kernelspec": {
      "display_name": "Python 3",
      "language": "python",
      "name": "python3"
    },
    "language_info": {
      "codemirror_mode": {
        "name": "ipython",
        "version": 3
      },
      "file_extension": ".py",
      "mimetype": "text/x-python",
      "name": "python",
      "nbconvert_exporter": "python",
      "pygments_lexer": "ipython3",
      "version": "3.7.3"
    },
    "colab": {
      "name": "03-06-Converting-np.ipynb",
      "provenance": [],
      "include_colab_link": true
    }
  },
  "cells": [
    {
      "cell_type": "markdown",
      "metadata": {
        "id": "view-in-github",
        "colab_type": "text"
      },
      "source": [
        "<a href=\"https://colab.research.google.com/github/roitraining/PythonML/blob/master/Ch03-Pandas/03-06-Converting-np.ipynb\" target=\"_parent\"><img src=\"https://colab.research.google.com/assets/colab-badge.svg\" alt=\"Open In Colab\"/></a>"
      ]
    },
    {
      "cell_type": "markdown",
      "metadata": {
        "id": "QbSWXcO-eCkA",
        "colab_type": "text"
      },
      "source": [
        "# Converting to a Numpy array"
      ]
    },
    {
      "cell_type": "markdown",
      "metadata": {
        "id": "L1GUuNPFeCkD",
        "colab_type": "text"
      },
      "source": [
        "Execute the following frame to set up this notebook."
      ]
    },
    {
      "cell_type": "code",
      "metadata": {
        "id": "wMUSrvGFeCkF",
        "colab_type": "code",
        "colab": {}
      },
      "source": [
        "import numpy as np\n",
        "import pandas as pd\n",
        "df = pd.read_csv(\"./math.csv\", header=None)\n",
        "df"
      ],
      "execution_count": 0,
      "outputs": []
    },
    {
      "cell_type": "code",
      "metadata": {
        "id": "LIfjEUm8eCkN",
        "colab_type": "code",
        "colab": {}
      },
      "source": [
        "numpy_array = df.as_matrix()\n",
        "numpy_array"
      ],
      "execution_count": 0,
      "outputs": []
    },
    {
      "cell_type": "code",
      "metadata": {
        "id": "RqF7gFbBeCkR",
        "colab_type": "code",
        "colab": {}
      },
      "source": [
        "type(numpy_array)"
      ],
      "execution_count": 0,
      "outputs": []
    },
    {
      "cell_type": "markdown",
      "metadata": {
        "id": "-w_FymIAeOsc",
        "colab_type": "text"
      },
      "source": [
        "#End of notebook"
      ]
    }
  ]
}