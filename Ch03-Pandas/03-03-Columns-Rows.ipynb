{
  "nbformat": 4,
  "nbformat_minor": 0,
  "metadata": {
    "kernelspec": {
      "display_name": "Python 3",
      "language": "python",
      "name": "python3"
    },
    "language_info": {
      "codemirror_mode": {
        "name": "ipython",
        "version": 3
      },
      "file_extension": ".py",
      "mimetype": "text/x-python",
      "name": "python",
      "nbconvert_exporter": "python",
      "pygments_lexer": "ipython3",
      "version": "3.7.3"
    },
    "colab": {
      "name": "03-03-Columns-Rows.ipynb",
      "provenance": [],
      "include_colab_link": true
    }
  },
  "cells": [
    {
      "cell_type": "markdown",
      "metadata": {
        "id": "view-in-github",
        "colab_type": "text"
      },
      "source": [
        "<a href=\"https://colab.research.google.com/github/roitraining/PythonML/blob/master/Ch03-Pandas/03-03-Columns-Rows.ipynb\" target=\"_parent\"><img src=\"https://colab.research.google.com/assets/colab-badge.svg\" alt=\"Open In Colab\"/></a>"
      ]
    },
    {
      "cell_type": "markdown",
      "metadata": {
        "id": "r_tuD0C1b1fc",
        "colab_type": "text"
      },
      "source": [
        "# Adding, Deleting Columns and  Rows\n",
        "\n",
        "This is an introduction to adding Columns and Rows to a DataFrame. Not all methods are covered."
      ]
    },
    {
      "cell_type": "markdown",
      "metadata": {
        "id": "Xlfo1HuFb1fh",
        "colab_type": "text"
      },
      "source": [
        "Execute cell below to set up this notebook."
      ]
    },
    {
      "cell_type": "code",
      "metadata": {
        "id": "MJuqk9rBb1fi",
        "colab_type": "code",
        "colab": {}
      },
      "source": [
        "import numpy as np\n",
        "import pandas as pd\n",
        "df = pd.read_csv(\"./iris-data-column.csv\", header=0)\n",
        "df"
      ],
      "execution_count": 0,
      "outputs": []
    },
    {
      "cell_type": "markdown",
      "metadata": {
        "id": "ECcPp4jkb1fm",
        "colab_type": "text"
      },
      "source": [
        "## Working with Columns"
      ]
    },
    {
      "cell_type": "code",
      "metadata": {
        "id": "-Uz9uxzUb1fo",
        "colab_type": "code",
        "colab": {}
      },
      "source": [
        "Collector = ['d1', 'a1', 'd2', 'a2', 'd3', 'a3']\n",
        "df.loc[:,'Collector'] = Collector\n",
        "df"
      ],
      "execution_count": 0,
      "outputs": []
    },
    {
      "cell_type": "markdown",
      "metadata": {
        "id": "Hvwxq5yTb1fr",
        "colab_type": "text"
      },
      "source": [
        "* You can also use `df['Collector'] = Collector`.\n",
        "* A missing row value is an error"
      ]
    },
    {
      "cell_type": "markdown",
      "metadata": {
        "id": "uI1v1thKb1fv",
        "colab_type": "text"
      },
      "source": [
        "Execute the cell below to find out the preferred method of drop columns or rows."
      ]
    },
    {
      "cell_type": "code",
      "metadata": {
        "id": "X0PghwKMb1fx",
        "colab_type": "code",
        "colab": {}
      },
      "source": [
        "help(df.drop)"
      ],
      "execution_count": 0,
      "outputs": []
    },
    {
      "cell_type": "code",
      "metadata": {
        "id": "odCmiXv3b1f0",
        "colab_type": "code",
        "colab": {}
      },
      "source": [
        "df.drop('Collector', axis=1, inplace=True)\n",
        "df"
      ],
      "execution_count": 0,
      "outputs": []
    },
    {
      "cell_type": "markdown",
      "metadata": {
        "id": "ueBoZj1Jb1f4",
        "colab_type": "text"
      },
      "source": [
        "* axis\n",
        "    - 0 means drop rows\n",
        "    - 1 means drop column\\\n",
        "* inplace\n",
        "    - True means change the current df\n",
        "    - False means create a new data frame"
      ]
    },
    {
      "cell_type": "markdown",
      "metadata": {
        "id": "oyLqUM1fb1f5",
        "colab_type": "text"
      },
      "source": [
        "Execute the cell below to find out about the insert command."
      ]
    },
    {
      "cell_type": "code",
      "metadata": {
        "id": "U5hQqGkjb1f6",
        "colab_type": "code",
        "colab": {}
      },
      "source": [
        "help(df.insert)"
      ],
      "execution_count": 0,
      "outputs": []
    },
    {
      "cell_type": "code",
      "metadata": {
        "id": "7Qf3mxfab1f-",
        "colab_type": "code",
        "colab": {}
      },
      "source": [
        "df.insert(0, 'Collector', Collector)\n",
        "df"
      ],
      "execution_count": 0,
      "outputs": []
    },
    {
      "cell_type": "markdown",
      "metadata": {
        "id": "iOpE-OlDb1gC",
        "colab_type": "text"
      },
      "source": [
        "* First field is the location to be inserted at—all other columns are pushed to the right\n",
        "* Second field is the name of the column\n",
        "* Third field is a list of value to put into the column "
      ]
    },
    {
      "cell_type": "code",
      "metadata": {
        "id": "J7HfeLCOb1gD",
        "colab_type": "code",
        "colab": {}
      },
      "source": [
        "df.loc['sum'] = [ np.NaN, 25, 34, 15, np.NaN, np.NaN]\n",
        "df"
      ],
      "execution_count": 0,
      "outputs": []
    },
    {
      "cell_type": "markdown",
      "metadata": {
        "id": "Vxmj7P4-b1gJ",
        "colab_type": "text"
      },
      "source": [
        "* by using loc (`df.loc[ ]`) you are adding a row to the DataFrame"
      ]
    },
    {
      "cell_type": "code",
      "metadata": {
        "id": "rt3hScH6b1gM",
        "colab_type": "code",
        "colab": {}
      },
      "source": [
        "df.drop('sum', axis=0, inplace=True)\n",
        "df"
      ],
      "execution_count": 0,
      "outputs": []
    },
    {
      "cell_type": "markdown",
      "metadata": {
        "id": "2gXMEbRSb1gT",
        "colab_type": "text"
      },
      "source": [
        "# End of notebook"
      ]
    }
  ]
}