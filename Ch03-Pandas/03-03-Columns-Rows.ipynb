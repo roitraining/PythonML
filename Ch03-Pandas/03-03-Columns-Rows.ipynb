{
 "cells": [
  {
   "cell_type": "markdown",
   "metadata": {
    "colab_type": "text",
    "id": "view-in-github"
   },
   "source": [
    "<a href=\"https://colab.research.google.com/github/roitraining/PythonML/blob/master/Ch03-Pandas/03-03-Columns-Rows.ipynb\" target=\"_parent\"><img src=\"https://colab.research.google.com/assets/colab-badge.svg\" alt=\"Open In Colab\"/></a>"
   ]
  },
  {
   "cell_type": "markdown",
   "metadata": {
    "colab_type": "text",
    "id": "r_tuD0C1b1fc"
   },
   "source": [
    "# Adding, Deleting Columns and  Rows\n",
    "\n",
    "This is an introduction to adding Columns and Rows to a DataFrame. Not all methods are covered."
   ]
  },
  {
   "cell_type": "markdown",
   "metadata": {
    "colab_type": "text",
    "id": "Xlfo1HuFb1fh"
   },
   "source": [
    "Execute cell below to set up this notebook."
   ]
  },
  {
   "cell_type": "code",
   "execution_count": null,
   "metadata": {
    "colab": {},
    "colab_type": "code",
    "id": "MJuqk9rBb1fi"
   },
   "outputs": [],
   "source": [
    "import numpy as np\n",
    "import pandas as pd\n",
    "df = pd.read_csv(\"./iris-data-column.csv\", header=0)\n",
    "df"
   ]
  },
  {
   "cell_type": "markdown",
   "metadata": {
    "colab_type": "text",
    "id": "ECcPp4jkb1fm"
   },
   "source": [
    "## Working with Columns"
   ]
  },
  {
   "cell_type": "code",
   "execution_count": null,
   "metadata": {
    "colab": {},
    "colab_type": "code",
    "id": "-Uz9uxzUb1fo"
   },
   "outputs": [],
   "source": [
    "Collector = ['d1', 'a1', 'd2', 'a2', 'd3', 'a3']\n",
    "df.loc[:,'Collector'] = Collector\n",
    "df"
   ]
  },
  {
   "cell_type": "markdown",
   "metadata": {
    "colab_type": "text",
    "id": "Hvwxq5yTb1fr"
   },
   "source": [
    "* You can also use `df['Collector'] = Collector`.\n",
    "* A missing row value is an error"
   ]
  },
  {
   "cell_type": "markdown",
   "metadata": {
    "colab_type": "text",
    "id": "uI1v1thKb1fv"
   },
   "source": [
    "Execute the cell below to find out the preferred method of drop columns or rows."
   ]
  },
  {
   "cell_type": "code",
   "execution_count": null,
   "metadata": {
    "colab": {},
    "colab_type": "code",
    "id": "X0PghwKMb1fx"
   },
   "outputs": [],
   "source": [
    "help(df.drop)"
   ]
  },
  {
   "cell_type": "code",
   "execution_count": null,
   "metadata": {
    "colab": {},
    "colab_type": "code",
    "id": "odCmiXv3b1f0"
   },
   "outputs": [],
   "source": [
    "df.drop('Collector', axis=1, inplace=True)\n",
    "df"
   ]
  },
  {
   "cell_type": "markdown",
   "metadata": {
    "colab_type": "text",
    "id": "ueBoZj1Jb1f4"
   },
   "source": [
    "* axis\n",
    "    - 0 means drop rows\n",
    "    - 1 means drop column\\\n",
    "* inplace\n",
    "    - True means change the current df\n",
    "    - False means create a new data frame"
   ]
  },
  {
   "cell_type": "markdown",
   "metadata": {
    "colab_type": "text",
    "id": "oyLqUM1fb1f5"
   },
   "source": [
    "Execute the cell below to find out about the insert command."
   ]
  },
  {
   "cell_type": "code",
   "execution_count": null,
   "metadata": {
    "colab": {},
    "colab_type": "code",
    "id": "U5hQqGkjb1f6"
   },
   "outputs": [],
   "source": [
    "help(df.insert)"
   ]
  },
  {
   "cell_type": "code",
   "execution_count": null,
   "metadata": {
    "colab": {},
    "colab_type": "code",
    "id": "7Qf3mxfab1f-"
   },
   "outputs": [],
   "source": [
    "df.insert(0, 'Collector', Collector)\n",
    "df"
   ]
  },
  {
   "cell_type": "markdown",
   "metadata": {
    "colab_type": "text",
    "id": "iOpE-OlDb1gC"
   },
   "source": [
    "* First field is the location to be inserted at—all other columns are pushed to the right\n",
    "* Second field is the name of the column\n",
    "* Third field is a list of value to put into the column "
   ]
  },
  {
   "cell_type": "code",
   "execution_count": null,
   "metadata": {
    "colab": {},
    "colab_type": "code",
    "id": "J7HfeLCOb1gD"
   },
   "outputs": [],
   "source": [
    "df.loc['sum'] = [ np.NaN, 25, 34, 15, np.NaN, np.NaN]\n",
    "df"
   ]
  },
  {
   "cell_type": "markdown",
   "metadata": {
    "colab_type": "text",
    "id": "Vxmj7P4-b1gJ"
   },
   "source": [
    "* by using loc (`df.loc[ ]`) you are adding a row to the DataFrame"
   ]
  },
  {
   "cell_type": "code",
   "execution_count": null,
   "metadata": {
    "colab": {},
    "colab_type": "code",
    "id": "rt3hScH6b1gM"
   },
   "outputs": [],
   "source": [
    "df.drop('sum', axis=0, inplace=True)\n",
    "df"
   ]
  },
  {
   "cell_type": "markdown",
   "metadata": {
    "colab_type": "text",
    "id": "2gXMEbRSb1gT"
   },
   "source": [
    "# End of notebook"
   ]
  },
  {
   "cell_type": "code",
   "execution_count": null,
   "metadata": {},
   "outputs": [],
   "source": []
  }
 ],
 "metadata": {
  "colab": {
   "include_colab_link": true,
   "name": "03-03-Columns-Rows.ipynb",
   "provenance": []
  },
  "kernelspec": {
   "display_name": "Python 3",
   "language": "python",
   "name": "python3"
  },
  "language_info": {
   "codemirror_mode": {
    "name": "ipython",
    "version": 3
   },
   "file_extension": ".py",
   "mimetype": "text/x-python",
   "name": "python",
   "nbconvert_exporter": "python",
   "pygments_lexer": "ipython3",
   "version": "3.7.3"
  }
 },
 "nbformat": 4,
 "nbformat_minor": 1
}
