{
  "nbformat": 4,
  "nbformat_minor": 0,
  "metadata": {
    "kernelspec": {
      "display_name": "Python 3",
      "language": "python",
      "name": "python3"
    },
    "language_info": {
      "codemirror_mode": {
        "name": "ipython",
        "version": 3
      },
      "file_extension": ".py",
      "mimetype": "text/x-python",
      "name": "python",
      "nbconvert_exporter": "python",
      "pygments_lexer": "ipython3",
      "version": "3.7.3"
    },
    "colab": {
      "name": "03-02-Dataframe-Access.ipynb",
      "provenance": [],
      "include_colab_link": true
    }
  },
  "cells": [
    {
      "cell_type": "markdown",
      "metadata": {
        "id": "view-in-github",
        "colab_type": "text"
      },
      "source": [
        "<a href=\"https://colab.research.google.com/github/roitraining/PythonML/blob/master/Ch03-Pandas/03-02-Dataframe-Access.ipynb\" target=\"_parent\"><img src=\"https://colab.research.google.com/assets/colab-badge.svg\" alt=\"Open In Colab\"/></a>"
      ]
    },
    {
      "cell_type": "markdown",
      "metadata": {
        "id": "OagKCbtfd0uP",
        "colab_type": "text"
      },
      "source": [
        "# DataFrame Access"
      ]
    },
    {
      "cell_type": "markdown",
      "metadata": {
        "id": "NOiUPjiRd0uR",
        "colab_type": "text"
      },
      "source": [
        "Execute the next frame.\n",
        "\n",
        "This will set up this notebook."
      ]
    },
    {
      "cell_type": "code",
      "metadata": {
        "id": "Xt7Z3PnJd0uS",
        "colab_type": "code",
        "colab": {}
      },
      "source": [
        "import numpy as np\n",
        "import pandas as pd\n",
        "df = pd.read_csv(\"./iris-data-index-column.csv\", index_col=0, header=0)\n",
        "df"
      ],
      "execution_count": 0,
      "outputs": []
    },
    {
      "cell_type": "markdown",
      "metadata": {
        "id": "yR_7uY3md0uX",
        "colab_type": "text"
      },
      "source": [
        "## Methods of Data Access\n",
        "\n",
        "* loc\n",
        "    - Uses labels for data access\n",
        "* iloc\n",
        "    - Uses numerical indexes for data access\n",
        "* Series\n",
        "    - Uses Series reference to access a column\n",
        "* Boolean filter\n"
      ]
    },
    {
      "cell_type": "markdown",
      "metadata": {
        "id": "FcSpbCFfd0uY",
        "colab_type": "text"
      },
      "source": [
        "## Using loc\n",
        "Execute the next set of cells to see how to use loc to access data."
      ]
    },
    {
      "cell_type": "code",
      "metadata": {
        "id": "WTJuC43Qd0uZ",
        "colab_type": "code",
        "colab": {}
      },
      "source": [
        "df.loc[:,'Petal_Length']"
      ],
      "execution_count": 0,
      "outputs": []
    },
    {
      "cell_type": "code",
      "metadata": {
        "id": "G_5Ist5Od0uc",
        "colab_type": "code",
        "colab": {}
      },
      "source": [
        "df.loc[:, 'Sepal_Length':'Petal_Length']"
      ],
      "execution_count": 0,
      "outputs": []
    },
    {
      "cell_type": "markdown",
      "metadata": {
        "id": "zwNKu38Qd0ug",
        "colab_type": "text"
      },
      "source": [
        "* Notice that the `:` is inclusive"
      ]
    },
    {
      "cell_type": "code",
      "metadata": {
        "id": "i8eWouw0d0ug",
        "colab_type": "code",
        "colab": {}
      },
      "source": [
        "df.loc[:,['Petal_Length', 'Sepal_Length']]\n"
      ],
      "execution_count": 0,
      "outputs": []
    },
    {
      "cell_type": "markdown",
      "metadata": {
        "id": "G81wwBETd0uj",
        "colab_type": "text"
      },
      "source": [
        "* Notice that the order of the columns can be changed"
      ]
    },
    {
      "cell_type": "code",
      "metadata": {
        "id": "K6QHXslKd0ul",
        "colab_type": "code",
        "colab": {}
      },
      "source": [
        "df.loc['d1', ['Petal_Length', 'Sepal_Length']]"
      ],
      "execution_count": 0,
      "outputs": []
    },
    {
      "cell_type": "code",
      "metadata": {
        "id": "YwC4ps_2d0uq",
        "colab_type": "code",
        "colab": {}
      },
      "source": [
        "df.loc['d1':'a1', ['Petal_Length', 'Sepal_Length']]"
      ],
      "execution_count": 0,
      "outputs": []
    },
    {
      "cell_type": "markdown",
      "metadata": {
        "id": "Ox_JAlopd0uu",
        "colab_type": "text"
      },
      "source": [
        "## Using iloc\n",
        "Execute the next set of cells to see how to use iloc to access data."
      ]
    },
    {
      "cell_type": "code",
      "metadata": {
        "id": "RBMTRf3Id0uv",
        "colab_type": "code",
        "colab": {}
      },
      "source": [
        "df.iloc[:, 2]"
      ],
      "execution_count": 0,
      "outputs": []
    },
    {
      "cell_type": "code",
      "metadata": {
        "id": "jQ6TkTijd0uz",
        "colab_type": "code",
        "colab": {}
      },
      "source": [
        "df.iloc[:, 2:4]"
      ],
      "execution_count": 0,
      "outputs": []
    },
    {
      "cell_type": "markdown",
      "metadata": {
        "id": "gyH2ccUYd0u4",
        "colab_type": "text"
      },
      "source": [
        "* Notice that the range is not inclusive which is different from loc"
      ]
    },
    {
      "cell_type": "code",
      "metadata": {
        "id": "zlzhxqmXd0u5",
        "colab_type": "code",
        "colab": {}
      },
      "source": [
        "df.iloc[3, 2:4]"
      ],
      "execution_count": 0,
      "outputs": []
    },
    {
      "cell_type": "markdown",
      "metadata": {
        "id": "9B6I03k-d0u9",
        "colab_type": "text"
      },
      "source": [
        "## Using Series\n",
        "Execute the next set of cells to see how to use Series to access data."
      ]
    },
    {
      "cell_type": "code",
      "metadata": {
        "id": "oqDypfQkd0u-",
        "colab_type": "code",
        "colab": {}
      },
      "source": [
        "df.Petal_Length"
      ],
      "execution_count": 0,
      "outputs": []
    },
    {
      "cell_type": "code",
      "metadata": {
        "id": "Lm_GaHYBd0vB",
        "colab_type": "code",
        "colab": {}
      },
      "source": [
        "df.columns"
      ],
      "execution_count": 0,
      "outputs": []
    },
    {
      "cell_type": "markdown",
      "metadata": {
        "id": "SvEFxZOId0vE",
        "colab_type": "text"
      },
      "source": [
        "* Notice that columns is a Series in a DataFrame"
      ]
    },
    {
      "cell_type": "code",
      "metadata": {
        "id": "Vgw8aSItd0vF",
        "colab_type": "code",
        "colab": {}
      },
      "source": [
        "df.index"
      ],
      "execution_count": 0,
      "outputs": []
    },
    {
      "cell_type": "markdown",
      "metadata": {
        "id": "caTm63X8d0vH",
        "colab_type": "text"
      },
      "source": [
        "* Notice that index is a Series in a DataFrame "
      ]
    },
    {
      "cell_type": "markdown",
      "metadata": {
        "id": "uQgQjxmod0vI",
        "colab_type": "text"
      },
      "source": [
        "## Boolean Column Selection"
      ]
    },
    {
      "cell_type": "code",
      "metadata": {
        "id": "jnON50I1d0vJ",
        "colab_type": "code",
        "colab": {}
      },
      "source": [
        "df.loc[df['Class'] == 'Iris-setosa']"
      ],
      "execution_count": 0,
      "outputs": []
    },
    {
      "cell_type": "code",
      "metadata": {
        "id": "0WbEP4fGd0vM",
        "colab_type": "code",
        "colab": {}
      },
      "source": [
        "df.loc[df['Class'] == 'Iris-setosa', 'Sepal_Length']"
      ],
      "execution_count": 0,
      "outputs": []
    },
    {
      "cell_type": "code",
      "metadata": {
        "id": "PAzf99_fd0vP",
        "colab_type": "code",
        "colab": {}
      },
      "source": [
        "df.loc[(df['Class'] == 'Iris-setosa') | (df['Class'] == 'Iris-virginica')]"
      ],
      "execution_count": 0,
      "outputs": []
    },
    {
      "cell_type": "code",
      "metadata": {
        "id": "Z_G1dWRCd0vS",
        "colab_type": "code",
        "colab": {}
      },
      "source": [
        "df.loc[(df['Class'] == 'Iris-setosa') | (df['Class'] == 'Iris-virginica'), 'Sepal_Length']"
      ],
      "execution_count": 0,
      "outputs": []
    },
    {
      "cell_type": "markdown",
      "metadata": {
        "id": "dxn-gEMBd0vW",
        "colab_type": "text"
      },
      "source": [
        "# End of notebook"
      ]
    }
  ]
}