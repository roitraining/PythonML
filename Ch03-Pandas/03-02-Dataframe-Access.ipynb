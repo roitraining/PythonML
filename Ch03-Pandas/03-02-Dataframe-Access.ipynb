{
 "cells": [
  {
   "cell_type": "markdown",
   "metadata": {
    "colab_type": "text",
    "id": "view-in-github"
   },
   "source": [
    "<a href=\"https://colab.research.google.com/github/roitraining/PythonML/blob/master/Ch03-Pandas/03-02-Dataframe-Access.ipynb\" target=\"_parent\"><img src=\"https://colab.research.google.com/assets/colab-badge.svg\" alt=\"Open In Colab\"/></a>"
   ]
  },
  {
   "cell_type": "markdown",
   "metadata": {
    "colab_type": "text",
    "id": "OagKCbtfd0uP"
   },
   "source": [
    "# DataFrame Access"
   ]
  },
  {
   "cell_type": "markdown",
   "metadata": {
    "colab_type": "text",
    "id": "NOiUPjiRd0uR"
   },
   "source": [
    "Execute the next frame.\n",
    "\n",
    "This will set up this notebook."
   ]
  },
  {
   "cell_type": "code",
   "execution_count": null,
   "metadata": {
    "colab": {},
    "colab_type": "code",
    "id": "Xt7Z3PnJd0uS"
   },
   "outputs": [],
   "source": [
    "import numpy as np\n",
    "import pandas as pd\n",
    "df = pd.read_csv(\"./iris-data-index-column.csv\", index_col=0, header=0)\n",
    "df"
   ]
  },
  {
   "cell_type": "markdown",
   "metadata": {
    "colab_type": "text",
    "id": "yR_7uY3md0uX"
   },
   "source": [
    "## Methods of Data Access\n",
    "\n",
    "* loc\n",
    "    - Uses labels for data access\n",
    "* iloc\n",
    "    - Uses numerical indexes for data access\n",
    "* Series\n",
    "    - Uses Series reference to access a column\n",
    "* Boolean filter\n"
   ]
  },
  {
   "cell_type": "markdown",
   "metadata": {
    "colab_type": "text",
    "id": "FcSpbCFfd0uY"
   },
   "source": [
    "## Using loc\n",
    "Execute the next set of cells to see how to use loc to access data."
   ]
  },
  {
   "cell_type": "code",
   "execution_count": null,
   "metadata": {
    "colab": {},
    "colab_type": "code",
    "id": "WTJuC43Qd0uZ"
   },
   "outputs": [],
   "source": [
    "df.loc[:,'Petal_Length']"
   ]
  },
  {
   "cell_type": "code",
   "execution_count": null,
   "metadata": {
    "colab": {},
    "colab_type": "code",
    "id": "G_5Ist5Od0uc"
   },
   "outputs": [],
   "source": [
    "df.loc[:, 'Sepal_Length':'Petal_Length']"
   ]
  },
  {
   "cell_type": "markdown",
   "metadata": {
    "colab_type": "text",
    "id": "zwNKu38Qd0ug"
   },
   "source": [
    "* Notice that the `:` is inclusive"
   ]
  },
  {
   "cell_type": "code",
   "execution_count": null,
   "metadata": {
    "colab": {},
    "colab_type": "code",
    "id": "i8eWouw0d0ug"
   },
   "outputs": [],
   "source": [
    "df.loc[:,['Petal_Length', 'Sepal_Length']]\n"
   ]
  },
  {
   "cell_type": "markdown",
   "metadata": {
    "colab_type": "text",
    "id": "G81wwBETd0uj"
   },
   "source": [
    "* Notice that the order of the columns can be changed"
   ]
  },
  {
   "cell_type": "code",
   "execution_count": null,
   "metadata": {
    "colab": {},
    "colab_type": "code",
    "id": "K6QHXslKd0ul"
   },
   "outputs": [],
   "source": [
    "df.loc['d1', ['Petal_Length', 'Sepal_Length']]"
   ]
  },
  {
   "cell_type": "code",
   "execution_count": null,
   "metadata": {
    "colab": {},
    "colab_type": "code",
    "id": "YwC4ps_2d0uq"
   },
   "outputs": [],
   "source": [
    "df.loc['d1':'a1', ['Petal_Length', 'Sepal_Length']]"
   ]
  },
  {
   "cell_type": "markdown",
   "metadata": {
    "colab_type": "text",
    "id": "Ox_JAlopd0uu"
   },
   "source": [
    "## Using iloc\n",
    "Execute the next set of cells to see how to use iloc to access data."
   ]
  },
  {
   "cell_type": "code",
   "execution_count": null,
   "metadata": {
    "colab": {},
    "colab_type": "code",
    "id": "RBMTRf3Id0uv"
   },
   "outputs": [],
   "source": [
    "df.iloc[:, 2]"
   ]
  },
  {
   "cell_type": "code",
   "execution_count": null,
   "metadata": {
    "colab": {},
    "colab_type": "code",
    "id": "jQ6TkTijd0uz"
   },
   "outputs": [],
   "source": [
    "df.iloc[:, 2:4]"
   ]
  },
  {
   "cell_type": "markdown",
   "metadata": {
    "colab_type": "text",
    "id": "gyH2ccUYd0u4"
   },
   "source": [
    "* Notice that the range is not inclusive which is different from loc"
   ]
  },
  {
   "cell_type": "code",
   "execution_count": null,
   "metadata": {
    "colab": {},
    "colab_type": "code",
    "id": "zlzhxqmXd0u5"
   },
   "outputs": [],
   "source": [
    "df.iloc[3, 2:4]"
   ]
  },
  {
   "cell_type": "markdown",
   "metadata": {
    "colab_type": "text",
    "id": "9B6I03k-d0u9"
   },
   "source": [
    "## Using Series\n",
    "Execute the next set of cells to see how to use Series to access data."
   ]
  },
  {
   "cell_type": "code",
   "execution_count": null,
   "metadata": {
    "colab": {},
    "colab_type": "code",
    "id": "oqDypfQkd0u-"
   },
   "outputs": [],
   "source": [
    "df.Petal_Length"
   ]
  },
  {
   "cell_type": "code",
   "execution_count": null,
   "metadata": {
    "colab": {},
    "colab_type": "code",
    "id": "Lm_GaHYBd0vB"
   },
   "outputs": [],
   "source": [
    "df.columns"
   ]
  },
  {
   "cell_type": "markdown",
   "metadata": {
    "colab_type": "text",
    "id": "SvEFxZOId0vE"
   },
   "source": [
    "* Notice that columns is a Series in a DataFrame"
   ]
  },
  {
   "cell_type": "code",
   "execution_count": null,
   "metadata": {
    "colab": {},
    "colab_type": "code",
    "id": "Vgw8aSItd0vF"
   },
   "outputs": [],
   "source": [
    "df.index"
   ]
  },
  {
   "cell_type": "markdown",
   "metadata": {
    "colab_type": "text",
    "id": "caTm63X8d0vH"
   },
   "source": [
    "* Notice that index is a Series in a DataFrame "
   ]
  },
  {
   "cell_type": "markdown",
   "metadata": {
    "colab_type": "text",
    "id": "uQgQjxmod0vI"
   },
   "source": [
    "## Boolean Column Selection"
   ]
  },
  {
   "cell_type": "code",
   "execution_count": null,
   "metadata": {
    "colab": {},
    "colab_type": "code",
    "id": "jnON50I1d0vJ"
   },
   "outputs": [],
   "source": [
    "df.loc[df['Class'] == 'Iris-setosa']"
   ]
  },
  {
   "cell_type": "code",
   "execution_count": null,
   "metadata": {
    "colab": {},
    "colab_type": "code",
    "id": "0WbEP4fGd0vM"
   },
   "outputs": [],
   "source": [
    "df.loc[df['Class'] == 'Iris-setosa', 'Sepal_Length']"
   ]
  },
  {
   "cell_type": "code",
   "execution_count": null,
   "metadata": {
    "colab": {},
    "colab_type": "code",
    "id": "PAzf99_fd0vP"
   },
   "outputs": [],
   "source": [
    "df.loc[(df['Class'] == 'Iris-setosa') | (df['Class'] == 'Iris-virginica')]"
   ]
  },
  {
   "cell_type": "code",
   "execution_count": null,
   "metadata": {
    "colab": {},
    "colab_type": "code",
    "id": "Z_G1dWRCd0vS"
   },
   "outputs": [],
   "source": [
    "df.loc[(df['Class'] == 'Iris-setosa') | (df['Class'] == 'Iris-virginica'), 'Sepal_Length']"
   ]
  },
  {
   "cell_type": "markdown",
   "metadata": {
    "colab_type": "text",
    "id": "dxn-gEMBd0vW"
   },
   "source": [
    "# End of notebook"
   ]
  },
  {
   "cell_type": "code",
   "execution_count": null,
   "metadata": {},
   "outputs": [],
   "source": []
  },
  {
   "cell_type": "code",
   "execution_count": null,
   "metadata": {},
   "outputs": [],
   "source": []
  }
 ],
 "metadata": {
  "colab": {
   "include_colab_link": true,
   "name": "03-02-Dataframe-Access.ipynb",
   "provenance": []
  },
  "kernelspec": {
   "display_name": "Python 3",
   "language": "python",
   "name": "python3"
  },
  "language_info": {
   "codemirror_mode": {
    "name": "ipython",
    "version": 3
   },
   "file_extension": ".py",
   "mimetype": "text/x-python",
   "name": "python",
   "nbconvert_exporter": "python",
   "pygments_lexer": "ipython3",
   "version": "3.7.3"
  }
 },
 "nbformat": 4,
 "nbformat_minor": 1
}
