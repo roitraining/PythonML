{
 "cells": [
  {
   "cell_type": "markdown",
   "metadata": {
    "colab_type": "text",
    "id": "view-in-github"
   },
   "source": [
    "<a href=\"https://colab.research.google.com/github/roitraining/PythonML/blob/master/Ch03-Pandas/03-04-DataFrame-Methods-and-Attributes.ipynb\" target=\"_parent\"><img src=\"https://colab.research.google.com/assets/colab-badge.svg\" alt=\"Open In Colab\"/></a>"
   ]
  },
  {
   "cell_type": "markdown",
   "metadata": {
    "colab_type": "text",
    "id": "kg-GVSascjBv"
   },
   "source": [
    "# DataFrame Methods and Attributes\n",
    "\n",
    "This is a collection of useful DataFrame methods found useful in Machine Learning. \n",
    "\n",
    "To see all of the available methods, go to [Method](http://pandas.pydata.org/pandas-docs/stable/generated/pandas.DataFrame.html) and search about 10 percent down the page."
   ]
  },
  {
   "cell_type": "markdown",
   "metadata": {
    "colab_type": "text",
    "id": "AnNdUDWZcjB0"
   },
   "source": [
    "Execute the cell below to set up this notebook."
   ]
  },
  {
   "cell_type": "code",
   "execution_count": null,
   "metadata": {
    "colab": {},
    "colab_type": "code",
    "id": "4FQm1094cjB1"
   },
   "outputs": [],
   "source": [
    "import numpy as np\n",
    "import pandas as pd\n",
    "df = pd.read_csv(\"./iris-data-column.csv\", header=0)\n",
    "df"
   ]
  },
  {
   "cell_type": "markdown",
   "metadata": {
    "colab_type": "text",
    "id": "uuvRfhGbcjB6"
   },
   "source": [
    "## Attributes\n",
    "Attributes can not be modified.\n",
    "\n",
    "Execute the frame below to see some of the attributes of a DataFrame.\n"
   ]
  },
  {
   "cell_type": "code",
   "execution_count": null,
   "metadata": {
    "colab": {},
    "colab_type": "code",
    "id": "7CiWOf6PcjB7"
   },
   "outputs": [],
   "source": [
    "df.head(n=2)"
   ]
  },
  {
   "cell_type": "markdown",
   "metadata": {
    "colab_type": "text",
    "id": "sPcWzb68cjB_"
   },
   "source": [
    "* The default for n is 10."
   ]
  },
  {
   "cell_type": "code",
   "execution_count": null,
   "metadata": {
    "colab": {},
    "colab_type": "code",
    "id": "YS5Dv2sHcjCA"
   },
   "outputs": [],
   "source": [
    "df.tail(n=2)"
   ]
  },
  {
   "cell_type": "markdown",
   "metadata": {
    "colab_type": "text",
    "id": "9IwdANCOcjCH"
   },
   "source": [
    "* The default is 10"
   ]
  },
  {
   "cell_type": "code",
   "execution_count": null,
   "metadata": {
    "colab": {},
    "colab_type": "code",
    "id": "6iHi0SL3cjCK"
   },
   "outputs": [],
   "source": [
    "df.shape"
   ]
  },
  {
   "cell_type": "markdown",
   "metadata": {
    "colab_type": "text",
    "id": "bG9fR3ctcjCS"
   },
   "source": [
    "* The return is a tuple showing the rows and columns of the data\n",
    "* You can access just the number of columns with `df.shape[1]`"
   ]
  },
  {
   "cell_type": "code",
   "execution_count": null,
   "metadata": {
    "colab": {},
    "colab_type": "code",
    "id": "jumAY3kfcjCX"
   },
   "outputs": [],
   "source": [
    "df.T"
   ]
  },
  {
   "cell_type": "markdown",
   "metadata": {
    "colab_type": "text",
    "id": "rMR_uTr1cjCf"
   },
   "source": [
    "* This transposes the rows and columns"
   ]
  },
  {
   "cell_type": "code",
   "execution_count": null,
   "metadata": {
    "colab": {},
    "colab_type": "code",
    "id": "c6AIS0SqcjCh"
   },
   "outputs": [],
   "source": [
    "df.values"
   ]
  },
  {
   "cell_type": "markdown",
   "metadata": {
    "colab_type": "text",
    "id": "YVwEbFH-cjCo"
   },
   "source": [
    "* This returns a numpy array—see more in Converting to Numpy Notebook"
   ]
  },
  {
   "cell_type": "code",
   "execution_count": null,
   "metadata": {
    "colab": {},
    "colab_type": "code",
    "id": "Imr1STY9cjCq"
   },
   "outputs": [],
   "source": [
    "df.as_matrix()"
   ]
  },
  {
   "cell_type": "markdown",
   "metadata": {
    "colab_type": "text",
    "id": "iX3hFtmBcjCx"
   },
   "source": [
    "* The above is the same as `df.values`.\n",
    "* With `.as_matrix` you can specify columns to transfer"
   ]
  },
  {
   "cell_type": "code",
   "execution_count": null,
   "metadata": {
    "colab": {},
    "colab_type": "code",
    "id": "lFxH-rGycjCz"
   },
   "outputs": [],
   "source": [
    "df.as_matrix(['Petal-Length', 'Sepal-Length'])"
   ]
  },
  {
   "cell_type": "code",
   "execution_count": null,
   "metadata": {
    "colab": {},
    "colab_type": "code",
    "id": "8LwwD8lncjC5"
   },
   "outputs": [],
   "source": [
    "help(df.mean)"
   ]
  },
  {
   "cell_type": "code",
   "execution_count": null,
   "metadata": {
    "colab": {},
    "colab_type": "code",
    "id": "M6lRB64zcjC8"
   },
   "outputs": [],
   "source": [
    "df.mean(axis=0, numeric_only=True)\n"
   ]
  },
  {
   "cell_type": "markdown",
   "metadata": {
    "colab_type": "text",
    "id": "QZ85cRLXcjC_"
   },
   "source": [
    "This seems a little counter intuitive\n",
    "* axis=0 does down the column - each row element is done\n",
    "* axix=1 does across the column - each row value is done"
   ]
  },
  {
   "cell_type": "code",
   "execution_count": null,
   "metadata": {
    "colab": {},
    "colab_type": "code",
    "id": "U4YZYreycjDA",
    "scrolled": true
   },
   "outputs": [],
   "source": [
    "df.std(axis=0)"
   ]
  },
  {
   "cell_type": "markdown",
   "metadata": {
    "colab_type": "text",
    "id": "X70VZI4GcjDE"
   },
   "source": [
    "This seems a little counter intuitive\n",
    "* axis=0 does down the column - each row element is done\n",
    "* axix=1 does across the column - each row value is done"
   ]
  },
  {
   "cell_type": "code",
   "execution_count": null,
   "metadata": {
    "colab": {},
    "colab_type": "code",
    "id": "cQbkiLgZcjDH"
   },
   "outputs": [],
   "source": [
    "df.sum(axis=0, numeric_only=True)"
   ]
  },
  {
   "cell_type": "code",
   "execution_count": null,
   "metadata": {
    "colab": {},
    "colab_type": "code",
    "id": "qRoDwTVIcjDK"
   },
   "outputs": [],
   "source": [
    "df.sum(axis=1, numeric_only=True)"
   ]
  },
  {
   "cell_type": "markdown",
   "metadata": {
    "colab_type": "text",
    "id": "GkytYXP8cjDO"
   },
   "source": [
    "* `.max, .min` all work the same way as `.sum`"
   ]
  },
  {
   "cell_type": "code",
   "execution_count": null,
   "metadata": {
    "colab": {},
    "colab_type": "code",
    "id": "Ma86JLCTcjDP"
   },
   "outputs": [],
   "source": [
    "df.describe()"
   ]
  },
  {
   "cell_type": "markdown",
   "metadata": {
    "colab_type": "text",
    "id": "rt6LvlMLcjDS"
   },
   "source": [
    "## Methods"
   ]
  },
  {
   "cell_type": "code",
   "execution_count": null,
   "metadata": {
    "colab": {},
    "colab_type": "code",
    "id": "09z9HLg3cjDT"
   },
   "outputs": [],
   "source": [
    "help(df.applymap)"
   ]
  },
  {
   "cell_type": "code",
   "execution_count": null,
   "metadata": {
    "colab": {},
    "colab_type": "code",
    "id": "lDCrzFkncjDZ"
   },
   "outputs": [],
   "source": [
    "ab = df.loc[:,['Sepal-Length']].applymap(lambda x: x + 10)\n",
    "ab"
   ]
  },
  {
   "cell_type": "markdown",
   "metadata": {
    "colab_type": "text",
    "id": "Hj7LTX61cjDd"
   },
   "source": [
    "* The `df.loc[:,['Sepal-Length']]` creates a new DataFrame\n",
    "    - THIS RETURNS A NEW DATAFRAME\n",
    "    - The [ ] around the is required - without the [ ] a Series is create and `.applymap` is define only for DataFrame"
   ]
  },
  {
   "cell_type": "code",
   "execution_count": null,
   "metadata": {
    "colab": {},
    "colab_type": "code",
    "id": "urhcigXOcjDf"
   },
   "outputs": [],
   "source": [
    "help(df['Class'].map)"
   ]
  },
  {
   "cell_type": "code",
   "execution_count": null,
   "metadata": {
    "colab": {},
    "colab_type": "code",
    "id": "1paQvThtcjDp"
   },
   "outputs": [],
   "source": [
    "df['Class'].map"
   ]
  },
  {
   "cell_type": "markdown",
   "metadata": {
    "colab_type": "text",
    "id": "B7XZ8P3WcjDs"
   },
   "source": [
    "* This `.map` method works on Series. It is repeated here because it is so often used in Machine Learning. "
   ]
  },
  {
   "cell_type": "code",
   "execution_count": null,
   "metadata": {
    "colab": {},
    "colab_type": "code",
    "id": "9G92JXBqcjDt"
   },
   "outputs": [],
   "source": [
    "aq = df['Class'].map({'Iris-setosa':0,\\\n",
    "                               'Iris-versicolor':1,\\\n",
    "                               'Iris-virginica':2})\n",
    "aq"
   ]
  },
  {
   "cell_type": "code",
   "execution_count": null,
   "metadata": {
    "colab": {},
    "colab_type": "code",
    "id": "hYeZobEMcjD2"
   },
   "outputs": [],
   "source": [
    "df['Class'] = aq\n",
    "df"
   ]
  },
  {
   "cell_type": "markdown",
   "metadata": {
    "colab_type": "text",
    "id": "3s-u3wVmcjD8"
   },
   "source": [
    "# End of notebook"
   ]
  },
  {
   "cell_type": "code",
   "execution_count": null,
   "metadata": {},
   "outputs": [],
   "source": []
  }
 ],
 "metadata": {
  "colab": {
   "include_colab_link": true,
   "name": "03-04-DataFrame-Methods-and-Attributes.ipynb",
   "provenance": []
  },
  "kernelspec": {
   "display_name": "Python 3",
   "language": "python",
   "name": "python3"
  },
  "language_info": {
   "codemirror_mode": {
    "name": "ipython",
    "version": 3
   },
   "file_extension": ".py",
   "mimetype": "text/x-python",
   "name": "python",
   "nbconvert_exporter": "python",
   "pygments_lexer": "ipython3",
   "version": "3.7.3"
  }
 },
 "nbformat": 4,
 "nbformat_minor": 1
}
