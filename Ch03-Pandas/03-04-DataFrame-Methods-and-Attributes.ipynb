{
  "nbformat": 4,
  "nbformat_minor": 0,
  "metadata": {
    "kernelspec": {
      "display_name": "Python 3",
      "language": "python",
      "name": "python3"
    },
    "language_info": {
      "codemirror_mode": {
        "name": "ipython",
        "version": 3
      },
      "file_extension": ".py",
      "mimetype": "text/x-python",
      "name": "python",
      "nbconvert_exporter": "python",
      "pygments_lexer": "ipython3",
      "version": "3.7.3"
    },
    "colab": {
      "name": "03-04-DataFrame-Methods-and-Attributes.ipynb",
      "provenance": [],
      "include_colab_link": true
    }
  },
  "cells": [
    {
      "cell_type": "markdown",
      "metadata": {
        "id": "view-in-github",
        "colab_type": "text"
      },
      "source": [
        "<a href=\"https://colab.research.google.com/github/roitraining/PythonML/blob/master/Ch03-Pandas/03-04-DataFrame-Methods-and-Attributes.ipynb\" target=\"_parent\"><img src=\"https://colab.research.google.com/assets/colab-badge.svg\" alt=\"Open In Colab\"/></a>"
      ]
    },
    {
      "cell_type": "markdown",
      "metadata": {
        "id": "kg-GVSascjBv",
        "colab_type": "text"
      },
      "source": [
        "# DataFrame Methods and Attributes\n",
        "\n",
        "This is a collection of useful DataFrame methods found useful in Machine Learning. \n",
        "\n",
        "To see all of the available methods, go to [Method](http://pandas.pydata.org/pandas-docs/stable/generated/pandas.DataFrame.html) and search about 10 percent down the page."
      ]
    },
    {
      "cell_type": "markdown",
      "metadata": {
        "id": "AnNdUDWZcjB0",
        "colab_type": "text"
      },
      "source": [
        "Execute the cell below to set up this notebook."
      ]
    },
    {
      "cell_type": "code",
      "metadata": {
        "id": "4FQm1094cjB1",
        "colab_type": "code",
        "colab": {}
      },
      "source": [
        "import numpy as np\n",
        "import pandas as pd\n",
        "df = pd.read_csv(\"./iris-data-column.csv\", header=0)\n",
        "df"
      ],
      "execution_count": 0,
      "outputs": []
    },
    {
      "cell_type": "markdown",
      "metadata": {
        "id": "uuvRfhGbcjB6",
        "colab_type": "text"
      },
      "source": [
        "## Attributes\n",
        "Attributes can not be modified.\n",
        "\n",
        "Execute the frame below to see some of the attributes of a DataFrame.\n"
      ]
    },
    {
      "cell_type": "code",
      "metadata": {
        "id": "7CiWOf6PcjB7",
        "colab_type": "code",
        "colab": {}
      },
      "source": [
        "df.head(n=2)"
      ],
      "execution_count": 0,
      "outputs": []
    },
    {
      "cell_type": "markdown",
      "metadata": {
        "id": "sPcWzb68cjB_",
        "colab_type": "text"
      },
      "source": [
        "* The default for n is 10."
      ]
    },
    {
      "cell_type": "code",
      "metadata": {
        "id": "YS5Dv2sHcjCA",
        "colab_type": "code",
        "colab": {}
      },
      "source": [
        "df.tail(n=2)"
      ],
      "execution_count": 0,
      "outputs": []
    },
    {
      "cell_type": "markdown",
      "metadata": {
        "id": "9IwdANCOcjCH",
        "colab_type": "text"
      },
      "source": [
        "* The default is 10"
      ]
    },
    {
      "cell_type": "code",
      "metadata": {
        "id": "6iHi0SL3cjCK",
        "colab_type": "code",
        "colab": {}
      },
      "source": [
        "df.shape"
      ],
      "execution_count": 0,
      "outputs": []
    },
    {
      "cell_type": "markdown",
      "metadata": {
        "id": "bG9fR3ctcjCS",
        "colab_type": "text"
      },
      "source": [
        "* The return is a tuple showing the rows and columns of the data\n",
        "* You can access just the number of columns with `df.shape[1]`"
      ]
    },
    {
      "cell_type": "code",
      "metadata": {
        "id": "jumAY3kfcjCX",
        "colab_type": "code",
        "colab": {}
      },
      "source": [
        "df.T"
      ],
      "execution_count": 0,
      "outputs": []
    },
    {
      "cell_type": "markdown",
      "metadata": {
        "id": "rMR_uTr1cjCf",
        "colab_type": "text"
      },
      "source": [
        "* This transposes the rows and columns"
      ]
    },
    {
      "cell_type": "code",
      "metadata": {
        "id": "c6AIS0SqcjCh",
        "colab_type": "code",
        "colab": {}
      },
      "source": [
        "df.values"
      ],
      "execution_count": 0,
      "outputs": []
    },
    {
      "cell_type": "markdown",
      "metadata": {
        "id": "YVwEbFH-cjCo",
        "colab_type": "text"
      },
      "source": [
        "* This returns a numpy array—see more in Converting to Numpy Notebook"
      ]
    },
    {
      "cell_type": "code",
      "metadata": {
        "id": "Imr1STY9cjCq",
        "colab_type": "code",
        "colab": {}
      },
      "source": [
        "df.as_matrix()"
      ],
      "execution_count": 0,
      "outputs": []
    },
    {
      "cell_type": "markdown",
      "metadata": {
        "id": "iX3hFtmBcjCx",
        "colab_type": "text"
      },
      "source": [
        "* The above is the same as `df.values`.\n",
        "* With `.as_matrix` you can specify columns to transfer"
      ]
    },
    {
      "cell_type": "code",
      "metadata": {
        "id": "lFxH-rGycjCz",
        "colab_type": "code",
        "colab": {}
      },
      "source": [
        "df.as_matrix(['Petal-Length', 'Sepal-Length'])"
      ],
      "execution_count": 0,
      "outputs": []
    },
    {
      "cell_type": "code",
      "metadata": {
        "id": "8LwwD8lncjC5",
        "colab_type": "code",
        "colab": {}
      },
      "source": [
        "help(df.mean)"
      ],
      "execution_count": 0,
      "outputs": []
    },
    {
      "cell_type": "code",
      "metadata": {
        "id": "M6lRB64zcjC8",
        "colab_type": "code",
        "colab": {}
      },
      "source": [
        "df.mean(axis=0, numeric_only=True)\n"
      ],
      "execution_count": 0,
      "outputs": []
    },
    {
      "cell_type": "markdown",
      "metadata": {
        "id": "QZ85cRLXcjC_",
        "colab_type": "text"
      },
      "source": [
        "This seems a little counter intuitive\n",
        "* axis=0 does down the column - each row element is done\n",
        "* axix=1 does across the column - each row value is done"
      ]
    },
    {
      "cell_type": "code",
      "metadata": {
        "scrolled": true,
        "id": "U4YZYreycjDA",
        "colab_type": "code",
        "colab": {}
      },
      "source": [
        "df.std(axis=0)"
      ],
      "execution_count": 0,
      "outputs": []
    },
    {
      "cell_type": "markdown",
      "metadata": {
        "id": "X70VZI4GcjDE",
        "colab_type": "text"
      },
      "source": [
        "This seems a little counter intuitive\n",
        "* axis=0 does down the column - each row element is done\n",
        "* axix=1 does across the column - each row value is done"
      ]
    },
    {
      "cell_type": "code",
      "metadata": {
        "id": "cQbkiLgZcjDH",
        "colab_type": "code",
        "colab": {}
      },
      "source": [
        "df.sum(axis=0, numeric_only=True)"
      ],
      "execution_count": 0,
      "outputs": []
    },
    {
      "cell_type": "code",
      "metadata": {
        "id": "qRoDwTVIcjDK",
        "colab_type": "code",
        "colab": {}
      },
      "source": [
        "df.sum(axis=1, numeric_only=True)"
      ],
      "execution_count": 0,
      "outputs": []
    },
    {
      "cell_type": "markdown",
      "metadata": {
        "id": "GkytYXP8cjDO",
        "colab_type": "text"
      },
      "source": [
        "* `.max, .min` all work the same way as `.sum`"
      ]
    },
    {
      "cell_type": "code",
      "metadata": {
        "id": "Ma86JLCTcjDP",
        "colab_type": "code",
        "colab": {}
      },
      "source": [
        "df.describe()"
      ],
      "execution_count": 0,
      "outputs": []
    },
    {
      "cell_type": "markdown",
      "metadata": {
        "id": "rt6LvlMLcjDS",
        "colab_type": "text"
      },
      "source": [
        "## Methods"
      ]
    },
    {
      "cell_type": "code",
      "metadata": {
        "id": "09z9HLg3cjDT",
        "colab_type": "code",
        "colab": {}
      },
      "source": [
        "help(df.applymap)"
      ],
      "execution_count": 0,
      "outputs": []
    },
    {
      "cell_type": "code",
      "metadata": {
        "id": "lDCrzFkncjDZ",
        "colab_type": "code",
        "colab": {}
      },
      "source": [
        "ab = df.loc[:,['Sepal-Length']].applymap(lambda x: x + 10)\n",
        "ab"
      ],
      "execution_count": 0,
      "outputs": []
    },
    {
      "cell_type": "markdown",
      "metadata": {
        "id": "Hj7LTX61cjDd",
        "colab_type": "text"
      },
      "source": [
        "* The `df.loc[:,['Sepal-Length']]` creates a new DataFrame\n",
        "    - THIS RETURNS A NEW DATAFRAME\n",
        "    - The [ ] around the is required - without the [ ] a Series is create and `.applymap` is define only for DataFrame"
      ]
    },
    {
      "cell_type": "code",
      "metadata": {
        "id": "urhcigXOcjDf",
        "colab_type": "code",
        "colab": {}
      },
      "source": [
        "help(df['Class'].map)"
      ],
      "execution_count": 0,
      "outputs": []
    },
    {
      "cell_type": "code",
      "metadata": {
        "id": "1paQvThtcjDp",
        "colab_type": "code",
        "colab": {}
      },
      "source": [
        "df['Class'].map"
      ],
      "execution_count": 0,
      "outputs": []
    },
    {
      "cell_type": "markdown",
      "metadata": {
        "id": "B7XZ8P3WcjDs",
        "colab_type": "text"
      },
      "source": [
        "* This `.map` method works on Series. It is repeated here because it is so often used in Machine Learning. "
      ]
    },
    {
      "cell_type": "code",
      "metadata": {
        "id": "9G92JXBqcjDt",
        "colab_type": "code",
        "colab": {}
      },
      "source": [
        "aq = df['Class'].map({'Iris-setosa':0,\\\n",
        "                               'Iris-versicolor':1,\\\n",
        "                               'Iris-virginica':2})\n",
        "aq"
      ],
      "execution_count": 0,
      "outputs": []
    },
    {
      "cell_type": "code",
      "metadata": {
        "id": "hYeZobEMcjD2",
        "colab_type": "code",
        "colab": {}
      },
      "source": [
        "df['Class'] = aq\n",
        "df"
      ],
      "execution_count": 0,
      "outputs": []
    },
    {
      "cell_type": "markdown",
      "metadata": {
        "id": "3s-u3wVmcjD8",
        "colab_type": "text"
      },
      "source": [
        "# End of notebook"
      ]
    }
  ]
}