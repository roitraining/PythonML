{
 "cells": [
  {
   "cell_type": "markdown",
   "metadata": {
    "colab_type": "text",
    "id": "view-in-github"
   },
   "source": [
    "<a href=\"https://colab.research.google.com/github/roitraining/PythonML/blob/Development/Ch06-ClusterAnalysis/06-01-ClusterAnalysis.ipynb\" target=\"_parent\"><img src=\"https://colab.research.google.com/assets/colab-badge.svg\" alt=\"Open In Colab\"/></a>"
   ]
  },
  {
   "cell_type": "markdown",
   "metadata": {
    "colab_type": "text",
    "id": "2SftnAf9kz44"
   },
   "source": [
    "# Let's create a random data set with two features and three clusters"
   ]
  },
  {
   "cell_type": "code",
   "execution_count": null,
   "metadata": {
    "colab": {},
    "colab_type": "code",
    "id": "j4PBOdBbkz5K"
   },
   "outputs": [],
   "source": [
    "import numpy as np\n",
    "from sklearn.cluster import KMeans\n",
    "from sklearn.datasets import make_blobs\n",
    "\n",
    "# Creating a sample dataset with 4 clusters\n",
    "x, y = make_blobs(n_samples=400, n_features=2, centers=3)\n",
    "print (x[:5]) # shape location\n",
    "print (y[:5]) # cluster member\n",
    "\n"
   ]
  },
  {
   "cell_type": "markdown",
   "metadata": {
    "colab_type": "text",
    "id": "WfgLfS9Fkz5l"
   },
   "source": [
    "## Plot it just to visualize it first"
   ]
  },
  {
   "cell_type": "code",
   "execution_count": null,
   "metadata": {
    "colab": {},
    "colab_type": "code",
    "id": "bLOUIX7zkz5u"
   },
   "outputs": [],
   "source": [
    "%matplotlib inline\n",
    "import matplotlib.pyplot as plt\n",
    "plt.rcParams['figure.figsize'] = (16, 9)\n",
    "plt.plot(x[:,0],x[:,1],'o')\n",
    "plt.show()\n"
   ]
  },
  {
   "cell_type": "markdown",
   "metadata": {
    "colab_type": "text",
    "id": "gh45c8f4kz6C"
   },
   "source": [
    "## Run a cluster model"
   ]
  },
  {
   "cell_type": "code",
   "execution_count": null,
   "metadata": {
    "colab": {},
    "colab_type": "code",
    "id": "T7JXhyPVkz6J"
   },
   "outputs": [],
   "source": [
    "from sklearn import cluster\n",
    "CLUSTERS = 3\n",
    "k_means = cluster.KMeans(n_clusters=CLUSTERS)\n",
    "k_means.fit(x)"
   ]
  },
  {
   "cell_type": "markdown",
   "metadata": {
    "colab_type": "text",
    "id": "3thzYHA_kz6Z"
   },
   "source": [
    "## Plot using the cluster analysis results"
   ]
  },
  {
   "cell_type": "code",
   "execution_count": null,
   "metadata": {
    "colab": {},
    "colab_type": "code",
    "id": "Y8VdZnHskz6a"
   },
   "outputs": [],
   "source": [
    "%matplotlib inline\n",
    "labels = k_means.labels_\n",
    "centroids = k_means.cluster_centers_\n",
    "\n",
    "for i in range(CLUSTERS):\n",
    "    ds = x[np.where(labels==i)]\n",
    "    # plot the data observations\n",
    "    plt.plot(ds[:,0],ds[:,1],'o')\n",
    "    # plot the centroids\n",
    "    lines = plt.plot(centroids[i,0],centroids[i,1],'kx')\n",
    "plt.show()\n",
    "\n"
   ]
  },
  {
   "cell_type": "markdown",
   "metadata": {
    "colab_type": "text",
    "id": "csjnMPMSkz6h"
   },
   "source": [
    "## Use the elbow chart to help figure out how many clusters you should use"
   ]
  },
  {
   "cell_type": "code",
   "execution_count": null,
   "metadata": {
    "colab": {},
    "colab_type": "code",
    "id": "vaOxe8Lnkz6k"
   },
   "outputs": [],
   "source": [
    "def plot_elbow(data, cluster_cnt = 6):\n",
    "   CLUSTERS = range(1, cluster_cnt)\n",
    "   kmeans = [cluster.KMeans(n_clusters=i) for i in CLUSTERS]\n",
    "\n",
    "   score = [kmeans[i].fit(data).score(data) for i in range(len(kmeans))]\n",
    "   plt.plot(CLUSTERS ,score)\n",
    "   plt.xlabel('Number of Clusters')\n",
    "   plt.ylabel('Score')\n",
    "   plt.title('Elbow Curve')\n",
    "   plt.show()\n",
    "\n",
    "plot_elbow(x)"
   ]
  },
  {
   "cell_type": "code",
   "execution_count": null,
   "metadata": {
    "colab": {},
    "colab_type": "code",
    "id": "I-6ZvIuEkz6r",
    "scrolled": false
   },
   "outputs": [],
   "source": [
    "%matplotlib inline\n",
    "\n",
    "def silhouette_plot(data, count = 6):\n",
    "   from sklearn.datasets import make_blobs\n",
    "   from sklearn.cluster import KMeans\n",
    "   from sklearn.metrics import silhouette_samples, silhouette_score\n",
    "\n",
    "   import matplotlib.pyplot as plt\n",
    "   import matplotlib.cm as cm\n",
    "   import numpy as np\n",
    "\n",
    "# Generating the sample data from make_blobs\n",
    "# This particular setting has one distinct cluster and 3 clusters placed close\n",
    "# together.\n",
    "#X, y = make_blobs(n_samples=500, n_features=2, centers=4, cluster_std=1, center_box=(-10.0, 10.0), shuffle=True, random_state=1)  # For reproducibility\n",
    "\n",
    "   range_n_clusters = range(2, count + 1)\n",
    "\n",
    "   for n_clusters in range_n_clusters:\n",
    "       # Create a subplot with 1 row and 2 columns\n",
    "       fig, (ax1, ax2) = plt.subplots(1, 2)\n",
    "       fig.set_size_inches(18, 7)\n",
    "\n",
    "       # The 1st subplot is the silhouette plot\n",
    "       # The silhouette coefficient can range from -1, 1 but in this example all\n",
    "       # lie within [-0.1, 1]\n",
    "       ax1.set_xlim([-0.1, 1])\n",
    "       # The (n_clusters+1)*10 is for inserting blank space between silhouette\n",
    "       # plots of individual clusters, to demarcate them clearly.\n",
    "       ax1.set_ylim([0, len(data) + (n_clusters + 1) * 10])\n",
    "\n",
    "       # Initialize the clusterer with n_clusters value and a random generator\n",
    "       # seed of 10 for reproducibility.\n",
    "       clusterer = KMeans(n_clusters=n_clusters, random_state=10)\n",
    "       cluster_labels = clusterer.fit_predict(data)\n",
    "\n",
    "       # The silhouette_score gives the average value for all the samples.\n",
    "       # This gives a perspective into the density and separation of the formed\n",
    "       # clusters\n",
    "       silhouette_avg = silhouette_score(data, cluster_labels)\n",
    "       print(\"For n_clusters =\", n_clusters, \"The average silhouette_score is :\", silhouette_avg)\n",
    "\n",
    "       # Compute the silhouette scores for each sample\n",
    "       sample_silhouette_values = silhouette_samples(data, cluster_labels)\n",
    "\n",
    "       y_lower = 10\n",
    "       for i in range(n_clusters):\n",
    "           # Aggregate the silhouette scores for samples belonging to\n",
    "           # cluster i, and sort them\n",
    "           ith_cluster_silhouette_values = sample_silhouette_values[cluster_labels == i]\n",
    "\n",
    "           ith_cluster_silhouette_values.sort()\n",
    "\n",
    "           size_cluster_i = ith_cluster_silhouette_values.shape[0]\n",
    "           y_upper = y_lower + size_cluster_i\n",
    "\n",
    "           color = cm.nipy_spectral(float(i) / n_clusters)\n",
    "           ax1.fill_betweenx(np.arange(y_lower, y_upper), 0, ith_cluster_silhouette_values, facecolor=color, edgecolor=color, alpha=0.7)\n",
    "\n",
    "           # Label the silhouette plots with their cluster numbers at the middle\n",
    "           ax1.text(-0.05, y_lower + 0.5 * size_cluster_i, str(i))\n",
    "\n",
    "           # Compute the new y_lower for next plot\n",
    "           y_lower = y_upper + 10  # 10 for the 0 samples\n",
    "\n",
    "       ax1.set_title(\"The silhouette plot for the various clusters.\")\n",
    "       ax1.set_xlabel(\"The silhouette coefficient values\")\n",
    "       ax1.set_ylabel(\"Cluster label\")\n",
    "\n",
    "       # The vertical line for average silhouette score of all the values\n",
    "       ax1.axvline(x=silhouette_avg, color=\"red\", linestyle=\"--\")\n",
    "\n",
    "       ax1.set_yticks([])  # Clear the yaxis labels / ticks\n",
    "       ax1.set_xticks([-0.1, 0, 0.2, 0.4, 0.6, 0.8, 1])\n",
    "\n",
    "       # 2nd Plot showing the actual clusters formed\n",
    "       colors = cm.nipy_spectral(cluster_labels.astype(float) / n_clusters)\n",
    "       ax2.scatter(data[:, 0], data[:, 1], marker='.', s=30, lw=0, alpha=0.7, c=colors, edgecolor='k')\n",
    "\n",
    "       # Labeling the clusters\n",
    "       centers = clusterer.cluster_centers_\n",
    "       # Draw white circles at cluster centers\n",
    "       ax2.scatter(centers[:, 0], centers[:, 1], marker='o', c=\"white\", alpha=1, s=200, edgecolor='k')\n",
    "\n",
    "       for i, c in enumerate(centers):\n",
    "           ax2.scatter(c[0], c[1], marker='$%d$' % i, alpha=1, s=50, edgecolor='k')\n",
    "\n",
    "       ax2.set_title(\"The visualization of the clustered data.\")\n",
    "       ax2.set_xlabel(\"Feature space for the 1st feature\")\n",
    "       ax2.set_ylabel(\"Feature space for the 2nd feature\")\n",
    "\n",
    "       plt.suptitle((\"Silhouette analysis for KMeans clustering on sample data with n_clusters = %d\" % n_clusters), fontsize=14, fontweight='bold')\n",
    "\n",
    "   plt.show()\n",
    "\n",
    "silhouette_plot(x, 6)\n"
   ]
  },
  {
   "cell_type": "code",
   "execution_count": null,
   "metadata": {
    "colab": {},
    "colab_type": "code",
    "id": "FYkvcOnikz6v"
   },
   "outputs": [],
   "source": [
    "import numpy as np\n",
    "import matplotlib.pyplot as plt\n",
    "from mpl_toolkits.mplot3d import Axes3D\n",
    "from sklearn.cluster import KMeans\n",
    "from sklearn.datasets import make_blobs\n",
    "\n",
    "plt.rcParams['figure.figsize'] = (16, 9)\n",
    "\n",
    "# Creating a sample dataset with 4 clusters\n",
    "x2, y2 = make_blobs(n_samples=400, n_features=3, centers=4)\n",
    "print (x2) # shape location\n",
    "print (y2) # cluster member\n"
   ]
  },
  {
   "cell_type": "code",
   "execution_count": null,
   "metadata": {
    "colab": {},
    "colab_type": "code",
    "id": "utdgut_xkz60"
   },
   "outputs": [],
   "source": [
    "%matplotlib inline\n",
    "fig = plt.figure()\n",
    "ax = Axes3D(fig)\n",
    "ax.scatter(x2[:, 0], x2[:, 1], x2[:, 2])\n"
   ]
  },
  {
   "cell_type": "code",
   "execution_count": null,
   "metadata": {
    "colab": {},
    "colab_type": "code",
    "id": "_4p1l8jukz64"
   },
   "outputs": [],
   "source": [
    "plot_elbow(x2)"
   ]
  },
  {
   "cell_type": "code",
   "execution_count": null,
   "metadata": {
    "colab": {},
    "colab_type": "code",
    "id": "jRr3Bnxjkz67"
   },
   "outputs": [],
   "source": [
    "%matplotlib inline\n",
    "CLUSTERS = 4\n",
    "kmeans = cluster.KMeans(n_clusters=CLUSTERS)\n",
    "kmeans = kmeans.fit(x2)\n",
    "labels = kmeans.predict(x2)\n",
    "C = kmeans.cluster_centers_\n",
    "\n",
    "fig = plt.figure()\n",
    "ax = Axes3D(fig)\n",
    "ax.scatter(x2[:, 0], x2[:, 1], x2[:, 2], c=labels)\n",
    "ax.scatter(C[:, 0], C[:, 1], C[:, 2], c='#050505', s=1000)\n",
    "\n"
   ]
  },
  {
   "cell_type": "code",
   "execution_count": null,
   "metadata": {
    "colab": {},
    "colab_type": "code",
    "id": "c9EzNCrYkz7A",
    "scrolled": false
   },
   "outputs": [],
   "source": [
    "silhouette_plot(x2, 6)\n"
   ]
  },
  {
   "cell_type": "code",
   "execution_count": null,
   "metadata": {
    "colab": {},
    "colab_type": "code",
    "id": "lQ5RTwPEkz7E"
   },
   "outputs": [],
   "source": [
    "%matplotlib inline\n",
    "x, y = make_blobs(n_samples=10, n_features=2, centers=3)\n",
    "print (x)\n",
    "print (y)\n",
    "from scipy.cluster.hierarchy import dendrogram, linkage\n",
    "z = linkage(x, 'ward')\n",
    "dendrogram(z, leaf_rotation = 90, leaf_font_size=12)"
   ]
  },
  {
   "cell_type": "markdown",
   "metadata": {
    "colab_type": "text",
    "id": "g03s5IGHlQez"
   },
   "source": [
    "#End of notebook"
   ]
  }
 ],
 "metadata": {
  "colab": {
   "include_colab_link": true,
   "name": "06-01-ClusterAnalysis.ipynb",
   "provenance": []
  },
  "kernelspec": {
   "display_name": "Python 3",
   "language": "python",
   "name": "python3"
  },
  "language_info": {
   "codemirror_mode": {
    "name": "ipython",
    "version": 3
   },
   "file_extension": ".py",
   "mimetype": "text/x-python",
   "name": "python",
   "nbconvert_exporter": "python",
   "pygments_lexer": "ipython3",
   "version": "3.7.3"
  }
 },
 "nbformat": 4,
 "nbformat_minor": 1
}
