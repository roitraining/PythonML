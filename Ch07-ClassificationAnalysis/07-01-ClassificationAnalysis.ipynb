{
 "cells": [
  {
   "cell_type": "markdown",
   "metadata": {
    "colab_type": "text",
    "id": "view-in-github"
   },
   "source": [
    "<a href=\"https://colab.research.google.com/github/roitraining/PythonML/blob/Development/Ch07-ClassificationAnalysis/07-01-ClassificationAnalysis.ipynb\" target=\"_parent\"><img src=\"https://colab.research.google.com/assets/colab-badge.svg\" alt=\"Open In Colab\"/></a>"
   ]
  },
  {
   "cell_type": "markdown",
   "metadata": {
    "colab_type": "text",
    "id": "DftlMhfXlhNI"
   },
   "source": [
    "## Combine the multiple files into one big CSV since we could not load a large file to GitHub."
   ]
  },
  {
   "cell_type": "code",
   "execution_count": null,
   "metadata": {
    "colab": {},
    "colab_type": "code",
    "id": "U79c08g9lhNK"
   },
   "outputs": [],
   "source": [
    "! ./combine.sh"
   ]
  },
  {
   "cell_type": "markdown",
   "metadata": {
    "colab_type": "text",
    "id": "PCx-mtOzlhNP"
   },
   "source": [
    "### Read in a set of data and examine it"
   ]
  },
  {
   "cell_type": "code",
   "execution_count": 1,
   "metadata": {
    "colab": {},
    "colab_type": "code",
    "id": "JYKsqCNglhNR"
   },
   "outputs": [
    {
     "name": "stdout",
     "output_type": "stream",
     "text": [
      "(6362620, 11) Index(['step', 'type', 'amount', 'nameOrig', 'oldbalanceOrg', 'newbalanceOrig',\n",
      "       'nameDest', 'oldbalanceDest', 'newbalanceDest', 'isFraud',\n",
      "       'isFlaggedFraud'],\n",
      "      dtype='object')\n",
      "   step      type    amount     nameOrig  oldbalanceOrg  newbalanceOrig  \\\n",
      "0     1   PAYMENT   9839.64  C1231006815       170136.0       160296.36   \n",
      "1     1   PAYMENT   1864.28  C1666544295        21249.0        19384.72   \n",
      "2     1  TRANSFER    181.00  C1305486145          181.0            0.00   \n",
      "3     1  CASH_OUT    181.00   C840083671          181.0            0.00   \n",
      "4     1   PAYMENT  11668.14  C2048537720        41554.0        29885.86   \n",
      "\n",
      "      nameDest  oldbalanceDest  newbalanceDest  isFraud  isFlaggedFraud  \n",
      "0  M1979787155             0.0             0.0        0               0  \n",
      "1  M2044282225             0.0             0.0        0               0  \n",
      "2   C553264065             0.0             0.0        1               0  \n",
      "3    C38997010         21182.0             0.0        1               0  \n",
      "4  M1230701703             0.0             0.0        0               0  \n",
      "0    6354407\n",
      "1       8213\n",
      "Name: isFraud, dtype: int64\n",
      "CASH_OUT    2237500\n",
      "PAYMENT     2151495\n",
      "CASH_IN     1399284\n",
      "TRANSFER     532909\n",
      "DEBIT         41432\n",
      "Name: type, dtype: int64\n"
     ]
    }
   ],
   "source": [
    "import pandas as pd\n",
    "df = pd.read_csv('CreditCardFraud.csv')\n",
    "\n",
    "print (df.shape, df.columns)\n",
    "train_size = .3\n",
    "test_size = .1\n",
    "\n",
    "print (df.head())\n",
    "print (df.isFraud.value_counts())\n",
    "print (df.type.value_counts())\n"
   ]
  },
  {
   "cell_type": "markdown",
   "metadata": {
    "colab_type": "text",
    "id": "8mn1AZlPlhNW"
   },
   "source": [
    "### Keep the columns we want and change the type to code numbers instead"
   ]
  },
  {
   "cell_type": "code",
   "execution_count": 2,
   "metadata": {
    "colab": {},
    "colab_type": "code",
    "id": "lz3S1g6elhNX"
   },
   "outputs": [
    {
     "name": "stdout",
     "output_type": "stream",
     "text": [
      "(6362620, 8) Index(['type', 'amount', 'oldbalanceOrg', 'newbalanceOrig', 'oldbalanceDest',\n",
      "       'newbalanceDest', 'isFlaggedFraud', 'isFraud'],\n",
      "      dtype='object')\n",
      "   type    amount  oldbalanceOrg  newbalanceOrig  oldbalanceDest  \\\n",
      "0     3   9839.64       170136.0       160296.36             0.0   \n",
      "1     3   1864.28        21249.0        19384.72             0.0   \n",
      "2     4    181.00          181.0            0.00             0.0   \n",
      "3     1    181.00          181.0            0.00         21182.0   \n",
      "4     3  11668.14        41554.0        29885.86             0.0   \n",
      "\n",
      "   newbalanceDest  isFlaggedFraud  isFraud  \n",
      "0             0.0               0        0  \n",
      "1             0.0               0        0  \n",
      "2             0.0               0        1  \n",
      "3             0.0               0        1  \n",
      "4             0.0               0        0  \n"
     ]
    }
   ],
   "source": [
    "columns = ['type', 'amount', 'oldbalanceOrg', 'newbalanceOrig', 'oldbalanceDest', 'newbalanceDest', 'isFlaggedFraud', 'isFraud']\n",
    "df = df[columns]\n",
    "df.type = pd.Categorical(df.type).codes\n",
    "print (df.shape, df.columns)\n",
    "print (df.head())\n"
   ]
  },
  {
   "cell_type": "markdown",
   "metadata": {
    "colab_type": "text",
    "id": "FKQQPPfflhNb"
   },
   "source": [
    "### Prepare train & test sets with desired columns"
   ]
  },
  {
   "cell_type": "code",
   "execution_count": 3,
   "metadata": {
    "colab": {},
    "colab_type": "code",
    "id": "oF8rjfsJlhNd"
   },
   "outputs": [
    {
     "name": "stdout",
     "output_type": "stream",
     "text": [
      "0    635433\n",
      "1       829\n",
      "Name: isFraud, dtype: int64\n",
      "0    0.998693\n",
      "1    0.001307\n",
      "Name: isFraud, dtype: float64\n",
      "0    0.998697\n",
      "1    0.001303\n",
      "Name: isFraud, dtype: float64\n",
      "         type     amount  oldbalanceOrg  newbalanceOrig  oldbalanceDest  \\\n",
      "2327414     1  136938.55       18376.00            0.00       105620.28   \n",
      "1896001     0   59389.36      403899.81       463289.16       204496.15   \n",
      "3226767     1  588237.18           0.00            0.00      1224002.98   \n",
      "3898408     1  323341.49      129188.00            0.00            0.00   \n",
      "5541150     0  112824.80     8679346.72      8792171.52       915599.52   \n",
      "359735      3    8621.89      507737.38       499115.49            0.00   \n",
      "1275778     3   30565.79        4062.00            0.00            0.00   \n",
      "3318416     3    4537.35         802.00            0.00            0.00   \n",
      "5911080     3    2835.01       40046.00        37210.99            0.00   \n",
      "3311456     1   77418.25           0.00            0.00       461174.21   \n",
      "\n",
      "         newbalanceDest  isFlaggedFraud  \n",
      "2327414       242558.83               0  \n",
      "1896001       145106.79               0  \n",
      "3226767      1812240.16               0  \n",
      "3898408       323341.49               0  \n",
      "5541150       802774.72               0  \n",
      "359735             0.00               0  \n",
      "1275778            0.00               0  \n",
      "3318416            0.00               0  \n",
      "5911080            0.00               0  \n",
      "3311456       538592.46               0  \n"
     ]
    }
   ],
   "source": [
    "from sklearn.model_selection import train_test_split\n",
    "from sklearn import preprocessing as pp\n",
    "dfNB = df\n",
    "trainNB_X, testNB_X, trainNB_Y, testNB_Y = train_test_split(dfNB[dfNB.columns[:-1]], dfNB.isFraud, train_size = train_size, test_size = test_size)\n",
    "print (testNB_Y.value_counts())\n",
    "print(trainNB_Y.value_counts()/trainNB_Y.count())\n",
    "print(testNB_Y.value_counts()/testNB_Y.count())\n",
    "print (trainNB_X[:10])"
   ]
  },
  {
   "cell_type": "markdown",
   "metadata": {
    "colab_type": "text",
    "id": "kusVp-VnlhNg"
   },
   "source": [
    "## Create a Naive Bayes model"
   ]
  },
  {
   "cell_type": "code",
   "execution_count": 4,
   "metadata": {
    "colab": {},
    "colab_type": "code",
    "id": "iOMjiVP9lhNh"
   },
   "outputs": [
    {
     "data": {
      "text/plain": [
       "GaussianNB(priors=None, var_smoothing=1e-09)"
      ]
     },
     "execution_count": 4,
     "metadata": {},
     "output_type": "execute_result"
    }
   ],
   "source": [
    "from sklearn.naive_bayes import GaussianNB\n",
    "modelNB = GaussianNB()\n",
    "modelNB.fit(trainNB_X, trainNB_Y)"
   ]
  },
  {
   "cell_type": "markdown",
   "metadata": {
    "colab_type": "text",
    "id": "zIHKzxzrlhNm"
   },
   "source": [
    "### Examine the results of Naive Bayes"
   ]
  },
  {
   "cell_type": "code",
   "execution_count": 8,
   "metadata": {
    "colab": {},
    "colab_type": "code",
    "id": "Gu9BVBrrlhNo"
   },
   "outputs": [
    {
     "name": "stdout",
     "output_type": "stream",
     "text": [
      "[[629075   6358]\n",
      " [   688    141]]\n",
      " PC FP\n",
      " FN PW\n",
      "[[98.89259456  0.99927388]\n",
      " [ 0.10813156  1.10740544]]\n",
      "0    635433\n",
      "1       829\n",
      "Name: isFraud, dtype: int64\n",
      "636262\n"
     ]
    }
   ],
   "source": [
    "predNB_Y = modelNB.predict(testNB_X)\n",
    "from sklearn.metrics import confusion_matrix\n",
    "cm = confusion_matrix(testNB_Y, predNB_Y)\n",
    "print (cm)\n",
    "\n",
    "# helper function to print confusion matrix as percentages\n",
    "def cm_percent(cm, length, legend = True):\n",
    "    import numpy as np\n",
    "    if legend:\n",
    "       print (' PC', 'FP\\n', 'FN', 'PW')\n",
    "    return np.ndarray(shape = (2,2), buffer = np.array([100 *(cm[0][0] + cm[1][1])/length,\n",
    "       100 * cm[0][1]/length, 100 * cm[1][0]/length, 100 * (cm[1][0] + cm[0][1])/length]))\n",
    "\n",
    "cmp = cm_percent(cm, len(testNB_Y))\n",
    "print (cmp)\n",
    "print (testNB_Y.value_counts())\n",
    "print (len(testNB_Y))\n"
   ]
  },
  {
   "cell_type": "markdown",
   "metadata": {
    "colab_type": "text",
    "id": "K9_n3marlhNs"
   },
   "source": [
    "## Save a trained model"
   ]
  },
  {
   "cell_type": "code",
   "execution_count": 9,
   "metadata": {
    "colab": {},
    "colab_type": "code",
    "id": "M7Zr_8WklhNt"
   },
   "outputs": [
    {
     "data": {
      "text/plain": [
       "['modelNB.joblib']"
      ]
     },
     "execution_count": 9,
     "metadata": {},
     "output_type": "execute_result"
    }
   ],
   "source": [
    "from joblib import dump, load\n",
    "dump(modelNB, 'modelNB.joblib') \n"
   ]
  },
  {
   "cell_type": "markdown",
   "metadata": {
    "colab_type": "text",
    "id": "LJWFouMwlhNw"
   },
   "source": [
    "## Load a saved model"
   ]
  },
  {
   "cell_type": "code",
   "execution_count": 10,
   "metadata": {
    "colab": {},
    "colab_type": "code",
    "id": "OMBMLAFOlhNy"
   },
   "outputs": [
    {
     "name": "stdout",
     "output_type": "stream",
     "text": [
      "[[629075   6358]\n",
      " [   688    141]]\n",
      " PC FP\n",
      " FN PW\n",
      "[[98.89259456  0.99927388]\n",
      " [ 0.10813156  1.10740544]]\n"
     ]
    }
   ],
   "source": [
    "modelNB2 = load('modelNB.joblib')\n",
    "predNB_Y = modelNB2.predict(testNB_X)\n",
    "cm = confusion_matrix(testNB_Y, predNB_Y)\n",
    "print (cm)\n",
    "cmp = cm_percent(cm, len(testNB_Y))\n",
    "print (cmp)"
   ]
  },
  {
   "cell_type": "markdown",
   "metadata": {
    "colab_type": "text",
    "id": "vnIYVeFzlhN3"
   },
   "source": [
    "## Train the Decision Tree model"
   ]
  },
  {
   "cell_type": "code",
   "execution_count": 11,
   "metadata": {
    "colab": {},
    "colab_type": "code",
    "id": "vIMBWf5zlhN5"
   },
   "outputs": [
    {
     "data": {
      "text/plain": [
       "DecisionTreeClassifier(class_weight=None, criterion='gini', max_depth=None,\n",
       "                       max_features=None, max_leaf_nodes=None,\n",
       "                       min_impurity_decrease=0.0, min_impurity_split=None,\n",
       "                       min_samples_leaf=1, min_samples_split=2,\n",
       "                       min_weight_fraction_leaf=0.0, presort=False,\n",
       "                       random_state=None, splitter='best')"
      ]
     },
     "execution_count": 11,
     "metadata": {},
     "output_type": "execute_result"
    }
   ],
   "source": [
    "from sklearn.tree import DecisionTreeClassifier\n",
    "dfDT = df\n",
    "trainDT_X, testDT_X, trainDT_Y, testDT_Y = train_test_split(dfDT[dfDT.columns[:-1]], dfDT.isFraud, train_size = train_size, test_size = test_size)\n",
    "\n",
    "modelDT = DecisionTreeClassifier()\n",
    "modelDT.fit(trainDT_X, trainDT_Y)\n"
   ]
  },
  {
   "cell_type": "markdown",
   "metadata": {
    "colab_type": "text",
    "id": "l6EblXsClhN8"
   },
   "source": [
    "## Examine the results of the Decision Tree"
   ]
  },
  {
   "cell_type": "code",
   "execution_count": 13,
   "metadata": {
    "colab": {},
    "colab_type": "code",
    "id": "XB47qZLplhN-"
   },
   "outputs": [
    {
     "name": "stdout",
     "output_type": "stream",
     "text": [
      "[[635345    131]\n",
      " [   131    655]]\n",
      " PC FP\n",
      " FN PW\n",
      "[[9.99588220e+01 2.05890026e-02]\n",
      " [2.05890026e-02 4.11780053e-02]]\n",
      "0    635476\n",
      "1       786\n",
      "Name: isFraud, dtype: int64 636262\n",
      "                Importance\n",
      "oldbalanceOrg     0.370316\n",
      "newbalanceDest    0.326360\n",
      "amount            0.156908\n",
      "oldbalanceDest    0.095893\n",
      "newbalanceOrig    0.034789\n",
      "type              0.015734\n",
      "isFlaggedFraud    0.000000\n"
     ]
    }
   ],
   "source": [
    "def important_features(model, columns):\n",
    "    return pd.DataFrame(model.feature_importances_, columns=['Importance'], index = columns).sort_values(['Importance'], ascending = False)\n",
    " \n",
    "predDT_Y = modelDT.predict(testDT_X)\n",
    "from sklearn.metrics import confusion_matrix\n",
    "cm = confusion_matrix(testDT_Y, predDT_Y)\n",
    "print (cm)\n",
    "print (cm_percent(cm, len(testDT_Y)))\n",
    "print (testDT_Y.value_counts(), len(testDT_Y))\n",
    "print (important_features(modelDT, trainDT_X.columns))\n",
    "\n"
   ]
  },
  {
   "cell_type": "markdown",
   "metadata": {
    "colab_type": "text",
    "id": "GFqHSW1nlhOd"
   },
   "source": [
    "## Prepare the data\n",
    "### Logistic Regression requires categorical data be dummy encoded"
   ]
  },
  {
   "cell_type": "code",
   "execution_count": 14,
   "metadata": {
    "colab": {},
    "colab_type": "code",
    "id": "mRaTpXWMlhOe",
    "scrolled": true
   },
   "outputs": [
    {
     "name": "stdout",
     "output_type": "stream",
     "text": [
      "Index(['type_1', 'type_2', 'type_3', 'type_4', 'amount', 'oldbalanceOrg',\n",
      "       'newbalanceOrig', 'oldbalanceDest', 'newbalanceDest', 'isFlaggedFraud'],\n",
      "      dtype='object')\n",
      "         type_1  type_2  type_3  type_4     amount  oldbalanceOrg  \\\n",
      "4546386       1       0       0       0   60346.15        14571.0   \n",
      "2280455       0       0       1       0   10521.02        22122.0   \n",
      "2663654       1       0       0       0   20258.00        11291.0   \n",
      "4128164       1       0       0       0   62313.19        53388.0   \n",
      "5631664       1       0       0       0  104905.07            0.0   \n",
      "\n",
      "         newbalanceOrig  oldbalanceDest  newbalanceDest  isFlaggedFraud  \n",
      "4546386            0.00      4555931.19      4616277.34               0  \n",
      "2280455        11600.98            0.00            0.00               0  \n",
      "2663654            0.00            0.00        20258.00               0  \n",
      "4128164            0.00            0.00        62313.19               0  \n",
      "5631664            0.00      7325877.82      7430782.89               0  \n"
     ]
    }
   ],
   "source": [
    "from sklearn.model_selection import train_test_split\n",
    "from sklearn import preprocessing as pp\n",
    "def dummy_code(data, columns, drop_first = True):\n",
    "    for c in columns:\n",
    "        dummies = pd.get_dummies(data[c], prefix = c, drop_first = drop_first)\n",
    "        i = list(data.columns).index(c)\n",
    "        data = pd.concat([data.iloc[:,:i], dummies, data.iloc[:,i+1:]], axis = 1)\n",
    "    return data\n",
    "\n",
    "dfLR = dummy_code(df, ['type'], drop_first = True)\n",
    "trainLR_X, testLR_X, trainLR_Y, testLR_Y = train_test_split(dfLR.iloc[:,dfLR.columns != 'isFraud'], dfLR.isFraud, train_size = train_size, test_size = test_size)\n",
    "\n",
    "print (testLR_X.columns)\n",
    "print (testLR_X.head())\n"
   ]
  },
  {
   "cell_type": "markdown",
   "metadata": {
    "colab_type": "text",
    "id": "_jje5i7zlhOn"
   },
   "source": [
    "## Create a Logistic Regression model"
   ]
  },
  {
   "cell_type": "code",
   "execution_count": 15,
   "metadata": {
    "colab": {},
    "colab_type": "code",
    "id": "4hcmFoNIlhOq"
   },
   "outputs": [
    {
     "name": "stdout",
     "output_type": "stream",
     "text": [
      "[[-2.81392131e-08 -2.30118401e-09 -3.95224200e-07 -1.00092908e-09\n",
      "  -9.68265456e-04  9.73410542e-04 -1.04630614e-03  1.64908602e-06\n",
      "  -3.59127043e-06  8.80763091e-12]]\n"
     ]
    }
   ],
   "source": [
    "from sklearn.linear_model import LogisticRegression\n",
    "modelLR = LogisticRegression(multi_class='auto', solver='lbfgs')\n",
    "modelLR.fit(trainLR_X, trainLR_Y)\n",
    "print(modelLR.coef_)"
   ]
  },
  {
   "cell_type": "markdown",
   "metadata": {
    "colab_type": "text",
    "id": "eQBvfbCilhOt"
   },
   "source": [
    "## Examine the results of Logistic Regression"
   ]
  },
  {
   "cell_type": "code",
   "execution_count": 18,
   "metadata": {
    "colab": {},
    "colab_type": "code",
    "id": "O7gJdlFelhOu"
   },
   "outputs": [
    {
     "name": "stdout",
     "output_type": "stream",
     "text": [
      "0.9972527040747365 0.002747295925263492\n",
      "[[633865   1576]\n",
      " [   172    649]]\n",
      " PC FP\n",
      " FN PW\n",
      "[[9.97252704e+01 2.47696704e-01]\n",
      " [2.70328890e-02 2.74729593e-01]]\n"
     ]
    },
    {
     "data": {
      "image/png": "[encoded data removed]",
      "text/plain": [
       "<Figure size 432x288 with 1 Axes>"
      ]
     },
     "metadata": {
      "needs_background": "light"
     },
     "output_type": "display_data"
    }
   ],
   "source": [
    "%matplotlib inline\n",
    "import numpy as np\n",
    "predLR_Y = modelLR.predict(testLR_X)\n",
    "from sklearn.metrics import confusion_matrix\n",
    "score = modelLR.score(testLR_X, testLR_Y)\n",
    "mse = np.mean((predLR_Y - testLR_Y)**2)\n",
    "print (score, mse)\n",
    "\n",
    "cm = confusion_matrix(testLR_Y, predLR_Y)\n",
    "print (cm)\n",
    "cmp = cm_percent(cm, len(testLR_Y))\n",
    "print (cmp)\n",
    "\n",
    "predLR_Y1 = modelLR.predict_proba(testLR_X)\n",
    "\n",
    "from sklearn.metrics import roc_auc_score, roc_curve\n",
    "roc = roc_auc_score(testLR_Y, predLR_Y)\n",
    "fpr, tpr, x = roc_curve(testLR_Y, predLR_Y1[:,1])\n",
    "\n",
    "import matplotlib.pyplot as plt\n",
    "plt.plot(fpr, tpr, label = 'AUC = ' + str(roc))\n",
    "plt.legend(loc=4)\n",
    "plt.show()\n",
    "\n",
    "#import scikitplot.metrics as skplt\n",
    "#import matplotlib.pyplot as plt\n",
    "#skplt.plot_roc(testY, predY1)\n",
    "#plt.show()\n"
   ]
  },
  {
   "cell_type": "markdown",
   "metadata": {
    "colab_type": "text",
    "id": "mTgCGR1XlhOy"
   },
   "source": [
    "## Try Logistic Regression with different probability thresholds to change ratio of false negatives and positives"
   ]
  },
  {
   "cell_type": "code",
   "execution_count": 24,
   "metadata": {
    "colab": {},
    "colab_type": "code",
    "id": "5CcSOW6YlhOz"
   },
   "outputs": [
    {
     "name": "stdout",
     "output_type": "stream",
     "text": [
      "[[1.00000000e+000 7.02402543e-024]\n",
      " [6.88159690e-001 3.11840310e-001]\n",
      " [9.99832958e-001 1.67042439e-004]\n",
      " [9.99814274e-001 1.85726193e-004]\n",
      " [1.00000000e+000 3.49361046e-051]\n",
      " [9.42716681e-001 5.72833189e-002]\n",
      " [1.00000000e+000 8.83277726e-131]\n",
      " [6.80630022e-001 3.19369978e-001]\n",
      " [1.00000000e+000 0.00000000e+000]\n",
      " [1.00000000e+000 6.94775521e-072]]\n",
      "Score 0.9972527040747365\n",
      "\n",
      "THRESHOLD 30 MSE 0.0006255284772625114\n",
      "[[635439      2]\n",
      " [   396    425]]\n",
      "[[9.99374472e+01 3.14335918e-04]\n",
      " [6.22385118e-02 6.25528477e-02]]\n",
      "\n",
      "THRESHOLD 40 MSE 0.0005202259446580183\n",
      "[[635427     14]\n",
      " [   317    504]]\n",
      "[[9.99479774e+01 2.20035143e-03]\n",
      " [4.98222430e-02 5.20225945e-02]]\n",
      "\n",
      "THRESHOLD 50 MSE 0.002747295925263492\n",
      "[[633865   1576]\n",
      " [   172    649]]\n",
      "[[9.97252704e+01 2.47696704e-01]\n",
      " [2.70328890e-02 2.74729593e-01]]\n",
      "\n",
      "THRESHOLD 60 MSE 0.02395868368690885\n",
      "[[620329  15112]\n",
      " [   132    689]]\n",
      "[[9.76041316e+01 2.37512220e+00]\n",
      " [2.07461706e-02 2.39586837e+00]]\n",
      "\n",
      "THRESHOLD 70 MSE 0.045990488195114594\n",
      "[[606297  29144]\n",
      " [   118    703]]\n",
      "[[9.54009512e+01 4.58050300e+00]\n",
      " [1.85458192e-02 4.59904882e+00]]\n",
      "\n",
      "THRESHOLD 80 MSE 0.0688945748763874\n",
      "[[591700  43741]\n",
      " [    94    727]]\n",
      "[[9.31105425e+01 6.87468370e+00]\n",
      " [1.47737882e-02 6.88945749e+00]]\n",
      "\n",
      "THRESHOLD 90 MSE 0.09753529206521841\n",
      "[[573452  61989]\n",
      " [    69    752]]\n",
      "[[9.02464708e+01 9.74268462e+00]\n",
      " [1.08445892e-02 9.75352921e+00]]\n"
     ]
    }
   ],
   "source": [
    "predLR_Y = modelLR.predict_proba(testLR_X)\n",
    "print (predLR_Y[:10])\n",
    "print ('Score', modelLR.score(testLR_X, testLR_Y))\n",
    "\n",
    "for threshold in range(30, 91, 10):\n",
    "    predLR_Y1 = np.where(predLR_Y[:,0] >= threshold/100, 0, 1)\n",
    "    mse = np.mean((predLR_Y1 - testLR_Y)**2)\n",
    "    cm = confusion_matrix(testLR_Y, predLR_Y1)\n",
    "    print ('\\nTHRESHOLD', threshold, 'MSE', mse)\n",
    "    print (cm)\n",
    "    print (cm_percent(cm, len(testLR_Y), legend = False))\n"
   ]
  },
  {
   "cell_type": "markdown",
   "metadata": {
    "colab_type": "text",
    "id": "t2zNQoQblhO6"
   },
   "source": [
    "## Prepare the data for a Neural Network\n",
    "### This time you should not drop the first column when dummy encoding. Additionally, data works better if it is rescaled."
   ]
  },
  {
   "cell_type": "code",
   "execution_count": 25,
   "metadata": {
    "colab": {},
    "colab_type": "code",
    "id": "W28T7EjClhO7"
   },
   "outputs": [
    {
     "name": "stdout",
     "output_type": "stream",
     "text": [
      "Index(['type_0', 'type_1', 'type_2', 'type_3', 'type_4', 'amount',\n",
      "       'oldbalanceOrg', 'newbalanceOrig', 'oldbalanceDest', 'newbalanceDest',\n",
      "       'isFlaggedFraud', 'isFraud'],\n",
      "      dtype='object')\n"
     ]
    }
   ],
   "source": [
    "from sklearn.model_selection import train_test_split\n",
    "from sklearn import preprocessing as pp\n",
    "# rescale the data\n",
    "dfNN = dummy_code(df, ['type'], drop_first = False)\n",
    "print (dfNN.columns)\n",
    "dfNN[['amount',  'oldbalanceOrg', 'newbalanceOrig', 'oldbalanceDest', 'newbalanceDest']] /= dfNN[['amount',  'oldbalanceOrg', 'newbalanceOrig', 'oldbalanceDest', 'newbalanceDest']].max()\n",
    "trainNN_X, testNN_X, trainNN_Y, testNN_Y = train_test_split(dfNN.iloc[:,dfNN.columns != 'isFraud'], dfNN.isFraud, train_size = train_size, test_size = test_size)\n",
    "\n"
   ]
  },
  {
   "cell_type": "markdown",
   "metadata": {
    "colab_type": "text",
    "id": "tcfBRlA8lhPC"
   },
   "source": [
    "## Create a Neural Network model"
   ]
  },
  {
   "cell_type": "code",
   "execution_count": 26,
   "metadata": {
    "colab": {},
    "colab_type": "code",
    "id": "0HnUlj-TlhPD"
   },
   "outputs": [
    {
     "data": {
      "text/plain": [
       "MLPClassifier(activation='logistic', alpha=0.0001, batch_size='auto',\n",
       "              beta_1=0.9, beta_2=0.999, early_stopping=False, epsilon=1e-08,\n",
       "              hidden_layer_sizes=(5, 3, 2), learning_rate='constant',\n",
       "              learning_rate_init=0.001, max_iter=200, momentum=0.9,\n",
       "              n_iter_no_change=10, nesterovs_momentum=True, power_t=0.5,\n",
       "              random_state=None, shuffle=True, solver='adam', tol=0.0001,\n",
       "              validation_fraction=0.1, verbose=False, warm_start=False)"
      ]
     },
     "execution_count": 26,
     "metadata": {},
     "output_type": "execute_result"
    }
   ],
   "source": [
    "from sklearn.neural_network import MLPClassifier\n",
    "modelNN = MLPClassifier(hidden_layer_sizes = (5, 3, 2), activation = 'logistic')\n",
    "modelNN.fit(trainNN_X, trainNN_Y)"
   ]
  },
  {
   "cell_type": "markdown",
   "metadata": {
    "colab_type": "text",
    "id": "eyo1DTHYlhPJ"
   },
   "source": [
    "## Examine the results of Neural Network predictions"
   ]
  },
  {
   "cell_type": "code",
   "execution_count": 27,
   "metadata": {
    "colab": {},
    "colab_type": "code",
    "id": "0WD0s5Z0lhPL"
   },
   "outputs": [
    {
     "name": "stdout",
     "output_type": "stream",
     "text": [
      "[[635388     34]\n",
      " [   536    304]]\n",
      " PC FP\n",
      " FN PW\n",
      "[[9.99104143e+01 5.34371061e-03]\n",
      " [8.42420261e-02 8.95857367e-02]]\n"
     ]
    }
   ],
   "source": [
    "predNN_Y = modelNN.predict(testNN_X)\n",
    "cm = confusion_matrix(testNN_Y, predNN_Y)\n",
    "print (cm)\n",
    "cmp = cm_percent(cm, len(testNN_Y))\n",
    "print (cmp)\n"
   ]
  },
  {
   "cell_type": "markdown",
   "metadata": {
    "colab_type": "text",
    "id": "_SWOc1o2lhPO"
   },
   "source": [
    "## Create a SVM model"
   ]
  },
  {
   "cell_type": "code",
   "execution_count": 28,
   "metadata": {
    "colab": {},
    "colab_type": "code",
    "id": "QNuyggKylhPQ"
   },
   "outputs": [
    {
     "name": "stdout",
     "output_type": "stream",
     "text": [
      "\n",
      "Kernel: linear Gamma: auto\n",
      "0.998444056768353\n",
      "[[63528     0]\n",
      " [   99     0]]\n",
      "\n",
      "Kernel: rbf Gamma: auto\n",
      "0.998444056768353\n",
      "[[63528     0]\n",
      " [   99     0]]\n",
      "\n",
      "Kernel: rbf Gamma: 10\n",
      "0.998648372546246\n",
      "[[63528     0]\n",
      " [   86    13]]\n",
      "\n",
      "Kernel: rbf Gamma: 100\n",
      "0.9987898219309412\n",
      "[[63528     0]\n",
      " [   77    22]]\n",
      "\n",
      "Kernel: poly Gamma: auto\n",
      "0.998444056768353\n",
      "[[63528     0]\n",
      " [   99     0]]\n",
      "\n",
      "Kernel: poly Gamma: 10\n",
      "0.9990570041020321\n",
      "[[63528     0]\n",
      " [   60    39]]\n",
      "\n",
      "Kernel: sigmoid Gamma: auto\n",
      "0.998444056768353\n",
      "[[63528     0]\n",
      " [   99     0]]\n",
      "\n",
      "Kernel: sigmoid Gamma: 10\n",
      "0.9979725588193691\n",
      "[[63498    30]\n",
      " [   99     0]]\n",
      "\n",
      "Kernel: sigmoid Gamma: 100\n",
      "0.9975167774686847\n",
      "[[63469    59]\n",
      " [   99     0]]\n"
     ]
    }
   ],
   "source": [
    "from sklearn import svm\n",
    "train_size = .03\n",
    "test_size = .01\n",
    "dfSVM = dfNN\n",
    "trainSVM_X, testSVM_X, trainSVM_Y, testSVM_Y = train_test_split(dfSVM.iloc[:,dfSVM.columns != 'isFraud'], dfSVM.isFraud, train_size = train_size, test_size = test_size)\n",
    "\n",
    "def do_SVM(kernel, gamma):\n",
    "    print (\"\\nKernel:\", kernel, \"Gamma:\", gamma)\n",
    "    modelSVM = svm.SVC(gamma = gamma,  kernel = kernel)\n",
    "    modelSVM.fit(trainSVM_X, trainSVM_Y)\n",
    "    print (modelSVM.score(testSVM_X, testSVM_Y))\n",
    "\n",
    "    predSVM_Y = modelSVM.predict(testSVM_X)\n",
    "    cm = confusion_matrix(testSVM_Y, predSVM_Y)\n",
    "    print (cm)\n",
    "\n",
    "do_SVM('linear', gamma='auto')\n",
    "\n",
    "for kernel in ['rbf', 'poly', 'sigmoid']:\n",
    "    for gamma in ['auto', 10, 100]:\n",
    "        if not (kernel == 'poly' and gamma == 100):\n",
    "           do_SVM(kernel, gamma)\n",
    "\n"
   ]
  },
  {
   "cell_type": "code",
   "execution_count": 43,
   "metadata": {
    "colab": {},
    "colab_type": "code",
    "id": "P7TSdxMAlhPb"
   },
   "outputs": [
    {
     "name": "stdout",
     "output_type": "stream",
     "text": [
      "0.9987898219309412\n",
      "[[63528     0]\n",
      " [   77    22]]\n"
     ]
    }
   ],
   "source": [
    "modelSVM = svm.SVC(gamma = 100)\n",
    "modelSVM.fit(trainSVM_X, trainSVM_Y)\n",
    "print(modelSVM.score(testSVM_X, testSVM_Y))\n",
    "predSVM_Y = modelSVM.predict(testSVM_X)\n",
    "print(confusion_matrix(testSVM_Y, predSVM_Y ))\n"
   ]
  },
  {
   "cell_type": "markdown",
   "metadata": {},
   "source": [
    "## Ensemble Learning"
   ]
  },
  {
   "cell_type": "markdown",
   "metadata": {
    "colab_type": "text",
    "id": "ZEVweEHXlhOB"
   },
   "source": [
    "## Create and train a Random Forest Classifier"
   ]
  },
  {
   "cell_type": "code",
   "execution_count": 33,
   "metadata": {
    "colab": {},
    "colab_type": "code",
    "id": "To_f6JTWlhOC"
   },
   "outputs": [
    {
     "data": {
      "text/plain": [
       "RandomForestClassifier(bootstrap=True, class_weight=None, criterion='gini',\n",
       "                       max_depth=None, max_features='auto', max_leaf_nodes=None,\n",
       "                       min_impurity_decrease=0.0, min_impurity_split=None,\n",
       "                       min_samples_leaf=1, min_samples_split=2,\n",
       "                       min_weight_fraction_leaf=0.0, n_estimators=10,\n",
       "                       n_jobs=None, oob_score=False, random_state=None,\n",
       "                       verbose=0, warm_start=False)"
      ]
     },
     "execution_count": 33,
     "metadata": {},
     "output_type": "execute_result"
    }
   ],
   "source": [
    "from sklearn.ensemble import RandomForestClassifier\n",
    "modelRF = RandomForestClassifier(n_estimators=10)\n",
    "trainRF_X, trainRF_Y, testRF_X, testRF_Y = trainDT_X, trainDT_Y, testDT_X, testDT_Y\n",
    "modelRF.fit(trainRF_X, trainRF_Y)"
   ]
  },
  {
   "cell_type": "markdown",
   "metadata": {
    "colab_type": "text",
    "id": "lycJ3JJZlhOI"
   },
   "source": [
    "## Test the accuracy of the predictions and examine important features"
   ]
  },
  {
   "cell_type": "code",
   "execution_count": 34,
   "metadata": {
    "colab": {},
    "colab_type": "code",
    "id": "-4yKn4pklhOJ"
   },
   "outputs": [
    {
     "name": "stdout",
     "output_type": "stream",
     "text": [
      "Accuracy: 0.9996227968981332\n",
      "[[635451     25]\n",
      " [   215    571]]\n",
      "oldbalanceOrg     0.344967\n",
      "newbalanceDest    0.295017\n",
      "amount            0.165853\n",
      "oldbalanceDest    0.076471\n",
      "type              0.067617\n",
      "newbalanceOrig    0.050074\n",
      "isFlaggedFraud    0.000000\n",
      "dtype: float64\n"
     ]
    }
   ],
   "source": [
    "predRF_Y = modelRF.predict(testRF_X)\n",
    "from sklearn import metrics\n",
    "print (\"Accuracy:\",metrics.accuracy_score(testRF_Y, predRF_Y))\n",
    "cm = confusion_matrix(testRF_Y, predRF_Y)\n",
    "print (cm)\n",
    "\n",
    "import pandas as pd\n",
    "feature_imp = pd.Series(modelRF.feature_importances_,index=trainRF_X.columns).sort_values(ascending=False)\n",
    "print (feature_imp)"
   ]
  },
  {
   "cell_type": "markdown",
   "metadata": {
    "colab_type": "text",
    "id": "_Iqv4i89lhOM"
   },
   "source": [
    "## Visualize important features"
   ]
  },
  {
   "cell_type": "code",
   "execution_count": 35,
   "metadata": {
    "colab": {},
    "colab_type": "code",
    "id": "gLly66iulhON"
   },
   "outputs": [
    {
     "name": "stderr",
     "output_type": "stream",
     "text": [
      "No handles with labels found to put in legend.\n"
     ]
    },
    {
     "data": {
      "image/png": "[encoded data removed]",
      "text/plain": [
       "<Figure size 432x288 with 1 Axes>"
      ]
     },
     "metadata": {
      "needs_background": "light"
     },
     "output_type": "display_data"
    }
   ],
   "source": [
    "import matplotlib.pyplot as plt\n",
    "import seaborn as sns\n",
    "%matplotlib inline\n",
    "# Creating a bar plot\n",
    "sns.barplot(x=feature_imp, y=feature_imp.index)\n",
    "# Add labels to your graph\n",
    "plt.xlabel('Feature Importance Score')\n",
    "plt.ylabel('Features')\n",
    "plt.title(\"Visualizing Important Features\")\n",
    "plt.legend()\n",
    "plt.show()\n"
   ]
  },
  {
   "cell_type": "markdown",
   "metadata": {
    "colab_type": "text",
    "id": "-bGX1pYklhOR"
   },
   "source": [
    "## Try removing less important features and retrain it"
   ]
  },
  {
   "cell_type": "code",
   "execution_count": 36,
   "metadata": {
    "colab": {},
    "colab_type": "code",
    "id": "TtPKVlDKlhOS"
   },
   "outputs": [
    {
     "data": {
      "text/plain": [
       "RandomForestClassifier(bootstrap=True, class_weight=None, criterion='gini',\n",
       "                       max_depth=None, max_features='auto', max_leaf_nodes=None,\n",
       "                       min_impurity_decrease=0.0, min_impurity_split=None,\n",
       "                       min_samples_leaf=1, min_samples_split=2,\n",
       "                       min_weight_fraction_leaf=0.0, n_estimators=10,\n",
       "                       n_jobs=None, oob_score=False, random_state=None,\n",
       "                       verbose=0, warm_start=False)"
      ]
     },
     "execution_count": 36,
     "metadata": {},
     "output_type": "execute_result"
    }
   ],
   "source": [
    "newTrainRF_X = trainRF_X[['newbalanceDest', 'oldbalanceOrg', 'amount', 'oldbalanceDest']]\n",
    "newTestRF_X = testRF_X[['newbalanceDest', 'oldbalanceOrg', 'amount', 'oldbalanceDest']]\n",
    "from sklearn.ensemble import RandomForestClassifier\n",
    "modelRF = RandomForestClassifier(n_estimators=10)\n",
    "modelRF.fit(newTrainRF_X, trainRF_Y)"
   ]
  },
  {
   "cell_type": "markdown",
   "metadata": {
    "colab_type": "text",
    "id": "BhtCXClKlhOY"
   },
   "source": [
    "### In this case the accuracy did not go up, but in many cases it does"
   ]
  },
  {
   "cell_type": "code",
   "execution_count": 37,
   "metadata": {
    "colab": {},
    "colab_type": "code",
    "id": "UhFbYZ2slhOa"
   },
   "outputs": [
    {
     "name": "stdout",
     "output_type": "stream",
     "text": [
      "Accuracy: 0.9993383228921419\n",
      "[[635412     64]\n",
      " [   357    429]]\n",
      "oldbalanceOrg     0.411746\n",
      "amount            0.366195\n",
      "newbalanceDest    0.146907\n",
      "oldbalanceDest    0.075152\n",
      "dtype: float64\n"
     ]
    }
   ],
   "source": [
    "newpredRF_Y = modelRF.predict(newTestRF_X)\n",
    "from sklearn import metrics\n",
    "print (\"Accuracy:\",metrics.accuracy_score(testRF_Y, newpredRF_Y))\n",
    "cm = confusion_matrix(testRF_Y, newpredRF_Y)\n",
    "print (cm)\n",
    "\n",
    "import pandas as pd\n",
    "feature_imp = pd.Series(modelRF.feature_importances_,index=newTrainRF_X.columns).sort_values(ascending=False)\n",
    "print (feature_imp)"
   ]
  },
  {
   "cell_type": "code",
   "execution_count": 40,
   "metadata": {
    "colab": {},
    "colab_type": "code",
    "id": "Lh0Dviv-lhPg"
   },
   "outputs": [
    {
     "data": {
      "text/plain": [
       "VotingClassifier(estimators=[('dt',\n",
       "                              DecisionTreeClassifier(class_weight=None,\n",
       "                                                     criterion='gini',\n",
       "                                                     max_depth=None,\n",
       "                                                     max_features=None,\n",
       "                                                     max_leaf_nodes=None,\n",
       "                                                     min_impurity_decrease=0.0,\n",
       "                                                     min_impurity_split=None,\n",
       "                                                     min_samples_leaf=1,\n",
       "                                                     min_samples_split=2,\n",
       "                                                     min_weight_fraction_leaf=0.0,\n",
       "                                                     presort=False,\n",
       "                                                     random_state=None,\n",
       "                                                     splitter='best')),\n",
       "                             ('nb',\n",
       "                              GaussianNB(priors=None, var_smoothing=1e-09))],\n",
       "                 flatten_transform=True, n_jobs=None, voting='hard',\n",
       "                 weights=None)"
      ]
     },
     "execution_count": 40,
     "metadata": {},
     "output_type": "execute_result"
    }
   ],
   "source": [
    "from sklearn.ensemble import VotingClassifier\n",
    "modelVC = VotingClassifier(estimators=[('dt', modelDT), ('nb', modelNB)], voting='hard')\n",
    "modelVC.fit(trainDT_X, trainDT_Y)\n"
   ]
  },
  {
   "cell_type": "code",
   "execution_count": 41,
   "metadata": {},
   "outputs": [
    {
     "name": "stdout",
     "output_type": "stream",
     "text": [
      "0.9989312578780439\n",
      "[[635473      3]\n",
      " [   677    109]]\n"
     ]
    }
   ],
   "source": [
    "print(modelVC.score(testDT_X,testDT_Y))\n",
    "\n",
    "predVC_Y = modelVC.predict(testDT_X)\n",
    "cm = confusion_matrix(testDT_Y, predVC_Y)\n",
    "print (cm)"
   ]
  },
  {
   "cell_type": "code",
   "execution_count": 68,
   "metadata": {},
   "outputs": [
    {
     "name": "stdout",
     "output_type": "stream",
     "text": [
      "[0 0 0 ... 0 0 0]\n",
      "[[635427     14]\n",
      " [   316    505]]\n"
     ]
    }
   ],
   "source": [
    "from sklearn.neural_network import MLPClassifier\n",
    "modelNN = MLPClassifier(hidden_layer_sizes = (5, 3, 2), activation = 'logistic')\n",
    "modelNN.fit(trainLR_X, trainLR_Y)\n",
    "\n",
    "predLR = (modelLR.predict_proba(testLR_X))[:,0]\n",
    "predNN = (modelNN.predict_proba(testLR_X))[:,0]\n",
    "\n",
    "predAvg = (predLR + predNN) / 2\n",
    "predAvg1 = np.where(predAvg >= .7, 0, 1)\n",
    "\n",
    "print (confusion_matrix(testLR_Y, predAvg1))"
   ]
  },
  {
   "cell_type": "markdown",
   "metadata": {
    "colab_type": "text",
    "id": "ekRnZtEjmcDR"
   },
   "source": [
    "# End of notebook"
   ]
  }
 ],
 "metadata": {
  "colab": {
   "include_colab_link": true,
   "name": "07-01-ClassificationAnalysis.ipynb",
   "provenance": []
  },
  "kernelspec": {
   "display_name": "Python 3",
   "language": "python",
   "name": "python3"
  },
  "language_info": {
   "codemirror_mode": {
    "name": "ipython",
    "version": 3
   },
   "file_extension": ".py",
   "mimetype": "text/x-python",
   "name": "python",
   "nbconvert_exporter": "python",
   "pygments_lexer": "ipython3",
   "version": "3.7.3"
  }
 },
 "nbformat": 4,
 "nbformat_minor": 1
}
