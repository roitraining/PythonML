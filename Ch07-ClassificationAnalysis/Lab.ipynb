{
  "nbformat": 4,
  "nbformat_minor": 0,
  "metadata": {
    "kernelspec": {
      "display_name": "Python 3",
      "language": "python",
      "name": "python3"
    },
    "language_info": {
      "codemirror_mode": {
        "name": "ipython",
        "version": 3
      },
      "file_extension": ".py",
      "mimetype": "text/x-python",
      "name": "python",
      "nbconvert_exporter": "python",
      "pygments_lexer": "ipython3",
      "version": "3.7.3"
    },
    "colab": {
      "name": "Lab.ipynb",
      "provenance": [],
      "include_colab_link": true
    }
  },
  "cells": [
    {
      "cell_type": "markdown",
      "metadata": {
        "id": "view-in-github",
        "colab_type": "text"
      },
      "source": [
        "<a href=\"https://colab.research.google.com/github/roitraining/PythonML/blob/Development/Ch07-ClassificationAnalysis/Lab.ipynb\" target=\"_parent\"><img src=\"https://colab.research.google.com/assets/colab-badge.svg\" alt=\"Open In Colab\"/></a>"
      ]
    },
    {
      "cell_type": "markdown",
      "metadata": {
        "id": "CFvLaruIce2O",
        "colab_type": "text"
      },
      "source": [
        "Import the packages we will need."
      ]
    },
    {
      "cell_type": "code",
      "metadata": {
        "id": "cFreomQ5ce2S",
        "colab_type": "code",
        "colab": {}
      },
      "source": [
        "import pandas as pd\n",
        "import numpy as np\n",
        "from pandas import DataFrame, Series\n",
        "import sklearn\n",
        "import sklearn.datasets"
      ],
      "execution_count": 0,
      "outputs": []
    },
    {
      "cell_type": "markdown",
      "metadata": {
        "id": "UMYptAG8ce2X",
        "colab_type": "text"
      },
      "source": [
        "*   Load and explore the cancer dataset\n",
        "*   Take a look at the cancer dataset, and you'll see it's a dictionary\n",
        "*   Get a list of the keys and you'll see one has the independent variables, the other has the dependent value you want to predict, yet another has the feature names\n",
        "*   Extract the independent features and turn it into a DataFrame with properly named columns\n",
        "*   Extract the dependent target and turn it into a Series"
      ]
    },
    {
      "cell_type": "code",
      "metadata": {
        "id": "Tv92NyiJce2Y",
        "colab_type": "code",
        "colab": {}
      },
      "source": [
        "cancer= sklearn.datasets.load_breast_cancer()\n",
        "print (cancer)\n",
        "print (cancer.keys())\n",
        "print (cancer.feature_names)\n",
        "\n",
        "#grab the data and target and turn them into a DataFrame and Series\n"
      ],
      "execution_count": 0,
      "outputs": []
    },
    {
      "cell_type": "code",
      "metadata": {
        "id": "F3KAn3Hlce2d",
        "colab_type": "code",
        "colab": {}
      },
      "source": [
        "Explore the descriptive statistics on the features DataFrame by using the describe method, \n",
        "it has a parameter to describe all the columns at once"
      ],
      "execution_count": 0,
      "outputs": []
    },
    {
      "cell_type": "code",
      "metadata": {
        "id": "bmVTNkyRce2k",
        "colab_type": "code",
        "colab": {}
      },
      "source": [
        ""
      ],
      "execution_count": 0,
      "outputs": []
    },
    {
      "cell_type": "code",
      "metadata": {
        "id": "CmRgSWTSce2n",
        "colab_type": "code",
        "colab": {}
      },
      "source": [
        "Import the sklearn function to separate the datasets into training and testing sets for the X & Y values\n"
      ],
      "execution_count": 0,
      "outputs": []
    },
    {
      "cell_type": "code",
      "metadata": {
        "id": "WyJqDE4Kce2r",
        "colab_type": "code",
        "colab": {}
      },
      "source": [
        "# set up a classification model\n",
        "from sklearn.model_selection import train_test_split\n"
      ],
      "execution_count": 0,
      "outputs": []
    },
    {
      "cell_type": "markdown",
      "metadata": {
        "id": "ozo-1bo-ce2v",
        "colab_type": "text"
      },
      "source": [
        "\n",
        "\n",
        "* Import the naive bayes classifier from sklearn and train it using the training X & Y sets \n",
        "* Then generate the predictions and compare them to the actual targets by generating a confusion matrix"
      ]
    },
    {
      "cell_type": "code",
      "metadata": {
        "id": "vnFQSWZfd0SZ",
        "colab_type": "code",
        "colab": {}
      },
      "source": [
        ""
      ],
      "execution_count": 0,
      "outputs": []
    },
    {
      "cell_type": "code",
      "metadata": {
        "id": "xILAoypJd5hF",
        "colab_type": "code",
        "colab": {}
      },
      "source": [
        ""
      ],
      "execution_count": 0,
      "outputs": []
    },
    {
      "cell_type": "markdown",
      "metadata": {
        "id": "TO7UNM2Ld6TA",
        "colab_type": "text"
      },
      "source": [
        "# End of notebook"
      ]
    }
  ]
}