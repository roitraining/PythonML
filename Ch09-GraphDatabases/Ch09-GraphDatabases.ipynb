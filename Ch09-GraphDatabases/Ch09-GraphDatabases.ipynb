{
 "cells": [
  {
   "cell_type": "markdown",
   "metadata": {
    "colab_type": "text",
    "id": "view-in-github"
   },
   "source": [
    "<a href=\"https://colab.research.google.com/github/roitraining/PythonML/blob/Development/Ch09-GraphDatabases/Ch09-GraphDatabases.ipynb\" target=\"_parent\"><img src=\"https://colab.research.google.com/assets/colab-badge.svg\" alt=\"Open In Colab\"/></a>"
   ]
  },
  {
   "cell_type": "code",
   "execution_count": null,
   "metadata": {
    "colab": {},
    "colab_type": "code",
    "id": "TC_xI3d-n5Xk"
   },
   "outputs": [],
   "source": [
    "%matplotlib\n",
    "import matplotlib as mp\n",
    "import matplotlib.pyplot as plt\n",
    "import networkx as nx\n",
    "G=nx.Graph()\n",
    "G.add_edges_from([(1,2),(2,3),(1,3),(3,4)]) \n",
    "nx.draw_networkx(G)   \n",
    "plt.show()"
   ]
  },
  {
   "cell_type": "code",
   "execution_count": null,
   "metadata": {
    "colab": {},
    "colab_type": "code",
    "id": "ELQsaCJrn5Xu"
   },
   "outputs": [],
   "source": [
    "%matplotlib\n",
    "G_directed = nx.DiGraph()\n",
    "G_directed.add_edges_from([(1,2),(2,3),(1,3),(3,4)]) \n",
    "nx.draw_networkx(G_directed)  \n",
    "plt.show()"
   ]
  },
  {
   "cell_type": "code",
   "execution_count": null,
   "metadata": {
    "colab": {},
    "colab_type": "code",
    "id": "RtPOHKBon5Xy"
   },
   "outputs": [],
   "source": [
    "%matplotlib\n",
    "import networkx as nx\n",
    "G_names = nx.Graph()\n",
    "G_names.add_edges_from([(\"Joe\", \"Mary\"), (\"Joe\", \"Frank\"), (\"Sue\", \"Frank\"), (\"Sam\", \"Joe\"),\\\n",
    "                        (\"Sue\",\"Sam\")])  \n",
    "nx.draw_networkx(G_names, node_size = 1000) \n",
    "plt.show()"
   ]
  },
  {
   "cell_type": "code",
   "execution_count": null,
   "metadata": {
    "colab": {},
    "colab_type": "code",
    "id": "l9P8BnJ6n5X1"
   },
   "outputs": [],
   "source": [
    "%matplotlib\n",
    "import numpy as np\n",
    "adj = np.array([[0, 1, 1], \n",
    "                [1, 0, 1], \n",
    "                [1, 1, 0]])\n",
    "G2 = nx.from_numpy_matrix(adj)\n",
    "nx.draw_networkx(G2)\n",
    "plt.show()"
   ]
  },
  {
   "cell_type": "code",
   "execution_count": null,
   "metadata": {
    "colab": {},
    "colab_type": "code",
    "id": "WaSHJAfan5X7"
   },
   "outputs": [],
   "source": [
    "%matplotlib\n",
    "import numpy as np\n",
    "import pandas as pd\n",
    "rng = np.random.RandomState(seed=5)\n",
    "ints = rng.randint(1, 11, size=(4,2))\n",
    "a = ['A', 'B', 'C', 'E']\n",
    "b = ['D', 'A', 'E', 'A']\n",
    "df = pd.DataFrame(ints, columns=['weight', 'cost'])\n",
    "df['a'] = a\n",
    "df['b'] = b\n",
    "print (df[['weight', 'cost', 'a', 'b']])\n",
    "G3 = nx.from_pandas_edgelist(df, 'a', 'b', ['weight', 'cost'])\n",
    "nx.draw_networkx(G3)\n",
    "plt.show()"
   ]
  },
  {
   "cell_type": "code",
   "execution_count": null,
   "metadata": {
    "colab": {},
    "colab_type": "code",
    "id": "fQiyO9R1n5X_"
   },
   "outputs": [],
   "source": [
    "%matplotlib\n",
    "import matplotlib.pyplot as plt\n",
    "import networkx as nx\n",
    "\n",
    "G = nx.Graph()\n",
    "G.add_edge('A', 'b', weight=0.6)\n",
    "G.add_edge('A', 'c', weight=0.2)\n",
    "G.add_edge('c', 'd', weight=0.1)\n",
    "G.add_edge('c', 'e', weight=0.7)\n",
    "G.add_edge('c', 'F', weight=0.9)\n",
    "G.add_edge('A', 'd', weight=0.3)\n",
    "G.nodes['A']['size'] = 100\n",
    "G.nodes['b']['size'] = 50\n",
    "G.nodes['c']['size'] = 90\n",
    "G.nodes['d']['size'] = 30\n",
    "G.nodes['e']['size'] = 40\n",
    "G.nodes['F']['size'] = 70\n",
    "\n",
    "elarge = [(u, v) for (u, v, d) in G.edges(data=True) if d['weight'] > 0.5]\n",
    "elargeweight = [d['weight'] * 4 for (_, _, d) in G.edges(data=True) if d['weight'] > 0.5]\n",
    "\n",
    "esmall = [(u, v) for (u, v, d) in G.edges(data=True) if d['weight'] <= 0.5]\n",
    "esmallweight = [d['weight'] * 6 for (_, _, d) in G.edges(data=True) if d['weight'] <= 0.5]\n",
    "\n",
    "pos = nx.spring_layout(G)  # positions for all nodes\n",
    "\n",
    "# nodes\n",
    "nodesizes = [10 * x['size'] for _,x in G.nodes(data=True)]\n",
    "nodecolors = ['r' if x == x.upper() else 'b' for x in G.nodes]\n",
    "nx.draw_networkx_nodes(G, pos, node_size=nodesizes, node_color=nodecolors)\n",
    "\n",
    "# edges\n",
    "nx.draw_networkx_edges(G, pos, edgelist=elarge, width=elargeweight)\n",
    "nx.draw_networkx_edges(G, pos, edgelist=esmall, width=esmallweight, alpha=0.5, edge_color='b', style='dashed')\n",
    "\n",
    "# labels\n",
    "nx.draw_networkx_labels(G, pos, font_size=20, font_family='sans-serif')\n",
    "\n",
    "plt.axis('off')\n",
    "plt.show()\n",
    "\n"
   ]
  },
  {
   "cell_type": "code",
   "execution_count": null,
   "metadata": {
    "colab": {},
    "colab_type": "code",
    "id": "sbPuB3ron5YC"
   },
   "outputs": [],
   "source": [
    "%matplotlib\n",
    "pos = nx.spring_layout(G)  # positions for all nodes\n",
    "\n",
    "# nodes\n",
    "eigen = nx.eigenvector_centrality(G)\n",
    "print (eigen)\n",
    "nodesizes = [15 * x['size'] for _,x in G.nodes(data=True)]\n",
    "nodecolors = ['r' if x >= .5 else 'g' for x in eigen.values()]\n",
    "nx.draw_networkx_nodes(G, pos, node_size=nodesizes, node_color=nodecolors)\n",
    "\n",
    "# edges\n",
    "nx.draw_networkx_edges(G, pos, edgelist=elarge, width=elargeweight)\n",
    "nx.draw_networkx_edges(G, pos, edgelist=esmall, width=esmallweight, alpha=0.5, edge_color='b', style='dashed')\n",
    "\n",
    "# labels\n",
    "nx.draw_networkx_labels(G, pos, font_size=20, font_family='sans-serif')\n",
    "\n",
    "plt.axis('off')\n",
    "plt.show()\n"
   ]
  },
  {
   "cell_type": "markdown",
   "metadata": {
    "colab_type": "text",
    "id": "RPBrJLcFn7LR"
   },
   "source": [
    "# End of notebook"
   ]
  }
 ],
 "metadata": {
  "colab": {
   "include_colab_link": true,
   "name": "Ch09-GraphDatabases.ipynb",
   "provenance": []
  },
  "kernelspec": {
   "display_name": "Python 3",
   "language": "python",
   "name": "python3"
  },
  "language_info": {
   "codemirror_mode": {
    "name": "ipython",
    "version": 3
   },
   "file_extension": ".py",
   "mimetype": "text/x-python",
   "name": "python",
   "nbconvert_exporter": "python",
   "pygments_lexer": "ipython3",
   "version": "3.7.3"
  }
 },
 "nbformat": 4,
 "nbformat_minor": 1
}
