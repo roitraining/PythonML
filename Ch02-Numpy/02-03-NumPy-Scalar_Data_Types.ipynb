{
 "cells": [
  {
   "cell_type": "markdown",
   "metadata": {
    "colab_type": "text",
    "id": "view-in-github"
   },
   "source": [
    "<a href=\"https://colab.research.google.com/github/roitraining/PythonML/blob/master/Ch02-Numpy/02-03-NumPy-Scalar_Data_Types.ipynb\" target=\"_parent\"><img src=\"https://colab.research.google.com/assets/colab-badge.svg\" alt=\"Open In Colab\"/></a>"
   ]
  },
  {
   "cell_type": "markdown",
   "metadata": {
    "colab_type": "text",
    "id": "ZagbFmr5JDqU"
   },
   "source": [
    "# NumPy Numerical Scalar Types\n",
    "* NumPy supports a large variety of **numerical** scalar data types\n",
    "\n",
    "* Most NumPy scalar types are either listed in the tuple *np.ScalarType* or are an instance of *np.generic*\n",
    "  * Custom scalar types can be created\n",
    "\n",
    "* The NumPy **numerical** scalar data types are a **subset** of NumPy's scalar data types\n",
    "\n",
    "* The function *np.isscalar* can be used to test if an object is a scalar or not\n",
    "* The following functions   may be useful for clairifying data value and type hierarchies:\n",
    "    * *isinstance*\n",
    "    * *np.issubclass_*\n",
    "    * *np.issctype*\n",
    "    * *np.issubsctype*\n",
    "    * *np.subdtype*\n",
    "\n",
    "* The term **array scalars** refers to a scalar with an associated *dtype*"
   ]
  },
  {
   "cell_type": "markdown",
   "metadata": {
    "colab_type": "text",
    "id": "VOc-J2YXJDqX"
   },
   "source": [
    "### Do Now!\n",
    "* Import numpy\n",
    "* Execute np.ScalarType\n",
    "  * How many scalar types are listed in *np.ScalarType*? \\_\\_\\_\\_\\_\\_\\_\\_\\_\\_\\_\\_\\_\\_\\_\\_\\_\\_\\_\\_\\_\n",
    "* View the help page for *np.int32*\n",
    "  * What is the method resolution order of np.int32? \\_\\_\\_\\_\\_\\_\\_\\_\\_\\_\\_\\_\\_\\_\\_\\_\\_\\_\\_\\_\\_\\_\\_\n"
   ]
  },
  {
   "cell_type": "code",
   "execution_count": null,
   "metadata": {
    "colab": {},
    "colab_type": "code",
    "id": "0PD4p-ASJDqY"
   },
   "outputs": [],
   "source": [
    "import numpy as np"
   ]
  },
  {
   "cell_type": "code",
   "execution_count": null,
   "metadata": {
    "colab": {},
    "colab_type": "code",
    "id": "8mrt5HjoJDqc"
   },
   "outputs": [],
   "source": [
    "np.ScalarType"
   ]
  },
  {
   "cell_type": "code",
   "execution_count": null,
   "metadata": {
    "colab": {},
    "colab_type": "code",
    "id": "UC6Fd8ESJDqg"
   },
   "outputs": [],
   "source": [
    "help(np.int32)"
   ]
  },
  {
   "cell_type": "markdown",
   "metadata": {
    "colab_type": "text",
    "id": "kQTyPymyJDqj"
   },
   "source": [
    "### Do Now!\n",
    "* View the help page for *np.generic*\n",
    "  * Is *np.generic* the base class of all NumPy scalar types? \\_\\_\\_\\_\\_\\_\\_\\_\\_\\_\\_\\_\\_\\_\\_\\_\\_\\_\\_\n",
    "  * Why does *np.generic* the same AIP as *ndarray*? \\_\\_\\_\\_\\_\\_\\_\\_\\_\\_\\_\\_\\_\\_\\_\\_\\_\\_\\_\\_\\_\\_\\_\\_\n",
    "  * Are most of the *np.generic* methods implemented? \\_\\_\\_\\_\\_\\_\\_\\_\\_\\_\\_\\_\\_\\_\\_\\_\\_\\_\\_\\_\\_\\_\\_\n",
    "\n",
    "* Execute np.issubclass?\n",
    "* Execute np.issubclass(np.int32, np.generic) and print out the results"
   ]
  },
  {
   "cell_type": "code",
   "execution_count": null,
   "metadata": {
    "colab": {},
    "colab_type": "code",
    "id": "izcfSH_DJDql"
   },
   "outputs": [],
   "source": [
    "help(np.generic)"
   ]
  },
  {
   "cell_type": "code",
   "execution_count": null,
   "metadata": {
    "colab": {},
    "colab_type": "code",
    "id": "wVKJIwk2JDqr"
   },
   "outputs": [],
   "source": [
    "print (\"Is np.int32 a subclass of np.generic ? = \", np.issubclass_(np.int32, np.generic))"
   ]
  },
  {
   "cell_type": "markdown",
   "metadata": {
    "colab_type": "text",
    "id": "qmfICkGSJDqu"
   },
   "source": [
    "### Do Now!\n",
    "* View the [Data Types](https://docs.scipy.org/doc/numpy/user/basics.types.html) page\n",
    "  * How many basic numerical data types does NumPy have? \\_\\_\\_\\_\\_\\_\\_\\_\\_\\_\\_\\_\\_\\_\\_\\_\\_\\_\\_\\_\\_\\_\n",
    "  * How can data types be used? \\_\\_\\_\\_\\_\\_\\_\\_\\_\\_\\_\\_\\_\\_\\_\\_\\_\\_\\_\\_\\_\\_\\_\\_\\_\\_\\_\\_\\_\\_\\_\\_\\_\\_\\_\n",
    "  * What are array scalars? \\_\\_\\_\\_\\_\\_\\_\\_\\_\\_\\_\\_\\_\\_\\_\\_\\_\\_\\_\\_\\_\\_\\_\\_\\_\\_\\_\\_\\_\\_\\_\\_\\_\\_\\_\\_\\_\n",
    "  * Are array scalars the same as Python scalars? \\_\\_\\_\\_\\_\\_\\_\\_\\_\\_\\_\\_\\_\\_\\_\\_\\_\\_\\_\\_\\_\\_\\_\\_\\_\\_\n",
    "  * Are array scalars generally interchangeable with Python scalars? \\_\\_\\_\\_\\_\\_\\_\\_\\_\\_\\_\\_\\_\\_\\_\\_\\_\n",
    "\n",
    "* View the [Scalars](https://docs.scipy.org/doc/numpy/reference/arrays.scalars.html) page\n",
    "  * This page has more information on array scalars and has a picture of their hierarchical arangement\n",
    "\n",
    "* View the [Data Type Objects dtype](https://docs.scipy.org/doc/numpy/reference/arrays.dtypes.html) page\n",
    "  * What is a (structured) data type object? \\_\\_\\_\\_\\_\\_\\_\\_\\_\\_\\_\\_\\_\\_\\_\\_\\_\\_\\_\\_\\_\\_\\_\\_\\_\\_\\_\\_\\_\n",
    "  * Are scalar types *dtype* objects? \\_\\_\\_\\_\\_\\_\\_\\_\\_\\_\\_\\_\\_\\_\\_\\_\\_\\_\\_\\_\\_\\_\\_\\_\\_\\_\\_\\_\\_\\_\\_\\_\\_\\_\n",
    "  "
   ]
  },
  {
   "cell_type": "markdown",
   "metadata": {
    "colab_type": "text",
    "id": "Rt1aejX2JDqv"
   },
   "source": [
    "### Do Now!\n",
    "* Execute the command np.isscalar?\n",
    "\n",
    "* Create a NumPy 64 bit integer with the value 100\n",
    "* Print the type of the integer\n",
    "* Print whether the integer is a scalar\n",
    "* Print whether the integer is an instance of an np.int64\n",
    "* Print whether the integer is an instance of an np.generic\n",
    "* Print whether the integer is an instance of an np.dtype"
   ]
  },
  {
   "cell_type": "code",
   "execution_count": null,
   "metadata": {
    "colab": {},
    "colab_type": "code",
    "id": "jog-dbNDJDqw"
   },
   "outputs": [],
   "source": [
    "help(np.isscalar)\n",
    "\n",
    "i1 = np.int64(100)\n",
    "print (\"The type of i1, type(i1) = \", type(i1))\n",
    "print (\"Is i1 a scalar? \", np.isscalar(i1))\n",
    "print (\"Is i1 an instance of np.int64 ? \", isinstance(i1, np.int64))\n",
    "print (\"Is i1 an instance of np.generic ? \", isinstance(i1, np.generic))\n",
    "print (\"Is i1 an instance of np.dtype ? \", isinstance(i1, np.dtype))"
   ]
  },
  {
   "cell_type": "markdown",
   "metadata": {
    "colab_type": "text",
    "id": "mRcEpSX9JDq0"
   },
   "source": [
    "## Do Now!\n",
    "* Execute the command np.issubdtype?\n",
    "* Execute the command np.issubsctype?\n",
    "* Execute the command p.issubclass_?\n",
    "\n",
    "* View the help page for np.dtype\n",
    "  * Is *np.dtype* a sub class of np.generic? \\_\\_\\_\\_\\_\\_\\_\\_\\_\\_\\_\\_\\_\\_\\_\\_\\_\\_\\_\\_\\_\\_\\_\\_\\_\\_\\_\\_\\_\n",
    "  * But *np.dtype* is a sub data type of np.generic\n",
    "  \n",
    "* Print out whether np.dtype is a sub data type of np.generic\n",
    "* Print out whether np.dtype is a sub scalar type of np.generic\n",
    "* Print out whether np.dtype is a sub Python class of np.generic"
   ]
  },
  {
   "cell_type": "code",
   "execution_count": null,
   "metadata": {
    "colab": {},
    "colab_type": "code",
    "id": "rhHbGqjGJDq2"
   },
   "outputs": [],
   "source": [
    "help(np.issubdtype)\n",
    "help(np.issubsctype)\n",
    "help(np.issubclass_)\n",
    "\n",
    "help(np.dtype)\n",
    "print (\"Is np.dtype a sub data type of np.generic ?\", np.issubdtype(np.dtype, np.generic))\n",
    "print (\"Is np.dtype a sub scalar type of np.generic ?\", np.issubsctype(np.dtype, np.generic))\n",
    "print (\"Is np.dtype a sub Python class of np.generic ?\", np.issubclass_(np.dtype, np.generic))"
   ]
  },
  {
   "cell_type": "markdown",
   "metadata": {
    "colab_type": "text",
    "id": "L13kwTRyJDq6"
   },
   "source": [
    "## Do Now!\n",
    "* Make an np.dtype instance of int32\n",
    "* Print out the type of the instance\n",
    "* Print out whether the instance is a sub data type of np.generic\n",
    "* Print out whether the instance is a sub scalar type of np.generic\n",
    "* Print out whether the instance is a sub Python class of np.generic"
   ]
  },
  {
   "cell_type": "code",
   "execution_count": null,
   "metadata": {
    "colab": {},
    "colab_type": "code",
    "id": "Fa82qlBeJDq7"
   },
   "outputs": [],
   "source": [
    "dt1 = np.dtype(np.int32)\n",
    "\n",
    "print (\"The type of dt1, type(dt1) = \", type(dt1))\n",
    "print (\"Is dt1 a sub data type of np.generic ?\", np.issubdtype(dt1, np.generic))\n",
    "print (\"Is dt1 a sub scalar type of np.generic ?\", np.issubsctype(dt1, np.generic))\n",
    "print (\"Is dt1 a sub (Python) class of np.generic ?\", np.issubclass_(dt1, np.generic))"
   ]
  },
  {
   "cell_type": "markdown",
   "metadata": {
    "colab_type": "text",
    "id": "q3tKchnaJDq-"
   },
   "source": [
    "# End of notebook"
   ]
  }
 ],
 "metadata": {
  "anaconda-cloud": {},
  "colab": {
   "include_colab_link": true,
   "name": "02-03-NumPy-Scalar_Data_Types.ipynb",
   "provenance": []
  },
  "kernelspec": {
   "display_name": "Python 3",
   "language": "python",
   "name": "python3"
  },
  "language_info": {
   "codemirror_mode": {
    "name": "ipython",
    "version": 3
   },
   "file_extension": ".py",
   "mimetype": "text/x-python",
   "name": "python",
   "nbconvert_exporter": "python",
   "pygments_lexer": "ipython3",
   "version": "3.7.3"
  }
 },
 "nbformat": 4,
 "nbformat_minor": 1
}
