{
 "cells": [
  {
   "cell_type": "markdown",
   "metadata": {
    "colab_type": "text",
    "id": "view-in-github"
   },
   "source": [
    "<a href=\"https://colab.research.google.com/github/roitraining/PythonML/blob/master/Ch02-Numpy/02-05-NumPy-Arithmetic_and_Universal_Functions.ipynb\" target=\"_parent\"><img src=\"https://colab.research.google.com/assets/colab-badge.svg\" alt=\"Open In Colab\"/></a>"
   ]
  },
  {
   "cell_type": "markdown",
   "metadata": {
    "colab_type": "text",
    "id": "vysFmfsdW5ob"
   },
   "source": [
    "# Arithmetic with *ndarray*s"
   ]
  },
  {
   "cell_type": "markdown",
   "metadata": {
    "colab_type": "text",
    "id": "84euHE9rW5oi"
   },
   "source": [
    "## Arithmetic with an *ndarray* and a Scalar\n",
    "* When the operands of addition, multiplication, subtracton, division, and powers (exponention) are an *ndarray* and a scalar, the operation is applied between the scalar and each element of the *ndarray*  individually\n",
    "\n",
    "### Do Now!\n",
    "* Create an *ndarray*, a1, of 10 integers ranging from 1 to 10 and print the array a1\n",
    "* Create a new *ndarray*, a2, which is the sum a1 + 2 and print the array a2\n",
    "* Create a new *ndarray*, a3, which is the product a2 * 6 and print the array a3\n",
    "* Create a new *ndarray*, a4, which is the division a3 / 2 and print the array a4\n",
    "* Create a new *ndarray*, a5, which is a4 raised to the power 2 and print the array a5"
   ]
  },
  {
   "cell_type": "code",
   "execution_count": null,
   "metadata": {
    "colab": {},
    "colab_type": "code",
    "id": "BjbB6ys4W5ok"
   },
   "outputs": [],
   "source": [
    "import numpy as np"
   ]
  },
  {
   "cell_type": "code",
   "execution_count": null,
   "metadata": {
    "colab": {},
    "colab_type": "code",
    "id": "FoG1yJ4lW5oo"
   },
   "outputs": [],
   "source": [
    "a1 = np.arange(1,11)\n",
    "print (\"a1 = \", a1)\n",
    "a2 = a1 + 2\n",
    "print (\"a2 = \", a2)\n",
    "a3 = a2 * 6\n",
    "print (\"a3 = \", a3)\n",
    "a4 = a3 / 2\n",
    "print (\"a4 = \", a4)\n",
    "a5 = a4 ** 2\n",
    "print (\"a5 = \", a5)\n"
   ]
  },
  {
   "cell_type": "markdown",
   "metadata": {
    "colab_type": "text",
    "id": "0TqJI-WKW5os"
   },
   "source": [
    "## Universal Functions\n",
    "* The above operations are examples of universal functions\n",
    "* Universal functions, also known as *ufuncs*, operate on *ndarray*s  in an element by element fashion\n",
    "* Ufuncs can be grouped as follows:\n",
    "  * Math operations\n",
    "    * The focus of this notebook\n",
    "  * Trigonometric functions\n",
    "  * Floating functions\n",
    "  * Bit manipulation\n",
    "  * Relational and boolean operations\n",
    "\n",
    "### Do Now!\n",
    "* View the [Universal Functions](https://docs.scipy.org/doc/numpy/reference/ufuncs.html) page\n",
    "  * What is a **vectorized** function? \\_\\_\\_\\_\\_\\_\\_\\_\\_\\_\\_\\_\\_\\_\\_\\_\\_\\_\\_\\_\\_\\_\\_\\_\\_\\_\\_\\_\\_\\_\\_\\_\\_\n",
    "  * What language are most unfuncs implemented in? \\_\\_\\_\\_\\_\\_\\_\\_\\_\\_\\_\\_\\_\\_\\_\\_\\_\\_\\_\\_\\_\\_\\_\\_\\_\\_\\_"
   ]
  },
  {
   "cell_type": "markdown",
   "metadata": {
    "colab_type": "text",
    "id": "1JZoVXlQW5ou"
   },
   "source": [
    "## Arithmetic with two *ndarray*s\n",
    "* When the operands of addition, multiplication, subtracton, division, and raising to a power is a two *ndarray*s, the operation is applied element-wise between the individual elements of the *ndarray*s\n",
    "* The NumPy arithmetic operations are much faster than the  built-in Python operators\n",
    "  * They are implemented in 'C'\n",
    "  * Use the iPython magic function *timeit* to measure their performance\n",
    "* Exceptions will be raised if there are shape mismatches\n",
    "\n",
    "### Do Now!\n",
    "* Using the *full* function, create a 4 X 4 *ndarray*, a1, populated with 2.0 and print the array\n",
    "* Using the *full* function, create a second 4 X 4 *ndarray*, a2, populated with 5.0 and print the array\n",
    "* Create a new *ndarray*, a3, which is the sum a1 + a2 and print the array a3\n",
    "* Create a new *ndarray*, a4, which is the difference a1 - a2 and print the array a4\n",
    "* Create a new *ndarray*, a5, which is the product a1 * a2 and print the array a5\n",
    "* Create a new *ndarray*, a6, which is the division a1 / a2 and print the array a6\n",
    "* Create a new *ndarray*, a7, which is a1 \\*\\* a2 and print the array a7\n",
    "* Measure the performance of 10000 interger additions using the Python built-in addition operator\n",
    "* Measure the performance of 10000 interger additions using the NumPy addition operator\n"
   ]
  },
  {
   "cell_type": "code",
   "execution_count": null,
   "metadata": {
    "colab": {},
    "colab_type": "code",
    "id": "VUg3zctPW5ov"
   },
   "outputs": [],
   "source": [
    "a1 = np.full( (4,4), 2.0)\n",
    "print(\"a1 = \\n\", a1, \"\\n\")\n",
    "\n",
    "a2 = np.full( (4,4), 5.0)\n",
    "print(\"a2 = \\n\", a2, \"\\n\")\n",
    "\n",
    "a3 = a1 + a2\n",
    "print (\"a3 = \\n\", a3, \"\\n\")\n",
    "\n",
    "a4 = a1 - a2\n",
    "print (\"a4 = \\n\", a4, \"\\n\")\n",
    "\n",
    "a5 = a1 * a2\n",
    "print (\"a5 = \\n\", a5)\n",
    "\n",
    "a6 = a1 / a2\n",
    "print (\"a6 = \\n\", a6)\n",
    "\n",
    "a7 = a1 ** a2\n",
    "print( \"a7 = \\n\", a7)\n",
    "\n"
   ]
  },
  {
   "cell_type": "markdown",
   "metadata": {
    "colab_type": "text",
    "id": "UcFli_L5W5oz"
   },
   "source": [
    "## Broadcasting\n",
    "* Broadcasting refers to a set of rules for applying binary ufuncs on arrays of different sizes\n",
    "\n",
    "### Do Now!\n",
    "* Using the *full* function, create a 4 X 4 *ndarray*, a1, populated with 2.0 and print the array\n",
    "* Create a 1 X 4 *ndarray*, a2, of integers ranging from 1 to 4 and print the array\n",
    "* Create a new *ndarray*, a3, which is the product a1 * a2 and print the array a3\n",
    "* Is this operation matrix multiplication? \\_\\_\\_\\_\\_\\_\\_\\_\\_\\_\\_\\_\\_\\_\\_\\_\\_\\_\\_\\_\\_\\_\\_\\_\\_\\_\\_\\_\\_\\_\\_\\_\\_\n",
    "* Is this element by element multiplication? \\_\\_\\_\\_\\_\\_\\_\\_\\_\\_\\_\\_\\_\\_\\_\\_\\_\\_\\_\\_\\_\\_\\_\\_\\_\\_\\_\\_\\_\\_\\_\\_\n",
    "* What is happening? \\_\\_\\_\\_\\_\\_\\_\\_\\_\\_\\_\\_\\_\\_\\_\\_\\_\\_\\_\\_\\_\\_\\_\\_\\_\\_\\_\\_\\_\\_\\_\\_\\_\\_\\_\\_\\_\\_\\_\\_\\_\\_\\_\\_\n",
    "* Will this work if a2 is a 1 X 3 array? \\_\\_\\_\\_\\_\\_\\_\\_\\_\\_\\_\\_\\_\\_\\_\\_\\_\\_\\_\\_\\_\\_\\_\\_\\_\\_\\_\\_\\_\\_\\_\\_\\_\\_\n"
   ]
  },
  {
   "cell_type": "code",
   "execution_count": null,
   "metadata": {
    "colab": {},
    "colab_type": "code",
    "id": "LcTdnpHAW5o0"
   },
   "outputs": [],
   "source": [
    "a1 = np.full( (4,4), 2.0)\n",
    "print (\"a1 = \\n\", a1)\n",
    "\n",
    "a2 = np.arange(1,5)\n",
    "print (\"a2 = \\n\", a2)\n",
    "\n",
    "a3 = a1 * a2\n",
    "print (\"a3 = a1 * a2 = \\n\", a3)"
   ]
  },
  {
   "cell_type": "markdown",
   "metadata": {
    "colab_type": "text",
    "id": "kvvQCe6NW5o3"
   },
   "source": [
    "## Matrix multiplication with *ndarray*s\n",
    "* Multiplication of two *ndarrray*s with the '\\*' operator is element-wise multiplication and not matrix multiplication\n",
    "* To perform matrix multiplication, use the np.dot function\n",
    "  * In Python 3.5+ the '@' operator can be used instead of the np.dot function\n",
    "* Exceptions will be raised if there are shape mismatches\n",
    "\n",
    "### Do Now!\n",
    "* View the doc string for the np.dot function"
   ]
  },
  {
   "cell_type": "code",
   "execution_count": null,
   "metadata": {
    "colab": {},
    "colab_type": "code",
    "id": "CxS3rc93W5o4"
   },
   "outputs": [],
   "source": [
    "help(np.dot)"
   ]
  },
  {
   "cell_type": "markdown",
   "metadata": {
    "colab_type": "text",
    "id": "otYTgKUkW5o8"
   },
   "source": [
    "* Using the *full* function, create a 4 X 4 *ndarray*, a1, populated with 2.0 and print the array\n",
    "* Using the *full* function, create a second 4 X 4 *ndarray*, a2, populated with 5.0 and print the array\n",
    "* Create a new *ndarray*, a3, which is the matrix product of a1 and a2 and print the array a3"
   ]
  },
  {
   "cell_type": "code",
   "execution_count": null,
   "metadata": {
    "colab": {},
    "colab_type": "code",
    "id": "6zuzTxnxW5o9"
   },
   "outputs": [],
   "source": [
    "a1 = np.full( (4,4), 2.0)\n",
    "print (\"a1 = \\n\", a1)\n",
    "\n",
    "a2 = np.full( (4,4), 5.0)\n",
    "print (\"a2 = \\n\", a2)\n",
    "\n",
    "a3 = a1.dot(a2)\n",
    "print (\"a3 = \\n\", a3)\n"
   ]
  },
  {
   "cell_type": "markdown",
   "metadata": {
    "colab_type": "text",
    "id": "CCm9FQB9W5pF"
   },
   "source": [
    "# End of notebook"
   ]
  }
 ],
 "metadata": {
  "anaconda-cloud": {},
  "colab": {
   "include_colab_link": true,
   "name": "02-05-NumPy-Arithmetic_and_Universal_Functions.ipynb",
   "provenance": []
  },
  "kernelspec": {
   "display_name": "Python 3",
   "language": "python",
   "name": "python3"
  },
  "language_info": {
   "codemirror_mode": {
    "name": "ipython",
    "version": 3
   },
   "file_extension": ".py",
   "mimetype": "text/x-python",
   "name": "python",
   "nbconvert_exporter": "python",
   "pygments_lexer": "ipython3",
   "version": "3.7.3"
  }
 },
 "nbformat": 4,
 "nbformat_minor": 1
}
