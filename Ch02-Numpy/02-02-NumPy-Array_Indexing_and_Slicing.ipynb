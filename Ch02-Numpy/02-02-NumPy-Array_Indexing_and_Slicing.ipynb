{
 "cells": [
  {
   "cell_type": "markdown",
   "metadata": {
    "colab_type": "text",
    "id": "view-in-github"
   },
   "source": [
    "<a href=\"https://colab.research.google.com/github/roitraining/PythonML/blob/master/Ch02-Numpy/02-02-NumPy-Array_Indexing_and_Slicing.ipynb\" target=\"_parent\"><img src=\"https://colab.research.google.com/assets/colab-badge.svg\" alt=\"Open In Colab\"/></a>"
   ]
  },
  {
   "cell_type": "markdown",
   "metadata": {
    "colab_type": "text",
    "id": "VzpGd9qltOqz"
   },
   "source": [
    "# Array Indexing,  Slicing, and Shapes"
   ]
  },
  {
   "cell_type": "markdown",
   "metadata": {
    "colab_type": "text",
    "id": "FR0LTsa9tOq2"
   },
   "source": [
    "## Accessing Single Elements of an *ndarray*\n",
    "* Accessing elements of an *ndarray* is very similar to the approach taken with Python lists\n",
    "  * Both use square brackets to access elements\n",
    "  * The first element is at index '0' and the last element is at index '-1'\n",
    "  * For multidimensional lists and arrays, there is a slight difference in notation\n",
    "    * Lists use one pair of square brackets for each dimension; e.g., L1[2][3][4]\n",
    "    * *ndarray*s can use one pair of brackets to hold a tuple of coordinates; e.g., A1[2,3,4]\n",
    "      * Called multidimensional indexing\n",
    "      * Each dimension of an *ndarray* is called an **axis**\n",
    "      * The *ndim* attribute is the number of dimensions or axes of an *ndarray*\n",
    "      * The *shape* attribute gives the lengths, and the number of elements, of each axis\n",
    "        * If shape is (4,5,6), then axis 0 has length 4, axis 1 has length 5, etc.\n",
    "    * *ndarray*s can also use one pair of square brackets for each dimension just like lists"
   ]
  },
  {
   "cell_type": "markdown",
   "metadata": {
    "colab_type": "text",
    "id": "Rm68XoUJtOq3"
   },
   "source": [
    "### Do Now!\n",
    "* Import numpy\n",
    "* View the doc string for np.ndarray.ndim\n",
    "* View the doc string for np.ndarray.shape"
   ]
  },
  {
   "cell_type": "code",
   "execution_count": null,
   "metadata": {
    "colab": {},
    "colab_type": "code",
    "id": "n8KvYZmCtOq4"
   },
   "outputs": [],
   "source": [
    "import numpy as np"
   ]
  },
  {
   "cell_type": "code",
   "execution_count": null,
   "metadata": {
    "colab": {},
    "colab_type": "code",
    "id": "fuaT3ZpitOq9"
   },
   "outputs": [],
   "source": [
    "help(np.ndarray.ndim)"
   ]
  },
  {
   "cell_type": "code",
   "execution_count": null,
   "metadata": {
    "colab": {},
    "colab_type": "code",
    "id": "5WfW-R3gtOrB"
   },
   "outputs": [],
   "source": [
    "help(np.ndarray.shape)"
   ]
  },
  {
   "cell_type": "markdown",
   "metadata": {
    "colab_type": "text",
    "id": "S_J1yjj3tOrE"
   },
   "source": [
    "### Do Now LIST!\n",
    "* Create a two dimensional, 3 X 3, **list** of integers ranging from 1 to 9\n",
    "* Print the list\n",
    "* Print out the middle element of the second row\n",
    "* Assign a new value to the middle element of the second row\n",
    "* Print out the modified middle element of the second row\n",
    "* Print out the last element of the list using -1 for the indices\n"
   ]
  },
  {
   "cell_type": "code",
   "execution_count": null,
   "metadata": {
    "colab": {},
    "colab_type": "code",
    "id": "glyQ0tKYtOrF"
   },
   "outputs": [],
   "source": [
    "l1 = [[1,2,3],[4,5,6],[7,8,9]]\n",
    "print (\"l1 = \", l1)\n",
    "print (\"Before assignment, l1[1][1] = \", l1[1][1])\n",
    "l1[1][1] = 42\n",
    "print (\"After assignment, l1[1][1] = \", l1[1][1])\n",
    "print (\"The last element of the list is l1[-1][-1] = \", l1[-1][-1])"
   ]
  },
  {
   "cell_type": "markdown",
   "metadata": {
    "colab_type": "text",
    "id": "2K8uWmuYtOrI"
   },
   "source": [
    "### Do Now ndarray!\n",
    "* Create a 3 X 3 *ndarray* from the list\n",
    "* Print the array\n",
    "* Print the dimension of the array\n",
    "* Print the shape of the array\n",
    "* Print out the middle element of the second row of the array\n",
    "* Assign a new value to the middle element of the second row of the array\n",
    "* Print out the modified middle element of the second row of the array\n",
    "* Print out the last element of the array using -1 for the indices"
   ]
  },
  {
   "cell_type": "code",
   "execution_count": null,
   "metadata": {
    "colab": {},
    "colab_type": "code",
    "id": "NFds9GvstOrK"
   },
   "outputs": [],
   "source": [
    "a1 = np.array(l1)\n",
    "print (\"a1 = \", a1)\n",
    "print (\"a1.ndim = \", a1.ndim)\n",
    "print (\"a1.shape = \", a1.shape)\n",
    "print (\"Before assignment, a1[1,1] = \", a1[1, 1])\n",
    "a1[1,1] = 5\n",
    "print (\"After assignment, a1[1,1] = \", a1[1, 1])\n",
    "print (\"The last element of the array is a1[-1,-1] = \", a1[-1,-1])"
   ]
  },
  {
   "cell_type": "markdown",
   "metadata": {
    "colab_type": "text",
    "id": "KaibzgqitOrN"
   },
   "source": [
    "## Accessing Subdimensional Arrays of an *ndarray*\n",
    "* If either a list or an *ndarray* with dimension greater than 1 is accessed with less indices than the dimension, the result is a subdimensional array\n",
    "\n",
    "### Do Now LIST!\n",
    "* Access the 3 X 3 list with no indices, print the result\n",
    "  * How many dimensions does the resulting list have? \\_\\_\\_\\_\\_\\_\\_\\_\\_\\_\\_\\_\\_\\_\\_\\_\\_\\_\\_\\_\\_\\_\\_\\_\\_\\_\\_\\_\n",
    "* Access the 3 X 3 list with 1 index, print the result\n",
    "  * How many dimensions does the resulting list have? \\_\\_\\_\\_\\_\\_\\_\\_\\_\\_\\_\\_\\_\\_\\_\\_\\_\\_\\_\\_\\_\\_\\_\\_\\_\\_\\_\\_\n",
    "  * Which axis of the original list is being returned, axis 0 or axis 1? \\_\\_\\_\\_\\_\\_\\_\\_\\_\\_\\_\\_\\_\\_\\_\\_\\_\\_\\_\n",
    "\n",
    "\n",
    "* Access the 3 X 3 *ndarray* with no indices, print the result\n",
    "* Print out the number of dimensions of the resulting array\n",
    "* Access the 3 X 3 *ndarray* with 1 index, print the result\n",
    "* Print out the number of dimensions of the resulting array\n",
    "  * How many dimensions does the resulting array have? \\_\\_\\_\\_\\_\\_\\_\\_\\_\\_\\_\\_\\_\\_\\_\\_\\_\\_\\_\\_\\_\\_\\_\\_\\_\\_\\_\\_\n",
    "  * Which axis of the original array is being returned, axis 0 or axis 1? \\_\\_\\_\\_\\_\\_\\_\\_\\_\\_\\_\\_\\_\\_\\_\\_\\_\\_\\_\n",
    "* Access one element of the 3 X 3 *ndarray* with 2 indices, print the result\n",
    "* Print out the number of dimensions of the resulting array\n"
   ]
  },
  {
   "cell_type": "code",
   "execution_count": null,
   "metadata": {
    "colab": {},
    "colab_type": "code",
    "id": "bXQ4AvqItOrO"
   },
   "outputs": [],
   "source": [
    "print (\" l1 = \", l1)\n",
    "print (\" l1[0] = \", l1[0])\n",
    "print (\" a1 = \", a1)\n",
    "print (\" a1.ndim = \", a1.ndim)\n",
    "print (\" a1[0] = \", a1[0])\n",
    "print (\" a1[0].ndim = \", a1[0].ndim)\n",
    "print (\" a1[0,0] = \", a1[0,0])\n",
    "print (\" a1[0,0].ndim = \", a1[0,0].ndim)"
   ]
  },
  {
   "cell_type": "markdown",
   "metadata": {
    "colab_type": "text",
    "id": "BOJ8AayBtOrR"
   },
   "source": [
    "## Accessing Subdimensional Arrays of an *ndarray* Using Index Arrays\n",
    "\n",
    "### Do Now  LIST!\n",
    "* Access the 3 X 3 **list** with exactly one index where the index is the built-in slice operator, print the result\n",
    "  * How many dimensions does the resulting list have? \\_\\_\\_\\_\\_\\_\\_\\_\\_\\_\\_\\_\\_\\_\\_\\_\\_\\_\\_\\_\\_\\_\\_\\_\\_\\_\\_\\_\n",
    "  * What is the effect of using the slice operator as an index? \\_\\_\\_\\_\\_\\_\\_\\_\\_\\_\\_\\_\\_\\_\\_\\_\\_\\_\\_\\_\\_\\_\\_\n",
    "* Access the 3 X 3 **list** with exactly two indices where both indices are the built-in slice operator, print the result\n",
    "  * What happened in this case? \\_\\_\\_\\_\\_\\_\\_\\_\\_\\_\\_\\_\\_\\_\\_\\_\\_\\_\\_\\_\\_\\_\\_\\_\\_\\_\\_\\_\\_\\_\\_\\_\\_\\_\\_\\_\\_\\_\\_\n",
    "* Access the 3 X 3 **list** with exactly two indices where the first index is the built-in slice operator and the second index is the integer '1', print the result\n",
    "  * What happened in this case? \\_\\_\\_\\_\\_\\_\\_\\_\\_\\_\\_\\_\\_\\_\\_\\_\\_\\_\\_\\_\\_\\_\\_\\_\\_\\_\\_\\_\\_\\_\\_\\_\\_\\_\\_\\_\\_\\_\\_\n",
    "* Access the 3 X 3 **list** with exactly one index where the first index is is the integer '1', print the result\n",
    "  * What is the difference between this and the previous result? \\_\\_\\_\\_\\_\\_\\_\\_\\_\\_\\_\\_\\_\\_\\_\\_\\_\\_\\_\\_\\_\\_\\_"
   ]
  },
  {
   "cell_type": "code",
   "execution_count": null,
   "metadata": {
    "colab": {},
    "colab_type": "code",
    "id": "O-IGJ-hUtOrS"
   },
   "outputs": [],
   "source": [
    "print (\"l1[:] = \", l1[:])\n",
    "print (\"l1[:][:] = \", l1[:][:])\n",
    "print (\"l1[:][1] = \", l1[:][1])\n",
    "print (\"l1[1] = \", l1[1])"
   ]
  },
  {
   "cell_type": "markdown",
   "metadata": {
    "colab_type": "text",
    "id": "cVjOr_NstOrX"
   },
   "source": [
    "* Access the 3 X 3 *ndarray* with exactly one index where the index is the built-in slice operator, print the result\n",
    "* Print out the shape of the resulting array\n",
    "* Print out the number of dimensions of the resulting array\n",
    "  * How many dimensions does the resulting array have? \\_\\_\\_\\_\\_\\_\\_\\_\\_\\_\\_\\_\\_\\_\\_\\_\\_\\_\\_\\_\\_\\_\\_\\_\\_\\_\\_\\_"
   ]
  },
  {
   "cell_type": "code",
   "execution_count": null,
   "metadata": {
    "colab": {},
    "colab_type": "code",
    "id": "YqLFF1mHtOrY"
   },
   "outputs": [],
   "source": [
    "print (\"a1[:] = \", a1[:])\n",
    "print (\"a1[:].shape = \", a1[:].shape)\n",
    "print (\"a1[:].ndim = \", a1[:].ndim)"
   ]
  },
  {
   "cell_type": "markdown",
   "metadata": {
    "colab_type": "text",
    "id": "zWDfXePQtOrf"
   },
   "source": [
    "* Access the 3 X 3 *ndarray* with exactly two indices, where the fist index is the built-in slice operator and the second index is the integer '1', print the result\n",
    "* Print out the shape of the resulting array\n",
    "* Print out the number of dimensions of the resulting array\n",
    "  * Which axis of the original array is being returned, axis 0 or axis 1? \\_\\_\\_\\_\\_\\_\\_\\_\\_\\_\\_\\_\\_\\_\\_\\_\\_\\_\\_\n",
    "  * What is the difference between this result and the corresponding list result? \\_\\_\\_\\_\\_\\_\\_\\_\\_\\_\\_\\_\\_\\_"
   ]
  },
  {
   "cell_type": "code",
   "execution_count": null,
   "metadata": {
    "colab": {},
    "colab_type": "code",
    "id": "JvY5ctKgtOrh"
   },
   "outputs": [],
   "source": [
    "print (\"a1[ : , 1 ] = \", a1[ : , 1 ])\n",
    "print (\"a1[ : , 1 ].shape = \", a1[ : , 1 ].shape)\n",
    "print (\"a1[ : , 1 ].ndim = \", a1[ : , 1 ].ndim )"
   ]
  },
  {
   "cell_type": "markdown",
   "metadata": {
    "colab_type": "text",
    "id": "d8AmN6R8tOrm"
   },
   "source": [
    "* Access the 3 X 3 *ndarray* with exactly two indices, where the fist index is the tuple (0,1,2) (or list) and the second index is the integer'1', print the result\n",
    "  * The splice operator or a list or tuple of indices used for indexing into an *ndarray* are referred to as **index arrays**\n",
    "* Print out the shape of the resulting array\n",
    "* Print out the number of dimensions of the resulting array"
   ]
  },
  {
   "cell_type": "code",
   "execution_count": null,
   "metadata": {
    "colab": {},
    "colab_type": "code",
    "id": "Go6SN4bFtOrn"
   },
   "outputs": [],
   "source": [
    "print (\"a1[ (0,1,2) , 1 ] = \", a1[ (0,1,2) , 1 ])\n",
    "print (\"a1[ (0,1,2) , 1 ].shape = \", a1[ (0,1,2) , 1 ].shape)\n",
    "print (\"a1[ (0,1,2) , 1 ].ndim = \", a1[ (0,1,2) , 1 ].ndim)"
   ]
  },
  {
   "cell_type": "markdown",
   "metadata": {
    "colab_type": "text",
    "id": "cdnRtCt3tOrr"
   },
   "source": [
    "* Access the 3 X 3 *ndarray* with exactly two indices, where the fist index is the tuple (0,2) (or list) and the second index is the integer'1', print the result\n",
    "* Print out the shape of the resulting array\n",
    "* Print out the number of dimensions of the resulting array"
   ]
  },
  {
   "cell_type": "code",
   "execution_count": null,
   "metadata": {
    "colab": {},
    "colab_type": "code",
    "id": "rK4rAuA4tOrs"
   },
   "outputs": [],
   "source": [
    "print (\"a1[ [0,2] , 1 ] = \", a1[ [0,2] , 1 ])\n",
    "print (\"a1[ [0,2] , 1 ].shape = \", a1[ [0,2] , 1 ].shape)\n",
    "print (\"a1[ [0,2] , 1 ].ndim = \", a1[ [0,2] , 1 ].ndim)"
   ]
  },
  {
   "cell_type": "markdown",
   "metadata": {
    "colab_type": "text",
    "id": "nvwznN9MtOrx"
   },
   "source": [
    "* Access the 3 X 3 *ndarray* with the sampe two indices as the prevous step but in reverse order, print the result\n",
    "  * Which axis of the original array is being returned, axis 0 or axis 1? \\_\\_\\_\\_\\_\\_\\_\\_\\_\\_\\_\\_\\_\\_\\_\\_\\_\\_\\_\n",
    "* Print out the shape of the resulting array\n",
    "* Print out the number of dimensions of the resulting array"
   ]
  },
  {
   "cell_type": "code",
   "execution_count": null,
   "metadata": {
    "colab": {},
    "colab_type": "code",
    "id": "maul9DrhtOry"
   },
   "outputs": [],
   "source": [
    "print (\"a1[ 1, [0,2] ] = \", a1[ 1, [0,2] ])\n",
    "print (\"a1[ 1, [0,2] ].shape = \", a1[ 1, [0,2] ].shape)\n",
    "print (\"a1[ 1, [0,2] ].ndim = \", a1[ 1, [0,2] ].ndim)"
   ]
  },
  {
   "cell_type": "markdown",
   "metadata": {
    "colab_type": "text",
    "id": "_Dwa63NutOr1"
   },
   "source": [
    "* Access the 3 X 3 *ndarray* with exactly two indices, where both indices are the index arrays [0,2], print the result\n",
    "  * What is being returned? \\_\\_\\_\\_\\_\\_\\_\\_\\_\\_\\_\\_\\_\\_\\_\\_\\_\\_\\_\\_\\_\\_\\_\\_\\_\\_\\_\\_\\_\\_\\_\\_\\_\\_\\_\\_\\_\\_\n",
    "  * How does it work? \\_\\_\\_\\_\\_\\_\\_\\_\\_\\_\\_\\_\\_\\_\\_\\_\\_\\_\\_\\_\\_\\_\\_\\_\\_\\_\\_\\_\\_\\_\\_\\_\\_\\_\\_\\_\\_\\_\\_\\_\\_\n",
    "* Print out the shape of the resulting array\n",
    "* Print out the number of dimensions of the resulting array"
   ]
  },
  {
   "cell_type": "code",
   "execution_count": null,
   "metadata": {
    "colab": {},
    "colab_type": "code",
    "id": "uO7pInw9tOr2"
   },
   "outputs": [],
   "source": [
    "print (\"a1[ [0,2], [0,2] ] = \", a1[ [0,2], [0,2] ])\n",
    "print (\"a1[ [0,2], [0,2] ].shape = \", a1[ [0,2], [0,2] ].shape)\n",
    "print (\"a1[ [0,2], [0,2] ].ndim = \", a1[ [0,2], [0,2] ].ndim)"
   ]
  },
  {
   "cell_type": "markdown",
   "metadata": {
    "colab_type": "text",
    "id": "opNYfZKgtOr5"
   },
   "source": [
    "* Access the 3 X 3 *ndarray* with exactly two indices, where the fisrt index is the index array [0,0,2,2] and the second index is the index array [0,2,0,2], print the result\n",
    "  * What is being returned? \\_\\_\\_\\_\\_\\_\\_\\_\\_\\_\\_\\_\\_\\_\\_\\_\\_\\_\\_\\_\\_\\_\\_\\_\\_\\_\\_\\_\\_\\_\\_\\_\\_\\_\\_\\_\\_\\_\n",
    "  * How does it work? \\_\\_\\_\\_\\_\\_\\_\\_\\_\\_\\_\\_\\_\\_\\_\\_\\_\\_\\_\\_\\_\\_\\_\\_\\_\\_\\_\\_\\_\\_\\_\\_\\_\\_\\_\\_\\_\\_\\_\\_\\_\n",
    "* Print out the shape of the resulting array\n",
    "* Print out the number of dimensions of the resulting array"
   ]
  },
  {
   "cell_type": "code",
   "execution_count": null,
   "metadata": {
    "colab": {},
    "colab_type": "code",
    "id": "HLvggY1-tOr6"
   },
   "outputs": [],
   "source": [
    "print (\"a1[ [0,0,2,2], [0,2,0,2] ] = \", a1[ [0,0,2,2], [0,2,0,2] ])\n",
    "print (\"a1[ [0,0,2,2], [0,2,0,2] ].shape = \", a1[ [0,0,2,2], [0,2,0,2] ].shape)\n",
    "print (\"a1[ [0,0,2,2], [0,2,0,2] ].ndim = \", a1[ [0,0,2,2], [0,2,0,2] ].ndim)"
   ]
  },
  {
   "cell_type": "markdown",
   "metadata": {
    "colab_type": "text",
    "id": "4Lfqjpm0tOr-"
   },
   "source": [
    "* Access the 3 X 3 *ndarray* with exactly two indices, where the fisrt index is the index array [[0,0],[2,2]] and the second index is the index array [[0,2],[0,2]], print the result\n",
    "  * What is being returned? \\_\\_\\_\\_\\_\\_\\_\\_\\_\\_\\_\\_\\_\\_\\_\\_\\_\\_\\_\\_\\_\\_\\_\\_\\_\\_\\_\\_\\_\\_\\_\\_\\_\\_\\_\\_\\_\\_\n",
    "  * How does it work? \\_\\_\\_\\_\\_\\_\\_\\_\\_\\_\\_\\_\\_\\_\\_\\_\\_\\_\\_\\_\\_\\_\\_\\_\\_\\_\\_\\_\\_\\_\\_\\_\\_\\_\\_\\_\\_\\_\\_\\_\\_\n",
    "* Print out the shape of the resulting array\n",
    "* Print out the number of dimensions of the resulting array"
   ]
  },
  {
   "cell_type": "code",
   "execution_count": null,
   "metadata": {
    "colab": {},
    "colab_type": "code",
    "id": "lOh6G0aZtOr_"
   },
   "outputs": [],
   "source": [
    "print (\"a1[ [[0,0], [2,2]], [[0,2], [0,2]] ] = \", a1[ [[0,0], [2,2]], [[0,2], [0,2]] ])\n",
    "print (\"a1[ [[0,0], [2,2]], [[0,2], [0,2]] ].shape = \", a1[ [[0,0], [2,2]], [[0,2], [0,2]] ].shape)\n",
    "print (\"a1[ [[0,0], [2,2]], [[0,2], [0,2]] ].ndim = \", a1[ [[0,0], [2,2]], [[0,2], [0,2]] ].ndim)"
   ]
  },
  {
   "cell_type": "markdown",
   "metadata": {
    "colab_type": "text",
    "id": "qG6cqZFGtOsD"
   },
   "source": [
    "* Access the 3 X 3 *ndarray* with exactly two indices, where the fist index is the ellipsis (...) and the second index is the integer '1', print the result\n",
    "  * The ellipsis makes an index array the same length corresponding axis of the *ndarray*\n",
    "* Print out the shape of the resulting array\n",
    "* Print out the number of dimensions of the resulting array"
   ]
  },
  {
   "cell_type": "code",
   "execution_count": null,
   "metadata": {
    "colab": {},
    "colab_type": "code",
    "id": "55idv7j1tOsE"
   },
   "outputs": [],
   "source": [
    "print (\"a1[ ... , 1 ] = \", a1[ ... , 1 ])\n",
    "print (\"a1[ ... , 1 ].shape = \", a1[ ... , 1 ].shape)\n",
    "print (\"a1[ ... , 1 ].ndim = \", a1[ ... , 1 ].ndim)"
   ]
  },
  {
   "cell_type": "markdown",
   "metadata": {
    "colab_type": "text",
    "id": "gQcu4FeHtOsK"
   },
   "source": [
    "* Access the 3 X 3 *ndarray* with exactly one index, the boolean expression *a1 < 7* where a1 is the name of the array, print the result\n",
    "  * This is an example of boolean array indexing\n",
    "* Print out the shape of the resulting array\n",
    "* Print out the number of dimensions of the resulting array"
   ]
  },
  {
   "cell_type": "code",
   "execution_count": null,
   "metadata": {
    "colab": {},
    "colab_type": "code",
    "id": "MiVKKLBItOsP"
   },
   "outputs": [],
   "source": [
    "print (\"a1[ a1 < 7 ] = \", a1[ a1 < 7 ])\n",
    "print (\"a1[ a1 < 7 ].shape = \", a1[ a1 < 7 ].shape)\n",
    "print (\"a1[ a1 < 7 ].ndim = \", a1[ a1 < 7 ].ndim)"
   ]
  },
  {
   "cell_type": "markdown",
   "metadata": {
    "colab_type": "text",
    "id": "Hg2v7zXrtOsS"
   },
   "source": [
    "## Changing the Shape and Size of *ndarray*s\n",
    "* It is possible to change the shape and size of an *ndarray* \n",
    "\n",
    "### Do Now!\n",
    "* See [The N-dimensional array (ndarray)](https://docs.scipy.org/doc/numpy/reference/arrays.ndarray.html)\n",
    "* View the doc string for *np.ndarray.reshape*\n",
    "* View the doc string for *np.reshape*\n",
    "* View the doc string for *np.ndarray.resize*\n",
    "* View the doc string for *np.resize*\n",
    "  * What is the difference between the above resize functions? \n",
    "* View the doc string for *np.ndarray.transpose*\n",
    "* View the doc string for *np.transpose*\n",
    "* View the doc string for *np.ndarray.T*\n"
   ]
  },
  {
   "cell_type": "code",
   "execution_count": null,
   "metadata": {
    "colab": {},
    "colab_type": "code",
    "id": "7a9v9sqRtOsT"
   },
   "outputs": [],
   "source": [
    "help(np.ndarray.reshape)\n",
    "help(np.reshape)\n",
    "help(np.ndarray.resize)\n",
    "help(np.resize)\n",
    "help(np.ndarray.transpose)\n",
    "help(np.transpose)\n",
    "help(np.ndarray.T)"
   ]
  },
  {
   "cell_type": "markdown",
   "metadata": {
    "colab_type": "text",
    "id": "rTYqEp1jtOsZ"
   },
   "source": [
    "* Create a one-dimensional array of integers ranging from 1 to 100\n",
    "* Print the array, its shape, dimension, and flags"
   ]
  },
  {
   "cell_type": "code",
   "execution_count": null,
   "metadata": {
    "colab": {},
    "colab_type": "code",
    "id": "CRu45QO0tOsb"
   },
   "outputs": [],
   "source": [
    "a1 = np.arange(1,101)\n",
    "print (\"a1 = \", a1)\n",
    "print (\"a1.shape = \", a1.shape)\n",
    "print (\"a1.ndim = \", a1.ndim)\n",
    "print (\"a1.flags = \", a1.flags)"
   ]
  },
  {
   "cell_type": "markdown",
   "metadata": {
    "colab_type": "text",
    "id": "DLveXFJOtOsg"
   },
   "source": [
    "* Reshape the one dimensional array into a 10 X 10 array\n",
    "  * Perform the operation in-place\n",
    "* Print the array, its shape, dimension and flags"
   ]
  },
  {
   "cell_type": "code",
   "execution_count": null,
   "metadata": {
    "colab": {},
    "colab_type": "code",
    "id": "vP5O021UtOsi"
   },
   "outputs": [],
   "source": [
    "a1.shape = (10,10)\n",
    "print (\"a1 = \", a1)\n",
    "print (\"a1.shape = \", a1.shape)\n",
    "print (\"a1.ndim = \", a1.ndim)\n",
    "print (\"a1.flags = \", a1.flags)"
   ]
  },
  {
   "cell_type": "markdown",
   "metadata": {
    "colab_type": "text",
    "id": "GcxTQu-btOsk"
   },
   "source": [
    "* Create a view of the 10 X 10 array that sees it as a 2 X 50 array\n",
    "* Print the array, its shape, dimension, and flags\n",
    "  * Note that the original array is unchanged \n",
    "  * Note that the view does not own its data"
   ]
  },
  {
   "cell_type": "code",
   "execution_count": null,
   "metadata": {
    "colab": {},
    "colab_type": "code",
    "id": "LPXGyTLotOsl"
   },
   "outputs": [],
   "source": [
    "a2 = a1.reshape(2,50)\n",
    "print (\"After reshaping, a1 is unchaged:\")\n",
    "print (\"a1 = \", a1)\n",
    "print (\"a1.shape = \", a1.shape)\n",
    "print (\"a1.ndim = \", a1.ndim)\n",
    "print (\"a1.flags = \", a1.flags)\n",
    "\n",
    "print (\"After reshaping, a2 is a view of a1:\")\n",
    "print (\"a2 = \", a2)\n",
    "print (\"a2.shape = \", a2.shape)\n",
    "print (\"a2.ndim = \", a2.ndim)\n",
    "print (\"a2.flags = \", a2.flags)"
   ]
  },
  {
   "cell_type": "markdown",
   "metadata": {
    "colab_type": "text",
    "id": "JZdTOHCHtOsn"
   },
   "source": [
    "* An attempt to resize the 2 X 50 view will fail since it does not own its data"
   ]
  },
  {
   "cell_type": "code",
   "execution_count": null,
   "metadata": {
    "colab": {},
    "colab_type": "code",
    "id": "5mC1EjjKtOso"
   },
   "outputs": [],
   "source": [
    "print (\"a3 is a resized view of a2: operation fails!\")\n",
    "a3 = a2.resize(2,5) # this operation fails since since a2 doesn't own its data\n",
    "print (\"a3 = \", a3)\n",
    "print (\"a1.shape = \", a3.shape)\n",
    "print (\"a1.ndim = \", a3.ndim)"
   ]
  },
  {
   "cell_type": "markdown",
   "metadata": {
    "colab_type": "text",
    "id": "Pmf95hcLtOsq"
   },
   "source": [
    "* Create a new one-dimensional array of integers ranging from 1 to 100\n",
    "* Print the array, its shape, dimension, and flags\n",
    "* Resize the array as a smaller 2 X 10 array\n",
    "* Print the array, its shape, dimension, and flags"
   ]
  },
  {
   "cell_type": "code",
   "execution_count": null,
   "metadata": {
    "colab": {},
    "colab_type": "code",
    "id": "35-qu4F7tOsr"
   },
   "outputs": [],
   "source": [
    "a4 = np.arange(1,101)\n",
    "print (\"a4 = \", a4)\n",
    "print (\"a4.shape = \", a4.shape)\n",
    "print (\"a4.ndim = \", a4.ndim)\n",
    "print (\"a4.flags = \", a4.flags)\n",
    "\n",
    "a4.resize(2,10)\n",
    "print (\"a4 = \", a4)\n",
    "print (\"a4.shape = \", a4.shape)\n",
    "print (\"a4.ndim = \", a4.ndim)\n",
    "print (\"a4.flags = \", a4.flags)"
   ]
  },
  {
   "cell_type": "markdown",
   "metadata": {
    "colab_type": "text",
    "id": "t7TtYvvwtOst"
   },
   "source": [
    "* Resize the 2 X 10 array to a 4 X 10 array using two different functions\n",
    "  * Note the difference in how the new elements are populated"
   ]
  },
  {
   "cell_type": "code",
   "execution_count": null,
   "metadata": {
    "colab": {},
    "colab_type": "code",
    "id": "JxaVcFr_tOsu"
   },
   "outputs": [],
   "source": [
    "a4.resize(4,10)  # this will pad with 0\n",
    "print (\"a4 = \", a4)\n",
    "print (\"a4.shape = \", a4.shape)\n",
    "print (\"a4.ndim = \", a4.ndim)\n",
    "print (\"a4.flags = \", a4.flags)\n",
    "\n",
    "a4.resize(2,10) # shrink it down to the original 20 elements\n",
    "a5 = np.resize(a4, (4,10)) # this will recycle data\n",
    "print (\"a5 = \", a5)\n",
    "print (\"a5.shape = \", a5.shape)\n",
    "print (\"a5.ndim = \", a5.ndim)\n",
    "print (\"a5.flags = \", a5.flags)"
   ]
  },
  {
   "cell_type": "markdown",
   "metadata": {
    "colab_type": "text",
    "id": "JVUCG48UtOsx"
   },
   "source": [
    "* Transpose the 4 X 10 array into a 10 X 4 array\n",
    "  * Use the 'T' attribute of *ndarray*\n",
    "* Print the array, its shape, dimension, and flags\n",
    "\n",
    "* Transpose the 10 X 4 array back into a 4 X 10 \n",
    "  * Use the transpose function\n",
    "* Print the array, its shape, dimension, and flags\n"
   ]
  },
  {
   "cell_type": "code",
   "execution_count": null,
   "metadata": {
    "colab": {},
    "colab_type": "code",
    "id": "IODMcJBctOsy"
   },
   "outputs": [],
   "source": [
    "a6 = a5.T\n",
    "print (\"a6 = \", a6)\n",
    "print (\"a6.shape = \", a6.shape)\n",
    "print (\"a6.ndim = \", a6.ndim)\n",
    "print (\"a6.flags = \", a6.flags)\n",
    "\n",
    "a7 = a6.transpose()\n",
    "print (\"a7 = \", a7)\n",
    "print (\"a7.shape = \", a7.shape)\n",
    "print (\"a7.ndim = \", a7.ndim)\n",
    "print (\"a7.flags = \", a7.flags)"
   ]
  },
  {
   "cell_type": "markdown",
   "metadata": {
    "colab_type": "text",
    "id": "VvMx0b3-tOs2"
   },
   "source": [
    "## Adding New Dimensions\n",
    "* It is possible to increase the number of dimensions (axes) of an array\n",
    "* This is useful in various operations involving two *ndarray*s\n",
    "\n",
    "### Do Now!\n",
    "* View the doc string of the *expand_dims* function\n",
    "  * Search for **np.newaxis**"
   ]
  },
  {
   "cell_type": "code",
   "execution_count": null,
   "metadata": {
    "colab": {},
    "colab_type": "code",
    "id": "VMPVAM0PtOs3"
   },
   "outputs": [],
   "source": [
    "help(np.expand_dims)"
   ]
  },
  {
   "cell_type": "markdown",
   "metadata": {
    "colab_type": "text",
    "id": "38ODdvB9tOs5"
   },
   "source": [
    "* Create a one-dimensional array of 10 integers\n",
    "* Print out the array, its shape and dimension"
   ]
  },
  {
   "cell_type": "code",
   "execution_count": null,
   "metadata": {
    "colab": {},
    "colab_type": "code",
    "id": "Z_8vxTnUtOs7"
   },
   "outputs": [],
   "source": [
    "a1 = np.arange(1,10)\n",
    "print (\"a1 = \", a1)\n",
    "print (\"a1.shape = \", a1.shape) \n",
    "print (\"a1.ndim = \", a1.ndim)"
   ]
  },
  {
   "cell_type": "markdown",
   "metadata": {
    "colab_type": "text",
    "id": "3k41BmnItOs-"
   },
   "source": [
    "* Create a new array by appending a new axis to the previously created array\n",
    "* Print out the array, its shape and dimension"
   ]
  },
  {
   "cell_type": "code",
   "execution_count": null,
   "metadata": {
    "colab": {},
    "colab_type": "code",
    "id": "vEMFRQ37tOs_"
   },
   "outputs": [],
   "source": [
    "a2 = a1[:, np.newaxis]\n",
    "print (\"a2 = \", a2)\n",
    "print (\"a2.shape = \", a2.shape)\n",
    "print (\"a2.ndim = \", a2.ndim)"
   ]
  },
  {
   "cell_type": "markdown",
   "metadata": {
    "colab_type": "text",
    "id": "J7zK4knYtOtC"
   },
   "source": [
    "* Add the two arrays together\n",
    "  * Is the addition operation commutative? \\_\\_\\_\\_\\_\\_\\_\\_\\_\\_\\_\\_\\_\\_\\_\\_\\_\\_\\_\\_\\_\\_\n",
    "* Print out the resulting array, its shape and dimension"
   ]
  },
  {
   "cell_type": "code",
   "execution_count": null,
   "metadata": {
    "colab": {},
    "colab_type": "code",
    "id": "ZylaW4tUtOtD"
   },
   "outputs": [],
   "source": [
    "a3 = a2 + a1\n",
    "print (\"a3 = a2 + a1 = \\n\\n\", a2, \" + \", a1, \" = \\n\\n\", a3)\n",
    "print (\"a3.shape = \", a3.shape)\n",
    "print (\"a3.ndim = \", a3.ndim)\n",
    "\n",
    "a4 = a1 + a2\n",
    "print (\"a4 = a1 + a2 = \\n\", a4)\n",
    "print (\"a4.shape = \", a4.shape)\n",
    "print (\"a4.ndim = \", a4.ndim)"
   ]
  },
  {
   "cell_type": "markdown",
   "metadata": {
    "colab_type": "text",
    "id": "lBrvY1eWtOtG"
   },
   "source": [
    "* From the original array of 10 integers, create a new array by prepending a new axis\n",
    "* Print out the array, its shape and dimension\n",
    "* Add the new array to the original array\n",
    "  * Is the addition operation commutative? \\_\\_\\_\\_\\_\\_\\_\\_\\_\\_\\_\\_\\_\\_\\_\\_\\_\\_\\_\\_\\_\\_"
   ]
  },
  {
   "cell_type": "code",
   "execution_count": null,
   "metadata": {
    "colab": {},
    "colab_type": "code",
    "id": "IOOu8rvQtOtG"
   },
   "outputs": [],
   "source": [
    "a5 = a1[np.newaxis, :]\n",
    "print (\"a5 = \", a5)\n",
    "print (\"a5.shape = \", a5.shape)\n",
    "print (\"a5.ndim = \", a5.ndim)\n",
    "print (\"a1 + a5 = \", a1, \" + \", a5, \" = \", a1 + a5 )\n",
    "print (\"a5 + a1 = \", a5, \" + \", a1, \" = \", a5 + a1 )"
   ]
  },
  {
   "cell_type": "markdown",
   "metadata": {
    "colab_type": "text",
    "id": "2Ym1zT2qtOtJ"
   },
   "source": [
    "# End of notebook"
   ]
  }
 ],
 "metadata": {
  "anaconda-cloud": {},
  "colab": {
   "include_colab_link": true,
   "name": "02-02-NumPy-Array_Indexing_and_Slicing.ipynb",
   "provenance": []
  },
  "kernelspec": {
   "display_name": "Python 3",
   "language": "python",
   "name": "python3"
  },
  "language_info": {
   "codemirror_mode": {
    "name": "ipython",
    "version": 3
   },
   "file_extension": ".py",
   "mimetype": "text/x-python",
   "name": "python",
   "nbconvert_exporter": "python",
   "pygments_lexer": "ipython3",
   "version": "3.7.3"
  }
 },
 "nbformat": 4,
 "nbformat_minor": 1
}
