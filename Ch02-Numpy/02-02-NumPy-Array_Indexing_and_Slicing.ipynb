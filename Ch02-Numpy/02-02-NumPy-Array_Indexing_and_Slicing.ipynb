{
  "nbformat": 4,
  "nbformat_minor": 0,
  "metadata": {
    "anaconda-cloud": {},
    "kernelspec": {
      "display_name": "Python 3",
      "language": "python",
      "name": "python3"
    },
    "language_info": {
      "codemirror_mode": {
        "name": "ipython",
        "version": 3
      },
      "file_extension": ".py",
      "mimetype": "text/x-python",
      "name": "python",
      "nbconvert_exporter": "python",
      "pygments_lexer": "ipython3",
      "version": "3.7.3"
    },
    "colab": {
      "name": "02-02-NumPy-Array_Indexing_and_Slicing.ipynb",
      "provenance": [],
      "include_colab_link": true
    }
  },
  "cells": [
    {
      "cell_type": "markdown",
      "metadata": {
        "id": "view-in-github",
        "colab_type": "text"
      },
      "source": [
        "<a href=\"https://colab.research.google.com/github/roitraining/PythonML/blob/Development/Ch02-Numpy/02-02-NumPy-Array_Indexing_and_Slicing.ipynb\" target=\"_parent\"><img src=\"https://colab.research.google.com/assets/colab-badge.svg\" alt=\"Open In Colab\"/></a>"
      ]
    },
    {
      "cell_type": "markdown",
      "metadata": {
        "id": "01MxALxANhc7",
        "colab_type": "text"
      },
      "source": [
        "# Array Indexing, Slicing, and Shapes"
      ]
    },
    {
      "cell_type": "markdown",
      "metadata": {
        "id": "HkZApT_2Nhc9",
        "colab_type": "text"
      },
      "source": [
        "## Accessing Single Elements of an *ndarray*\n",
        "* Accessing elements of an *ndarray* is very similar to the approach taken with Python lists\n",
        "  * Both use square brackets to access elements\n",
        "  * The first element is at index '0' and the last element is at index '-1'\n",
        "  * For multidimensional lists and arrays, there is a slight difference in notation\n",
        "    * Lists use one pair of square brackets for each dimension; e.g., L1[2][3][4]\n",
        "    * *ndarray*s can use one pair of brackets to hold a tuple of coordinates; e.g., A1[2,3,4]\n",
        "      * Called multidimensional indexing\n",
        "      * Each dimension of an *ndarray* is called an **axis**\n",
        "      * The *ndim* attribute is the number of dimensions or axes of an *ndarray*\n",
        "      * The *shape* attribute gives the length, the number of elements, of each axis\n",
        "        * If shape is (4,5,6), then axis 0 has length 4, axis 1 has length 5, etc.\n",
        "    * *ndarray*s can also use one pair of square brackets for each dimension just like lists"
      ]
    },
    {
      "cell_type": "markdown",
      "metadata": {
        "id": "s362YCe_Nhc-",
        "colab_type": "text"
      },
      "source": [
        "### Do Now!\n",
        "* Import numpy\n",
        "* View the doc string for np.ndarray.ndim\n",
        "* View the doc string for np.ndarray.shape"
      ]
    },
    {
      "cell_type": "code",
      "metadata": {
        "id": "R1Rzw2zVNhdA",
        "colab_type": "code",
        "colab": {}
      },
      "source": [
        "import numpy as np"
      ],
      "execution_count": 0,
      "outputs": []
    },
    {
      "cell_type": "code",
      "metadata": {
        "id": "QrdxMRsNNhdG",
        "colab_type": "code",
        "colab": {}
      },
      "source": [
        "help(np.ndarray.ndim)"
      ],
      "execution_count": 0,
      "outputs": []
    },
    {
      "cell_type": "code",
      "metadata": {
        "id": "8_YS8BLqNhdK",
        "colab_type": "code",
        "colab": {}
      },
      "source": [
        "help(np.ndarray.shape)"
      ],
      "execution_count": 0,
      "outputs": []
    },
    {
      "cell_type": "markdown",
      "metadata": {
        "id": "A5KRkJQ4NhdO",
        "colab_type": "text"
      },
      "source": [
        "### Do Now List!\n",
        "* Create a two dimensional, 3 X 3, **list** of integers ranging from 1 to 9\n",
        "* Print the list\n",
        "* Print out the middle element of the second row\n",
        "* Assign a new value to the middle element of the second row\n",
        "* Print out the modified middle element of the second row\n",
        "* Print out the last element of the list using -1 for the indices\n"
      ]
    },
    {
      "cell_type": "code",
      "metadata": {
        "id": "DuuxN8NbNhdP",
        "colab_type": "code",
        "colab": {}
      },
      "source": [
        "l1 = [[1,2,3],[4,5,6],[7,8,9]]\n",
        "print (\"l1 = \", l1)\n",
        "print (\"Before assignment, l1[1][1] = \", l1[1][1])\n",
        "l1[1][1] = 42\n",
        "print (\"After assignment, l1[1][1] = \", l1[1][1])\n",
        "print (\"The last element of the list is l1[-1][-1] = \", l1[-1][-1])"
      ],
      "execution_count": 0,
      "outputs": []
    },
    {
      "cell_type": "markdown",
      "metadata": {
        "id": "EzVdizE0NhdT",
        "colab_type": "text"
      },
      "source": [
        "### Do Now ndarray!\n",
        "* Create a 3 X 3 *ndarray* from the list\n",
        "* Print the array\n",
        "* Print the dimension of the array\n",
        "* Print the shape of the array\n",
        "* Print out the middle element of the second row of the array\n",
        "* Assign a new value to the middle element of the second row of the array\n",
        "* Print out the modified middle element of the second row of the array\n",
        "* Print out the last element of the array using -1 for the indices"
      ]
    },
    {
      "cell_type": "code",
      "metadata": {
        "id": "xIoYxN-PNhdV",
        "colab_type": "code",
        "colab": {}
      },
      "source": [
        "a1 = np.array(l1)\n",
        "print (\"a1 = \", a1)\n",
        "print (\"a1.ndim = \", a1.ndim)\n",
        "print (\"a1.shape = \", a1.shape)\n",
        "print (\"Before assignment, a1[1,1] = \", a1[1, 1])\n",
        "a1[1,1] = 5\n",
        "print (\"After assignment, a1[1,1] = \", a1[1, 1])\n",
        "print (\"The last element of the array is a1[-1,-1] = \", a1[-1,-1])"
      ],
      "execution_count": 0,
      "outputs": []
    },
    {
      "cell_type": "markdown",
      "metadata": {
        "id": "Xf6XmFAZNhdZ",
        "colab_type": "text"
      },
      "source": [
        "## Accessing Subdimensional Arrays of an *ndarray*\n",
        "* If either a list or an *ndarray* with dimension greater than 1 is accessed with less indices than the dimension, the result is a subdimensional array\n",
        "\n",
        "### Do Now List!\n",
        "* Access the 3 X 3 list with no indices, print the result\n",
        "  * How many dimensions does the resulting list have? \\_\\_\\_\\_\\_\\_\\_\\_\\_\\_\\_\\_\\_\\_\\_\\_\\_\\_\\_\\_\\_\\_\\_\\_\\_\\_\\_\\_\n",
        "* Access the 3 X 3 list with 1 index, print the result\n",
        "  * How many dimensions does the resulting list have? \\_\\_\\_\\_\\_\\_\\_\\_\\_\\_\\_\\_\\_\\_\\_\\_\\_\\_\\_\\_\\_\\_\\_\\_\\_\\_\\_\\_\n",
        "  * Which axis of the original list is being returned, axis 0 or axis 1? \\_\\_\\_\\_\\_\\_\\_\\_\\_\\_\\_\\_\\_\\_\\_\\_\\_\\_\\_\n",
        "\n",
        "\n",
        "* Access the 3 X 3 *ndarray* with no indices, print the result\n",
        "* Print out the number of dimensions of the resulting array\n",
        "* Access the 3 X 3 *ndarray* with 1 index, print the result\n",
        "* Print out the number of dimensions of the resulting array\n",
        "  * How many dimensions does the resulting array have? \\_\\_\\_\\_\\_\\_\\_\\_\\_\\_\\_\\_\\_\\_\\_\\_\\_\\_\\_\\_\\_\\_\\_\\_\\_\\_\\_\\_\n",
        "  * Which axis of the original array is being returned, axis 0 or axis 1? \\_\\_\\_\\_\\_\\_\\_\\_\\_\\_\\_\\_\\_\\_\\_\\_\\_\\_\\_\n",
        "* Access one element of the 3 X 3 *ndarray* with 2 indices, print the result\n",
        "* Print out the number of dimensions of the resulting array\n"
      ]
    },
    {
      "cell_type": "code",
      "metadata": {
        "id": "bKBnNsc1Nhdd",
        "colab_type": "code",
        "colab": {}
      },
      "source": [
        "print (\" l1 = \", l1)\n",
        "print (\" l1[0] = \", l1[0])\n",
        "print (\" a1 = \", a1)\n",
        "print (\" a1.ndim = \", a1.ndim)\n",
        "print (\" a1[0] = \", a1[0])\n",
        "print (\" a1[0].ndim = \", a1[0].ndim)\n",
        "print (\" a1[0,0] = \", a1[0,0])\n",
        "print (\" a1[0,0].ndim = \", a1[0,0].ndim)"
      ],
      "execution_count": 0,
      "outputs": []
    },
    {
      "cell_type": "markdown",
      "metadata": {
        "id": "IwwswxjHNhdh",
        "colab_type": "text"
      },
      "source": [
        "## Accessing Subdimensional Arrays of an *ndarray* Using Index Arrays\n",
        "\n",
        "### Do Now List!\n",
        "* Access the 3 X 3 **list** with exactly one index where the index is the built-in slice operator, print the result\n",
        "  * How many dimensions does the resulting list have? \\_\\_\\_\\_\\_\\_\\_\\_\\_\\_\\_\\_\\_\\_\\_\\_\\_\\_\\_\\_\\_\\_\\_\\_\\_\\_\\_\\_\n",
        "  * What is the effect of using the slice operator as an index? \\_\\_\\_\\_\\_\\_\\_\\_\\_\\_\\_\\_\\_\\_\\_\\_\\_\\_\\_\\_\\_\\_\\_\n",
        "* Access the 3 X 3 **list** with exactly two indices where both indices are the built-in slice operator, print the result\n",
        "  * What happened in this case? \\_\\_\\_\\_\\_\\_\\_\\_\\_\\_\\_\\_\\_\\_\\_\\_\\_\\_\\_\\_\\_\\_\\_\\_\\_\\_\\_\\_\\_\\_\\_\\_\\_\\_\\_\\_\\_\\_\\_\n",
        "* Access the 3 X 3 **list** with exactly two indices where the first index is the built-in slice operator and the second index is the integer '1', print the result\n",
        "  * What happened in this case? \\_\\_\\_\\_\\_\\_\\_\\_\\_\\_\\_\\_\\_\\_\\_\\_\\_\\_\\_\\_\\_\\_\\_\\_\\_\\_\\_\\_\\_\\_\\_\\_\\_\\_\\_\\_\\_\\_\\_\n",
        "* Access the 3 X 3 **list** with exactly one index where the first index is is the integer '1', print the result\n",
        "  * What is the difference between this and the previous result? \\_\\_\\_\\_\\_\\_\\_\\_\\_\\_\\_\\_\\_\\_\\_\\_\\_\\_\\_\\_\\_\\_\\_"
      ]
    },
    {
      "cell_type": "code",
      "metadata": {
        "id": "0RcX84zuNhdj",
        "colab_type": "code",
        "colab": {}
      },
      "source": [
        "print (\"l1[:] = \", l1[:])\n",
        "print (\"l1[:][:] = \", l1[:][:])\n",
        "print (\"l1[:][1] = \", l1[:][1])\n",
        "print (\"l1[1] = \", l1[1])"
      ],
      "execution_count": 0,
      "outputs": []
    },
    {
      "cell_type": "markdown",
      "metadata": {
        "id": "E4WWDIxxNhdn",
        "colab_type": "text"
      },
      "source": [
        "* Access the 3 X 3 *ndarray* with exactly one index where the index is the built-in slice operator, print the result\n",
        "* Print out the shape of the resulting array\n",
        "* Print out the number of dimensions of the resulting array\n",
        "  * How many dimensions does the resulting array have? \\_\\_\\_\\_\\_\\_\\_\\_\\_\\_\\_\\_\\_\\_\\_\\_\\_\\_\\_\\_\\_\\_\\_\\_\\_\\_\\_\\_"
      ]
    },
    {
      "cell_type": "code",
      "metadata": {
        "id": "GcA0LB1SNhdo",
        "colab_type": "code",
        "colab": {}
      },
      "source": [
        "print (\"a1[:] = \", a1[:])\n",
        "print (\"a1[:].shape = \", a1[:].shape)\n",
        "print (\"a1[:].ndim = \", a1[:].ndim)"
      ],
      "execution_count": 0,
      "outputs": []
    },
    {
      "cell_type": "markdown",
      "metadata": {
        "id": "yDuv9ZSvNhds",
        "colab_type": "text"
      },
      "source": [
        "* Access the 3 X 3 *ndarray* with exactly two indices, where the first index is the built-in slice operator and the second index is the integer '1', print the result\n",
        "* Print out the shape of the resulting array\n",
        "* Print out the number of dimensions of the resulting array\n",
        "  * Which axis of the original array is being returned, axis 0 or axis 1? \\_\\_\\_\\_\\_\\_\\_\\_\\_\\_\\_\\_\\_\\_\\_\\_\\_\\_\\_\n",
        "  * What is the difference between this result and the corresponding list result? \\_\\_\\_\\_\\_\\_\\_\\_\\_\\_\\_\\_\\_\\_"
      ]
    },
    {
      "cell_type": "code",
      "metadata": {
        "id": "Qsg_v6-sNhdt",
        "colab_type": "code",
        "colab": {}
      },
      "source": [
        "print (\"a1[ : , 1 ] = \", a1[ : , 1 ])\n",
        "print (\"a1[ : , 1 ].shape = \", a1[ : , 1 ].shape)\n",
        "print (\"a1[ : , 1 ].ndim = \", a1[ : , 1 ].ndim )"
      ],
      "execution_count": 0,
      "outputs": []
    },
    {
      "cell_type": "markdown",
      "metadata": {
        "id": "PFF7HsmFNhdw",
        "colab_type": "text"
      },
      "source": [
        "* Access the 3 X 3 *ndarray* with exactly two indices, where the first index is the tuple (0,1,2) (or list) and the second index is the integer'1', print the result\n",
        "  * The splice operator or a list or tuple of indices used for indexing into an *ndarray* are referred to as **index arrays**\n",
        "* Print out the shape of the resulting array\n",
        "* Print out the number of dimensions of the resulting array"
      ]
    },
    {
      "cell_type": "code",
      "metadata": {
        "id": "M_r2eOmnNhdx",
        "colab_type": "code",
        "colab": {}
      },
      "source": [
        "print (\"a1[ (0,1,2) , 1 ] = \", a1[ (0,1,2) , 1 ])\n",
        "print (\"a1[ (0,1,2) , 1 ].shape = \", a1[ (0,1,2) , 1 ].shape)\n",
        "print (\"a1[ (0,1,2) , 1 ].ndim = \", a1[ (0,1,2) , 1 ].ndim)"
      ],
      "execution_count": 0,
      "outputs": []
    },
    {
      "cell_type": "markdown",
      "metadata": {
        "id": "MUo5tkCWNhd2",
        "colab_type": "text"
      },
      "source": [
        "* Access the 3 X 3 *ndarray* with exactly two indices, where the first index is the tuple (0,2) (or list) and the second index is the integer'1', print the result\n",
        "* Print out the shape of the resulting array\n",
        "* Print out the number of dimensions of the resulting array"
      ]
    },
    {
      "cell_type": "code",
      "metadata": {
        "id": "FZvhER7PNhd4",
        "colab_type": "code",
        "colab": {}
      },
      "source": [
        "print (\"a1[ [0,2] , 1 ] = \", a1[ [0,2] , 1 ])\n",
        "print (\"a1[ [0,2] , 1 ].shape = \", a1[ [0,2] , 1 ].shape)\n",
        "print (\"a1[ [0,2] , 1 ].ndim = \", a1[ [0,2] , 1 ].ndim)"
      ],
      "execution_count": 0,
      "outputs": []
    },
    {
      "cell_type": "markdown",
      "metadata": {
        "id": "xlGv5-HONhd7",
        "colab_type": "text"
      },
      "source": [
        "* Access the 3 X 3 *ndarray* with the sampe two indices as the prevous step but in reverse order, print the result\n",
        "  * Which axis of the original array is being returned, axis 0 or axis 1? \\_\\_\\_\\_\\_\\_\\_\\_\\_\\_\\_\\_\\_\\_\\_\\_\\_\\_\\_\n",
        "* Print out the shape of the resulting array\n",
        "* Print out the number of dimensions of the resulting array"
      ]
    },
    {
      "cell_type": "code",
      "metadata": {
        "id": "tQak_Bp6Nhd8",
        "colab_type": "code",
        "colab": {}
      },
      "source": [
        "print (\"a1[ 1, [0,2] ] = \", a1[ 1, [0,2] ])\n",
        "print (\"a1[ 1, [0,2] ].shape = \", a1[ 1, [0,2] ].shape)\n",
        "print (\"a1[ 1, [0,2] ].ndim = \", a1[ 1, [0,2] ].ndim)"
      ],
      "execution_count": 0,
      "outputs": []
    },
    {
      "cell_type": "markdown",
      "metadata": {
        "id": "VzBxr63DNheA",
        "colab_type": "text"
      },
      "source": [
        "* Access the 3 X 3 *ndarray* with exactly two indices, where both indices are the index arrays [0,2], print the result\n",
        "  * What is being returned? \\_\\_\\_\\_\\_\\_\\_\\_\\_\\_\\_\\_\\_\\_\\_\\_\\_\\_\\_\\_\\_\\_\\_\\_\\_\\_\\_\\_\\_\\_\\_\\_\\_\\_\\_\\_\\_\\_\n",
        "  * How does it work? \\_\\_\\_\\_\\_\\_\\_\\_\\_\\_\\_\\_\\_\\_\\_\\_\\_\\_\\_\\_\\_\\_\\_\\_\\_\\_\\_\\_\\_\\_\\_\\_\\_\\_\\_\\_\\_\\_\\_\\_\\_\n",
        "* Print out the shape of the resulting array\n",
        "* Print out the number of dimensions of the resulting array"
      ]
    },
    {
      "cell_type": "code",
      "metadata": {
        "id": "ktiGRNRSNheB",
        "colab_type": "code",
        "colab": {}
      },
      "source": [
        "print (\"a1[ [0,2], [0,2] ] = \", a1[ [0,2], [0,2] ])\n",
        "print (\"a1[ [0,2], [0,2] ].shape = \", a1[ [0,2], [0,2] ].shape)\n",
        "print (\"a1[ [0,2], [0,2] ].ndim = \", a1[ [0,2], [0,2] ].ndim)"
      ],
      "execution_count": 0,
      "outputs": []
    },
    {
      "cell_type": "markdown",
      "metadata": {
        "id": "sikzcwHlNheG",
        "colab_type": "text"
      },
      "source": [
        "* Access the 3 X 3 *ndarray* with exactly two indices, where the first index is the index array [0,0,2,2] and the second index is the index array [0,2,0,2], print the result\n",
        "  * What is being returned? \\_\\_\\_\\_\\_\\_\\_\\_\\_\\_\\_\\_\\_\\_\\_\\_\\_\\_\\_\\_\\_\\_\\_\\_\\_\\_\\_\\_\\_\\_\\_\\_\\_\\_\\_\\_\\_\\_\n",
        "  * How does it work? \\_\\_\\_\\_\\_\\_\\_\\_\\_\\_\\_\\_\\_\\_\\_\\_\\_\\_\\_\\_\\_\\_\\_\\_\\_\\_\\_\\_\\_\\_\\_\\_\\_\\_\\_\\_\\_\\_\\_\\_\\_\n",
        "* Print out the shape of the resulting array\n",
        "* Print out the number of dimensions of the resulting array"
      ]
    },
    {
      "cell_type": "code",
      "metadata": {
        "id": "qV3YhEfTNheI",
        "colab_type": "code",
        "colab": {}
      },
      "source": [
        "print (\"a1[ [0,0,2,2], [0,2,0,2] ] = \", a1[ [0,0,2,2], [0,2,0,2] ])\n",
        "print (\"a1[ [0,0,2,2], [0,2,0,2] ].shape = \", a1[ [0,0,2,2], [0,2,0,2] ].shape)\n",
        "print (\"a1[ [0,0,2,2], [0,2,0,2] ].ndim = \", a1[ [0,0,2,2], [0,2,0,2] ].ndim)"
      ],
      "execution_count": 0,
      "outputs": []
    },
    {
      "cell_type": "markdown",
      "metadata": {
        "id": "QbW52QTsNheL",
        "colab_type": "text"
      },
      "source": [
        "* Access the 3 X 3 *ndarray* with exactly two indices, where the first index is the index array [[0,0],[2,2]] and the second index is the index array [[0,2],[0,2]], print the result\n",
        "  * What is being returned? \\_\\_\\_\\_\\_\\_\\_\\_\\_\\_\\_\\_\\_\\_\\_\\_\\_\\_\\_\\_\\_\\_\\_\\_\\_\\_\\_\\_\\_\\_\\_\\_\\_\\_\\_\\_\\_\\_\n",
        "  * How does it work? \\_\\_\\_\\_\\_\\_\\_\\_\\_\\_\\_\\_\\_\\_\\_\\_\\_\\_\\_\\_\\_\\_\\_\\_\\_\\_\\_\\_\\_\\_\\_\\_\\_\\_\\_\\_\\_\\_\\_\\_\\_\n",
        "* Print out the shape of the resulting array\n",
        "* Print out the number of dimensions of the resulting array"
      ]
    },
    {
      "cell_type": "code",
      "metadata": {
        "id": "F8Hv4vl6NheM",
        "colab_type": "code",
        "colab": {}
      },
      "source": [
        "print (\"a1[ [[0,0], [2,2]], [[0,2], [0,2]] ] = \", a1[ [[0,0], [2,2]], [[0,2], [0,2]] ])\n",
        "print (\"a1[ [[0,0], [2,2]], [[0,2], [0,2]] ].shape = \", a1[ [[0,0], [2,2]], [[0,2], [0,2]] ].shape)\n",
        "print (\"a1[ [[0,0], [2,2]], [[0,2], [0,2]] ].ndim = \", a1[ [[0,0], [2,2]], [[0,2], [0,2]] ].ndim)"
      ],
      "execution_count": 0,
      "outputs": []
    },
    {
      "cell_type": "markdown",
      "metadata": {
        "id": "5i4yGLB4NheQ",
        "colab_type": "text"
      },
      "source": [
        "* Access the 3 X 3 *ndarray* with exactly two indices, where the first index is the ellipsis (...) and the second index is the integer '1', print the result\n",
        "  * The ellipsis makes an index array the same length corresponding axis of the *ndarray*\n",
        "* Print out the shape of the resulting array\n",
        "* Print out the number of dimensions of the resulting array"
      ]
    },
    {
      "cell_type": "code",
      "metadata": {
        "id": "5YvV7aoGNheR",
        "colab_type": "code",
        "colab": {}
      },
      "source": [
        "print (\"a1[ ... , 1 ] = \", a1[ ... , 1 ])\n",
        "print (\"a1[ ... , 1 ].shape = \", a1[ ... , 1 ].shape)\n",
        "print (\"a1[ ... , 1 ].ndim = \", a1[ ... , 1 ].ndim)"
      ],
      "execution_count": 0,
      "outputs": []
    },
    {
      "cell_type": "markdown",
      "metadata": {
        "id": "vTa9N94fNheZ",
        "colab_type": "text"
      },
      "source": [
        "* Access the 3 X 3 *ndarray* with exactly one index, the boolean expression *a1 < 7* where a1 is the name of the array, print the result\n",
        "  * This is an example of boolean array indexing\n",
        "* Print out the shape of the resulting array\n",
        "* Print out the number of dimensions of the resulting array"
      ]
    },
    {
      "cell_type": "code",
      "metadata": {
        "id": "NdzZ95Z8Nheb",
        "colab_type": "code",
        "colab": {}
      },
      "source": [
        "print (\"a1[ a1 < 7 ] = \", a1[ a1 < 7 ])\n",
        "print (\"a1[ a1 < 7 ].shape = \", a1[ a1 < 7 ].shape)\n",
        "print (\"a1[ a1 < 7 ].ndim = \", a1[ a1 < 7 ].ndim)"
      ],
      "execution_count": 0,
      "outputs": []
    },
    {
      "cell_type": "markdown",
      "metadata": {
        "id": "mbwfef7zNheg",
        "colab_type": "text"
      },
      "source": [
        "## Changing the Shape and Size of *ndarray*s\n",
        "* It is possible to change the shape and size of an *ndarray* \n",
        "\n",
        "### Do Now!\n",
        "* See [The N-dimensional array (ndarray)](https://docs.scipy.org/doc/numpy/reference/arrays.ndarray.html)\n",
        "* View the doc string for *np.ndarray.reshape*\n",
        "* View the doc string for *np.reshape*\n",
        "* View the doc string for *np.ndarray.resize*\n",
        "* View the doc string for *np.resize*\n",
        "  * What is the difference between the above resize functions? \n",
        "* View the doc string for *np.ndarray.transpose*\n",
        "* View the doc string for *np.transpose*\n",
        "* View the doc string for *np.ndarray.T*\n"
      ]
    },
    {
      "cell_type": "code",
      "metadata": {
        "id": "Uati84CENheh",
        "colab_type": "code",
        "colab": {}
      },
      "source": [
        "help(np.ndarray.reshape)\n",
        "help(np.reshape)\n",
        "help(np.ndarray.resize)\n",
        "help(np.resize)\n",
        "help(np.ndarray.transpose)\n",
        "help(np.transpose)\n",
        "help(np.ndarray.T)"
      ],
      "execution_count": 0,
      "outputs": []
    },
    {
      "cell_type": "markdown",
      "metadata": {
        "id": "30Ki9hjJNhel",
        "colab_type": "text"
      },
      "source": [
        "* Create a one-dimensional array of integers ranging from 1 to 100\n",
        "* Print the array, its shape, dimension, and flags"
      ]
    },
    {
      "cell_type": "code",
      "metadata": {
        "id": "muYXSB3xNhen",
        "colab_type": "code",
        "colab": {}
      },
      "source": [
        "a1 = np.arange(1,101)\n",
        "print (\"a1 = \", a1)\n",
        "print (\"a1.shape = \", a1.shape)\n",
        "print (\"a1.ndim = \", a1.ndim)\n",
        "print (\"a1.flags = \", a1.flags)"
      ],
      "execution_count": 0,
      "outputs": []
    },
    {
      "cell_type": "markdown",
      "metadata": {
        "id": "NYxWJU3tNher",
        "colab_type": "text"
      },
      "source": [
        "* Reshape the one-dimensional array into a 10 X 10 array\n",
        "  * Perform the operation in-place\n",
        "* Print the array, its shape, dimension, and flags"
      ]
    },
    {
      "cell_type": "code",
      "metadata": {
        "id": "Maze6Y42Nheu",
        "colab_type": "code",
        "colab": {}
      },
      "source": [
        "a1.shape = (10,10)\n",
        "print (\"a1 = \", a1)\n",
        "print (\"a1.shape = \", a1.shape)\n",
        "print (\"a1.ndim = \", a1.ndim)\n",
        "print (\"a1.flags = \", a1.flags)"
      ],
      "execution_count": 0,
      "outputs": []
    },
    {
      "cell_type": "markdown",
      "metadata": {
        "id": "d38JXw9tNhex",
        "colab_type": "text"
      },
      "source": [
        "* Create a view of the 10 X 10 array that sees it as a 2 X 50 array\n",
        "* Print the array, its shape, dimension, and flags\n",
        "  * Note that the original array is unchanged \n",
        "  * Note that the view does not own its data"
      ]
    },
    {
      "cell_type": "code",
      "metadata": {
        "id": "UxoyHY30Nhey",
        "colab_type": "code",
        "colab": {}
      },
      "source": [
        "a2 = a1.reshape(2,50)\n",
        "print (\"After reshaping, a1 is unchaged:\")\n",
        "print (\"a1 = \", a1)\n",
        "print (\"a1.shape = \", a1.shape)\n",
        "print (\"a1.ndim = \", a1.ndim)\n",
        "print (\"a1.flags = \", a1.flags)\n",
        "\n",
        "print (\"After reshaping, a2 is a view of a1:\")\n",
        "print (\"a2 = \", a2)\n",
        "print (\"a2.shape = \", a2.shape)\n",
        "print (\"a2.ndim = \", a2.ndim)\n",
        "print (\"a2.flags = \", a2.flags)"
      ],
      "execution_count": 0,
      "outputs": []
    },
    {
      "cell_type": "markdown",
      "metadata": {
        "id": "vUzkeBlJNhe5",
        "colab_type": "text"
      },
      "source": [
        "* An attempt to resize the 2 X 50 view will fail since it does not own its data"
      ]
    },
    {
      "cell_type": "code",
      "metadata": {
        "id": "Ozq3PLa0Nhe6",
        "colab_type": "code",
        "colab": {}
      },
      "source": [
        "print (\"a3 is a resized view of a2: operation fails!\")\n",
        "a3 = a2.resize(2,5) # this operation fails since since a2 doesn't own its data\n",
        "print (\"a3 = \", a3)\n",
        "print (\"a1.shape = \", a3.shape)\n",
        "print (\"a1.ndim = \", a3.ndim)"
      ],
      "execution_count": 0,
      "outputs": []
    },
    {
      "cell_type": "markdown",
      "metadata": {
        "id": "rD-KdNfbNhe9",
        "colab_type": "text"
      },
      "source": [
        "* Create a new one-dimensional array of integers ranging from 1 to 100\n",
        "* Print the array, its shape, dimension, and flags\n",
        "* Resize the array as a smaller 2 X 10 array\n",
        "* Print the array, its shape, dimension, and flags"
      ]
    },
    {
      "cell_type": "code",
      "metadata": {
        "id": "g8K7QmO7Nhe_",
        "colab_type": "code",
        "colab": {}
      },
      "source": [
        "a4 = np.arange(1,101)\n",
        "print (\"a4 = \", a4)\n",
        "print (\"a4.shape = \", a4.shape)\n",
        "print (\"a4.ndim = \", a4.ndim)\n",
        "print (\"a4.flags = \", a4.flags)\n",
        "\n",
        "a4.resize(2,10)\n",
        "print (\"a4 = \", a4)\n",
        "print (\"a4.shape = \", a4.shape)\n",
        "print (\"a4.ndim = \", a4.ndim)\n",
        "print (\"a4.flags = \", a4.flags)"
      ],
      "execution_count": 0,
      "outputs": []
    },
    {
      "cell_type": "markdown",
      "metadata": {
        "id": "nv04XzAANhfC",
        "colab_type": "text"
      },
      "source": [
        "* Resize the 2 X 10 array to a 4 X 10 array using two different functions\n",
        "  * Note the difference in how the new elements are populated"
      ]
    },
    {
      "cell_type": "code",
      "metadata": {
        "id": "e7PjZpXvNhfE",
        "colab_type": "code",
        "colab": {}
      },
      "source": [
        "a4.resize(4,10)  # this will pad with 0\n",
        "print (\"a4 = \", a4)\n",
        "print (\"a4.shape = \", a4.shape)\n",
        "print (\"a4.ndim = \", a4.ndim)\n",
        "print (\"a4.flags = \", a4.flags)\n",
        "\n",
        "a4.resize(2,10) # shrink it down to the original 20 elements\n",
        "a5 = np.resize(a4, (4,10)) # this will recycle data\n",
        "print (\"a5 = \", a5)\n",
        "print (\"a5.shape = \", a5.shape)\n",
        "print (\"a5.ndim = \", a5.ndim)\n",
        "print (\"a5.flags = \", a5.flags)"
      ],
      "execution_count": 0,
      "outputs": []
    },
    {
      "cell_type": "markdown",
      "metadata": {
        "id": "XuexP_I1NhfM",
        "colab_type": "text"
      },
      "source": [
        "* Transpose the 4 X 10 array into a 10 X 4 array\n",
        "  * Use the 'T' attribute of *ndarray*\n",
        "* Print the array, its shape, dimension, and flags\n",
        "\n",
        "* Transpose the 10 X 4 array back into a 4 X 10 \n",
        "  * Use the transpose function\n",
        "* Print the array, its shape, dimension, and flags\n"
      ]
    },
    {
      "cell_type": "code",
      "metadata": {
        "id": "p7tZNGKdNhfN",
        "colab_type": "code",
        "colab": {}
      },
      "source": [
        "a6 = a5.T\n",
        "print (\"a6 = \", a6)\n",
        "print (\"a6.shape = \", a6.shape)\n",
        "print (\"a6.ndim = \", a6.ndim)\n",
        "print (\"a6.flags = \", a6.flags)\n",
        "\n",
        "a7 = a6.transpose()\n",
        "print (\"a7 = \", a7)\n",
        "print (\"a7.shape = \", a7.shape)\n",
        "print (\"a7.ndim = \", a7.ndim)\n",
        "print (\"a7.flags = \", a7.flags)"
      ],
      "execution_count": 0,
      "outputs": []
    },
    {
      "cell_type": "markdown",
      "metadata": {
        "id": "KV0CN5nwNhfP",
        "colab_type": "text"
      },
      "source": [
        "## Adding New Dimensions\n",
        "* It is possible to increase the number of dimensions (axes) of an array\n",
        "* This is useful in various operations involving two *ndarray*s\n",
        "\n",
        "### Do Now!\n",
        "* View the doc string of the *expand_dims* function\n",
        "  * Search for **np.newaxis**"
      ]
    },
    {
      "cell_type": "code",
      "metadata": {
        "id": "hNQI_-x5NhfQ",
        "colab_type": "code",
        "colab": {}
      },
      "source": [
        "help(np.expand_dims)"
      ],
      "execution_count": 0,
      "outputs": []
    },
    {
      "cell_type": "markdown",
      "metadata": {
        "id": "8lyaglsuNhfT",
        "colab_type": "text"
      },
      "source": [
        "* Create a one-dimensional array of 10 integers\n",
        "* Print out the array, its shape and dimension"
      ]
    },
    {
      "cell_type": "code",
      "metadata": {
        "id": "LPzju1XrNhfU",
        "colab_type": "code",
        "colab": {}
      },
      "source": [
        "a1 = np.arange(1,10)\n",
        "print (\"a1 = \", a1)\n",
        "print (\"a1.shape = \", a1.shape) \n",
        "print (\"a1.ndim = \", a1.ndim)"
      ],
      "execution_count": 0,
      "outputs": []
    },
    {
      "cell_type": "markdown",
      "metadata": {
        "id": "L7XPhF4gNhfW",
        "colab_type": "text"
      },
      "source": [
        "* Create a new array by appending a new axis to the previously created array\n",
        "* Print out the array, its shape and dimension"
      ]
    },
    {
      "cell_type": "code",
      "metadata": {
        "id": "-EetvhzdNhfX",
        "colab_type": "code",
        "colab": {}
      },
      "source": [
        "a2 = a1[:, np.newaxis]\n",
        "print (\"a2 = \", a2)\n",
        "print (\"a2.shape = \", a2.shape)\n",
        "print (\"a2.ndim = \", a2.ndim)"
      ],
      "execution_count": 0,
      "outputs": []
    },
    {
      "cell_type": "markdown",
      "metadata": {
        "id": "K6F-3g-lNhfa",
        "colab_type": "text"
      },
      "source": [
        "* Add the two arrays together\n",
        "  * Is the addition operation commutative? \\_\\_\\_\\_\\_\\_\\_\\_\\_\\_\\_\\_\\_\\_\\_\\_\\_\\_\\_\\_\\_\\_\n",
        "* Print out the resulting array, its shape and dimension"
      ]
    },
    {
      "cell_type": "code",
      "metadata": {
        "id": "yQ38UBTvNhfb",
        "colab_type": "code",
        "colab": {}
      },
      "source": [
        "a3 = a2 + a1\n",
        "print (\"a3 = a2 + a1 = \\n\\n\", a2, \" + \", a1, \" = \\n\\n\", a3)\n",
        "print (\"a3.shape = \", a3.shape)\n",
        "print (\"a3.ndim = \", a3.ndim)\n",
        "\n",
        "a4 = a1 + a2\n",
        "print (\"a4 = a1 + a2 = \\n\", a4)\n",
        "print (\"a4.shape = \", a4.shape)\n",
        "print (\"a4.ndim = \", a4.ndim)"
      ],
      "execution_count": 0,
      "outputs": []
    },
    {
      "cell_type": "markdown",
      "metadata": {
        "id": "RpirCgCcNhfe",
        "colab_type": "text"
      },
      "source": [
        "* From the original array of 10 integers, create a new array by prepending a new axis\n",
        "* Print out the array, its shape and dimension\n",
        "* Add the new array to the original array\n",
        "  * Is the addition operation commutative? \\_\\_\\_\\_\\_\\_\\_\\_\\_\\_\\_\\_\\_\\_\\_\\_\\_\\_\\_\\_\\_\\_"
      ]
    },
    {
      "cell_type": "code",
      "metadata": {
        "id": "8gCR9qJiNhfe",
        "colab_type": "code",
        "colab": {}
      },
      "source": [
        "a5 = a1[np.newaxis, :]\n",
        "print (\"a5 = \", a5)\n",
        "print (\"a5.shape = \", a5.shape)\n",
        "print (\"a5.ndim = \", a5.ndim)\n",
        "print (\"a1 + a5 = \", a1, \" + \", a5, \" = \", a1 + a5 )\n",
        "print (\"a5 + a1 = \", a5, \" + \", a1, \" = \", a5 + a1 )"
      ],
      "execution_count": 0,
      "outputs": []
    },
    {
      "cell_type": "markdown",
      "metadata": {
        "id": "dlXGoDkBNhfh",
        "colab_type": "text"
      },
      "source": [
        "# End of notebook"
      ]
    }
  ]
}