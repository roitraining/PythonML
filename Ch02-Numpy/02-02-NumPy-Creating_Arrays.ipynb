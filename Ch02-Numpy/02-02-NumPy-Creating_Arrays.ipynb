{
  "nbformat": 4,
  "nbformat_minor": 0,
  "metadata": {
    "anaconda-cloud": {},
    "kernelspec": {
      "display_name": "Python 3",
      "language": "python",
      "name": "python3"
    },
    "language_info": {
      "codemirror_mode": {
        "name": "ipython",
        "version": 3
      },
      "file_extension": ".py",
      "mimetype": "text/x-python",
      "name": "python",
      "nbconvert_exporter": "python",
      "pygments_lexer": "ipython3",
      "version": "3.7.3"
    },
    "colab": {
      "name": "02-02-NumPy-Creating_Arrays.ipynb",
      "provenance": [],
      "include_colab_link": true
    }
  },
  "cells": [
    {
      "cell_type": "markdown",
      "metadata": {
        "id": "view-in-github",
        "colab_type": "text"
      },
      "source": [
        "<a href=\"https://colab.research.google.com/github/roitraining/PythonML/blob/master/Ch02-Numpy/02-02-NumPy-Creating_Arrays.ipynb\" target=\"_parent\"><img src=\"https://colab.research.google.com/assets/colab-badge.svg\" alt=\"Open In Colab\"/></a>"
      ]
    },
    {
      "cell_type": "markdown",
      "metadata": {
        "id": "25S7sKIUxBZs",
        "colab_type": "text"
      },
      "source": [
        "# Creating Arrays"
      ]
    },
    {
      "cell_type": "markdown",
      "metadata": {
        "id": "MXEp38knxBZv",
        "colab_type": "text"
      },
      "source": [
        "## Using the *array* Function to Create *ndarrays*\n",
        "* Although it is possible to create an *ndarray* instance using \\_\\_new\\_\\_(), it is not the recommended approach\n",
        "* The factory methods *array*, *zeros*, *ones*, and *empty* are preferred\n",
        "* The *array* factory method is discussed here\n",
        "\n",
        "### Do Now!\n",
        "* Import numpy\n",
        "* View the doc string of the numpy array function"
      ]
    },
    {
      "cell_type": "code",
      "metadata": {
        "id": "3F0Wt8T2xBZx",
        "colab_type": "code",
        "colab": {}
      },
      "source": [
        "import numpy as np"
      ],
      "execution_count": 0,
      "outputs": []
    },
    {
      "cell_type": "code",
      "metadata": {
        "id": "KVMSnFHAxBZ2",
        "colab_type": "code",
        "colab": {}
      },
      "source": [
        "help(np.array)"
      ],
      "execution_count": 0,
      "outputs": []
    },
    {
      "cell_type": "markdown",
      "metadata": {
        "id": "9cT9JCGoxBZ9",
        "colab_type": "text"
      },
      "source": [
        "* The *array* function signature is:\n",
        "\n",
        "       array(object, dtype=None, copy=True, order=None, subok=False, ndmin=0)\n",
        "       \n",
        "    * *object* is 'array_like'\n",
        "    * If *dtype* is not given, how is the type determined? \\_\\_\\_\\_\\_\\_\\_\\_\\_\\_\\_\\_\\_\\_\\_\\_\\_\\_\\_\\_\\_\\_\\_\\_\\_\\_\\_\n",
        "    * Can the *dtype* be used to downcast the data stored in *object*? \\_\\_\\_\\_\\_\\_\\_\\_\\_\\_\\_\\_\\_\\_\\_\\_\\_\\_\\_\\_\\_\n",
        "    * Which numpy method should be used for downcasting data being put into an *ndarray*? \\_\\_\\_\\_\\_\\_\\_\\_\\_\\_\\_\\_\n",
        "    * Is the original object copied by default? \\_\\_\\_\\_\\_\\_\\_\\_\\_\\_\\_\\_\\_\\_\\_\\_\\_\\_\\_\\_\\_\\_\\_\\_\\_\\_\\_\\_\\_\\_\\_\\_\\_\n",
        "    * What is the default order of the new *ndarray*? \\_\\_\\_\\_\\_\\_\\_\\_\\_\\_\\_\\_\\_\\_\\_\\_\\_\\_\\_\\_\\_\\_\\_\\_\\_\\_\\_\\_\\_\\_\n",
        "\n",
        "### Do Now!\n",
        "* Create a 5 element list of large integers\n",
        "* Print the list\n",
        "* Create a one-dimensional array from the list\n",
        "* Print the array"
      ]
    },
    {
      "cell_type": "code",
      "metadata": {
        "id": "ufm3mD-lxBZ_",
        "colab_type": "code",
        "colab": {}
      },
      "source": [
        "l1 = [2**5 for x in range(5)]\n",
        "print (\"l1 = \", l1)"
      ],
      "execution_count": 0,
      "outputs": []
    },
    {
      "cell_type": "code",
      "metadata": {
        "id": "L51J-1rHxBaK",
        "colab_type": "code",
        "colab": {}
      },
      "source": [
        "a1 = np.array(l1)\n",
        "print (\"a1 = \", a1)\n",
        "a1"
      ],
      "execution_count": 0,
      "outputs": []
    },
    {
      "cell_type": "markdown",
      "metadata": {
        "id": "oHSO2uYkxBaW",
        "colab_type": "text"
      },
      "source": [
        "### Do Now!\n",
        "* View the doc string of the NumPy asarray function"
      ]
    },
    {
      "cell_type": "code",
      "metadata": {
        "id": "ILgdrVjPxBad",
        "colab_type": "code",
        "colab": {}
      },
      "source": [
        "help(np.asarray)"
      ],
      "execution_count": 0,
      "outputs": []
    },
    {
      "cell_type": "markdown",
      "metadata": {
        "id": "T71lF2hBxBah",
        "colab_type": "text"
      },
      "source": [
        "### Do Now!\n",
        "* Print the data type of the a1 array\n",
        "* Use the asarray function to create a new array with dtype of int32 from a1\n",
        "* Print the new array\n",
        "* Is the result what you expected? \\_\\_\\_\\_\\_\\_\\_\\_\\_\\_\\_\\_\\_\\_\\_\\_\\_\\_\\_\\_\\_\\_\\_\\_\\_\\_\\_\\_\\_\\_"
      ]
    },
    {
      "cell_type": "code",
      "metadata": {
        "id": "NUe2J_wSxBai",
        "colab_type": "code",
        "colab": {}
      },
      "source": [
        "print (\"a1.dtype = \", a1.dtype)"
      ],
      "execution_count": 0,
      "outputs": []
    },
    {
      "cell_type": "code",
      "metadata": {
        "id": "J8WNeXkNxBal",
        "colab_type": "code",
        "colab": {}
      },
      "source": [
        "m1 = [ 1.0, 2.0, 3.0]\n",
        "m1"
      ],
      "execution_count": 0,
      "outputs": []
    },
    {
      "cell_type": "code",
      "metadata": {
        "id": "knI3KIY0xBas",
        "colab_type": "code",
        "colab": {}
      },
      "source": [
        "am1 = np.asarray(m1)\n",
        "am1.dtype"
      ],
      "execution_count": 0,
      "outputs": []
    },
    {
      "cell_type": "code",
      "metadata": {
        "id": "0zBWaZEUxBa3",
        "colab_type": "code",
        "colab": {}
      },
      "source": [
        "a2 = np.asarray(a1, dtype='int32')\n",
        "print (\"a2 = \", a2)\n",
        "a2"
      ],
      "execution_count": 0,
      "outputs": []
    },
    {
      "cell_type": "markdown",
      "metadata": {
        "id": "tZOHbBRqxBbA",
        "colab_type": "text"
      },
      "source": [
        "### Do Now!\n",
        "* Create a new list of 5 tuples with each tuple containing an integer and float\n",
        "* Print the list\n",
        "* Is the list a nested sequence? \\_\\_\\_\\_\\_\\_\\_\\_\\_\\_\\_\\_\\_\\_\\_\\_\\_\\_\n",
        "* Create a new *ndarray* from the list\n",
        "* Print the array\n",
        "* Print the number of elements in the array\n",
        "* Print the data type of the elements\n",
        "  * Note that the integers in the original list have been up-casted to float\n",
        "* Print the size of the array elements\n",
        "* Print the number of bytes used to store the array data\n",
        "* Print the number of dimensions of the array\n",
        "* Print the shape of the array\n",
        "* Print the strides of the array\n",
        "* Print memory use information"
      ]
    },
    {
      "cell_type": "code",
      "metadata": {
        "id": "3v6auOLDxBbD",
        "colab_type": "code",
        "colab": {}
      },
      "source": [
        "l2 = [(2 ** 54, 3.578 **10) for i in range(5)]\n",
        "print (\"l2 = \", l2)\n",
        "\n",
        "a2 = np.array(l2)\n",
        "print(\"a2 = \", a2)\n",
        "\n",
        "print (\"Number of elements, a2.size = \", a2.size)\n",
        "\n",
        "print (\"Data type of elements, a2.dtype =\", a2.dtype)\n",
        "\n",
        "print (\"Size of the array elements, a2.itemsize = \", a2.itemsize)\n",
        "\n",
        "print (\"Total number of bytes used to store array data, a2.nbytes = \", a2.nbytes)\n",
        "\n",
        "print (\"Number of dimensions, a2.ndim =\", a2.ndim)\n",
        "\n",
        "print (\"Shape of the array, a2.shape = \", a2.shape, \" ==>  a\", a2.shape[0], \"X\", a2.shape[1])\n",
        "\n",
        "print (\"Strides of the array = \", a2.strides)\n",
        "\n",
        "print (\"Memory use information = \", a2.flags)"
      ],
      "execution_count": 0,
      "outputs": []
    },
    {
      "cell_type": "code",
      "metadata": {
        "id": "0f6ikTJVxBbG",
        "colab_type": "code",
        "colab": {}
      },
      "source": [
        "x = np.ones((2,3,4,5), dtype='float128')\n",
        "x"
      ],
      "execution_count": 0,
      "outputs": []
    },
    {
      "cell_type": "markdown",
      "metadata": {
        "id": "D2dTCLwOxBbJ",
        "colab_type": "text"
      },
      "source": [
        "## Summary of useful *ndarray* attributes\n",
        "* For convenience, here a list of *ndarray* attributes\n",
        "* Given x = np.ones( (2,3,4,5), dtype='float128')\n",
        "   * ndim, the number of dimensions; e.g., 4\n",
        "   * shape, the size of each dimension; e.g., (2,3,4,5)\n",
        "   * dtype, the data type of each element; e.g., np.float128\n",
        "   * itemsize, the size of each element \n",
        "        * Determined by the dtype; e.g., 16 bytes\n",
        "   * size, the total number of elements in the array\n",
        "        * Determined by the product of the shape sizes; e.g., 2 \\* 3 \\* 4 \\* 5 = 120\n",
        "   * nbytes, the total size of the array\n",
        "        * Determine by the product of size and itemsize; e.g., 120 * 16 = 1920\n",
        "   * strides, the number of bytes traversed in order to move from element to element in one dimension or across dimensions"
      ]
    },
    {
      "cell_type": "markdown",
      "metadata": {
        "id": "UfZFSY6_xBbL",
        "colab_type": "text"
      },
      "source": [
        "## Using the *zeros* Function to Create *ndarrays*\n",
        "* The *zeros* function, as its name suggest, creates an *ndarray* containing all zeros\n",
        "* Unlike the *array* function, *zeros* doesn't take source data\n",
        "* *zeros* includes a *shape* parameter for specifying the dimensions of the created *ndarray*\n",
        "\n",
        "### Do Now!\n",
        "* View the doc string of the numpy *zeros* function"
      ]
    },
    {
      "cell_type": "code",
      "metadata": {
        "id": "u0D6qN0qxBbN",
        "colab_type": "code",
        "colab": {}
      },
      "source": [
        "help(np.zeros)"
      ],
      "execution_count": 0,
      "outputs": []
    },
    {
      "cell_type": "markdown",
      "metadata": {
        "id": "6kqBToTqxBbQ",
        "colab_type": "text"
      },
      "source": [
        "### Do Now!\n",
        "* Create a one dimensional, five-element array of zeros of dtype int32 \n",
        "* Print the array\n",
        "* Create a two dimensional,  5 X 7,  array of zeros of the default dtype\n",
        "* Print the array\n",
        "* Print the size and type of the elements\n",
        "* Print the number of elements\n",
        "* Print the total number of bytes required to store the data\n",
        "* Print the number of dimensions"
      ]
    },
    {
      "cell_type": "code",
      "metadata": {
        "id": "toJ6OjONxBbR",
        "colab_type": "code",
        "colab": {}
      },
      "source": [
        "z1 = np.zeros(5, dtype='int32')\n",
        "print (\"z1 = \", z1)\n",
        "\n",
        "z2 = np.zeros( (5,7) )\n",
        "print (\"z2 = \", z2)\n",
        "\n",
        "print (\"Size of elements, z2.itemsize = \", z2.itemsize)\n",
        "print (\"Type of elements, z2.dtype\", z2.dtype)\n",
        "print (\"Number of elements, z2.size = \", z2.size)\n",
        "print (\"Total number of data bytes, z2.nbytes = \", z2.nbytes)\n",
        "print (\"Number of dimensions, z2.ndim = \", z2.ndim)"
      ],
      "execution_count": 0,
      "outputs": []
    },
    {
      "cell_type": "markdown",
      "metadata": {
        "collapsed": true,
        "id": "LOGFGaa9xBbU",
        "colab_type": "text"
      },
      "source": [
        "## Using the *ones* Function to Create *ndarrays*\n",
        "* The *ones* function works just like the *zeros* function except that it creates an *ndarray* containing all ones\n",
        "\n",
        "### Do Now!\n",
        "* View the doc string of the numpy *ones* function"
      ]
    },
    {
      "cell_type": "code",
      "metadata": {
        "id": "GOq6iar5xBbV",
        "colab_type": "code",
        "colab": {}
      },
      "source": [
        "np.ones?"
      ],
      "execution_count": 0,
      "outputs": []
    },
    {
      "cell_type": "markdown",
      "metadata": {
        "id": "5QqA625wxBbY",
        "colab_type": "text"
      },
      "source": [
        "### Do Now!\n",
        "* Create a four dimensional,  2 X 3 X 4 X 5,  array of ones of type 'complex64'\n",
        "* Print the array\n",
        "* Print the size and type of the elements\n",
        "* Print the number of elements\n",
        "* Print the total number of bytes required to store the data\n",
        "* Print the number of dimensions\n",
        "* Print the shape of the array"
      ]
    },
    {
      "cell_type": "code",
      "metadata": {
        "id": "18XWM843xBba",
        "colab_type": "code",
        "colab": {}
      },
      "source": [
        "o4 = np.ones( (2,3,4,5), dtype=np.complex64 )\n",
        "print (\"o4 = \", o4, \"\\n\")\n",
        "\n",
        "print (\"Size of elements, o4.itemsize = \", o4.itemsize)\n",
        "print (\"Type of elements, o4.dtype\", o4.dtype)\n",
        "print (\"Number of elements, o4.size = \", o4.size)\n",
        "print (\"Total number of data bytes, o4.nbytes = \", o4.nbytes)\n",
        "print (\"Number of dimensions, o4.ndim = \", o4.ndim)\n",
        "print (\"The shape of the array, o4.shape = \", o4.shape)"
      ],
      "execution_count": 0,
      "outputs": []
    },
    {
      "cell_type": "markdown",
      "metadata": {
        "id": "msvKwUKBxBbf",
        "colab_type": "text"
      },
      "source": [
        "## Other Functions for Creating *ndarrays*\n",
        "### Do Now!"
      ]
    },
    {
      "cell_type": "markdown",
      "metadata": {
        "id": "1n2cnw-exBbg",
        "colab_type": "text"
      },
      "source": [
        "### *np.arange*\n",
        "* View the doc string for *np.arange*\n",
        "* Print out an *ndarray* with elements rainging from 5 to 25 with a step of 4"
      ]
    },
    {
      "cell_type": "code",
      "metadata": {
        "id": "zPBXte8zxBbh",
        "colab_type": "code",
        "colab": {}
      },
      "source": [
        "help(np.arange)"
      ],
      "execution_count": 0,
      "outputs": []
    },
    {
      "cell_type": "code",
      "metadata": {
        "id": "VXgJu2laxBbm",
        "colab_type": "code",
        "colab": {}
      },
      "source": [
        "print (\"arange array = \", np.arange(5, 25, 4))"
      ],
      "execution_count": 0,
      "outputs": []
    },
    {
      "cell_type": "markdown",
      "metadata": {
        "id": "23oMPBkdxBbw",
        "colab_type": "text"
      },
      "source": [
        "### *np.linspace*\n",
        "* View the doc string for *np.linspace*\n",
        "* Print an array of 50 numbers spaced over the interval 1 to 25"
      ]
    },
    {
      "cell_type": "code",
      "metadata": {
        "id": "fcyxk6S6xBbz",
        "colab_type": "code",
        "colab": {}
      },
      "source": [
        "help(np.linspace)"
      ],
      "execution_count": 0,
      "outputs": []
    },
    {
      "cell_type": "code",
      "metadata": {
        "id": "xN6COUyYxBb2",
        "colab_type": "code",
        "colab": {}
      },
      "source": [
        "print (\"Evenly spaced array = \", np.linspace(1,25))"
      ],
      "execution_count": 0,
      "outputs": []
    },
    {
      "cell_type": "markdown",
      "metadata": {
        "id": "hWa5m_XfxBb5",
        "colab_type": "text"
      },
      "source": [
        "# End of notebook"
      ]
    }
  ]
}