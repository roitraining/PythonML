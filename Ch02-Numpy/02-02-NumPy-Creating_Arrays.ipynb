{
 "cells": [
  {
   "cell_type": "markdown",
   "metadata": {
    "colab_type": "text",
    "id": "view-in-github"
   },
   "source": [
    "<a href=\"https://colab.research.google.com/github/roitraining/PythonML/blob/master/Ch02-Numpy/02-02-NumPy-Creating_Arrays.ipynb\" target=\"_parent\"><img src=\"https://colab.research.google.com/assets/colab-badge.svg\" alt=\"Open In Colab\"/></a>"
   ]
  },
  {
   "cell_type": "markdown",
   "metadata": {
    "colab_type": "text",
    "id": "25S7sKIUxBZs"
   },
   "source": [
    "# Creating Arrays"
   ]
  },
  {
   "cell_type": "markdown",
   "metadata": {
    "colab_type": "text",
    "id": "MXEp38knxBZv"
   },
   "source": [
    "## Using the *array* Function to Create *ndarrays*\n",
    "* Although it is possible to create an *ndarray* instance using \\_\\_new\\_\\_(), it is not the recommended approach\n",
    "* The factory methods *array*, *zeros*, *ones*, and *empty* are preferred\n",
    "* The *array* factory method is discussed here\n",
    "\n",
    "### Do Now!\n",
    "* Import numpy\n",
    "* View the doc string of the numpy array function"
   ]
  },
  {
   "cell_type": "code",
   "execution_count": null,
   "metadata": {
    "colab": {},
    "colab_type": "code",
    "id": "3F0Wt8T2xBZx"
   },
   "outputs": [],
   "source": [
    "import numpy as np"
   ]
  },
  {
   "cell_type": "code",
   "execution_count": null,
   "metadata": {
    "colab": {},
    "colab_type": "code",
    "id": "KVMSnFHAxBZ2"
   },
   "outputs": [],
   "source": [
    "help(np.array)"
   ]
  },
  {
   "cell_type": "markdown",
   "metadata": {
    "colab_type": "text",
    "id": "9cT9JCGoxBZ9"
   },
   "source": [
    "* The *array* function signature is:\n",
    "\n",
    "       array(object, dtype=None, copy=True, order=None, subok=False, ndmin=0)\n",
    "       \n",
    "    * *object* is 'array_like'\n",
    "    * If *dtype* is not given, how is the type determined? \\_\\_\\_\\_\\_\\_\\_\\_\\_\\_\\_\\_\\_\\_\\_\\_\\_\\_\\_\\_\\_\\_\\_\\_\\_\\_\\_\n",
    "    * Can the *dtype* be used to downcast the data stored in *object*? \\_\\_\\_\\_\\_\\_\\_\\_\\_\\_\\_\\_\\_\\_\\_\\_\\_\\_\\_\\_\\_\n",
    "    * Which numpy method should be used for downcasting data being put into an *ndarray*? \\_\\_\\_\\_\\_\\_\\_\\_\\_\\_\\_\\_\n",
    "    * Is the original object copied by default? \\_\\_\\_\\_\\_\\_\\_\\_\\_\\_\\_\\_\\_\\_\\_\\_\\_\\_\\_\\_\\_\\_\\_\\_\\_\\_\\_\\_\\_\\_\\_\\_\\_\n",
    "    * What is the default order of the new *ndarray*? \\_\\_\\_\\_\\_\\_\\_\\_\\_\\_\\_\\_\\_\\_\\_\\_\\_\\_\\_\\_\\_\\_\\_\\_\\_\\_\\_\\_\\_\\_\n",
    "\n",
    "### Do Now!\n",
    "* Create a 5 element list of large integers\n",
    "* Print the list\n",
    "* Create a one-dimensional array from the list\n",
    "* Print the array"
   ]
  },
  {
   "cell_type": "code",
   "execution_count": null,
   "metadata": {
    "colab": {},
    "colab_type": "code",
    "id": "ufm3mD-lxBZ_"
   },
   "outputs": [],
   "source": [
    "l1 = [2**5 for x in range(5)]\n",
    "print (\"l1 = \", l1)"
   ]
  },
  {
   "cell_type": "code",
   "execution_count": null,
   "metadata": {
    "colab": {},
    "colab_type": "code",
    "id": "L51J-1rHxBaK"
   },
   "outputs": [],
   "source": [
    "a1 = np.array(l1)\n",
    "print (\"a1 = \", a1)\n",
    "a1"
   ]
  },
  {
   "cell_type": "markdown",
   "metadata": {
    "colab_type": "text",
    "id": "oHSO2uYkxBaW"
   },
   "source": [
    "### Do Now!\n",
    "* View the doc string of the NumPy asarray function"
   ]
  },
  {
   "cell_type": "code",
   "execution_count": null,
   "metadata": {
    "colab": {},
    "colab_type": "code",
    "id": "ILgdrVjPxBad"
   },
   "outputs": [],
   "source": [
    "help(np.asarray)"
   ]
  },
  {
   "cell_type": "markdown",
   "metadata": {
    "colab_type": "text",
    "id": "T71lF2hBxBah"
   },
   "source": [
    "### Do Now!\n",
    "* Print the data type of the a1 array\n",
    "* Use the asarray function to create a new array with dtype of int32 from a1\n",
    "* Print the new array\n",
    "* Is the result what you expected? \\_\\_\\_\\_\\_\\_\\_\\_\\_\\_\\_\\_\\_\\_\\_\\_\\_\\_\\_\\_\\_\\_\\_\\_\\_\\_\\_\\_\\_\\_"
   ]
  },
  {
   "cell_type": "code",
   "execution_count": null,
   "metadata": {
    "colab": {},
    "colab_type": "code",
    "id": "NUe2J_wSxBai"
   },
   "outputs": [],
   "source": [
    "print (\"a1.dtype = \", a1.dtype)"
   ]
  },
  {
   "cell_type": "code",
   "execution_count": null,
   "metadata": {
    "colab": {},
    "colab_type": "code",
    "id": "J8WNeXkNxBal"
   },
   "outputs": [],
   "source": [
    "m1 = [ 1.0, 2.0, 3.0]\n",
    "m1"
   ]
  },
  {
   "cell_type": "code",
   "execution_count": null,
   "metadata": {
    "colab": {},
    "colab_type": "code",
    "id": "knI3KIY0xBas"
   },
   "outputs": [],
   "source": [
    "am1 = np.asarray(m1)\n",
    "am1.dtype"
   ]
  },
  {
   "cell_type": "code",
   "execution_count": null,
   "metadata": {
    "colab": {},
    "colab_type": "code",
    "id": "0zBWaZEUxBa3"
   },
   "outputs": [],
   "source": [
    "a2 = np.asarray(a1, dtype='int32')\n",
    "print (\"a2 = \", a2)\n",
    "a2"
   ]
  },
  {
   "cell_type": "markdown",
   "metadata": {
    "colab_type": "text",
    "id": "tZOHbBRqxBbA"
   },
   "source": [
    "### Do Now!\n",
    "* Create a new list of 5 tuples with each tuple containing an integer and float\n",
    "* Print the list\n",
    "* Is the list a nested sequence? \\_\\_\\_\\_\\_\\_\\_\\_\\_\\_\\_\\_\\_\\_\\_\\_\\_\\_\n",
    "* Create a new *ndarray* from the list\n",
    "* Print the array\n",
    "* Print the number of elements in the array\n",
    "* Print the data type of the elements\n",
    "  * Note that the integers in the original list have been up-casted to float\n",
    "* Print the size of the array elements\n",
    "* Print the number of bytes used to store the array data\n",
    "* Print the number of dimensions of the array\n",
    "* Print the shape of the array\n",
    "* Print the strides of the array\n",
    "* Print memory use information"
   ]
  },
  {
   "cell_type": "code",
   "execution_count": null,
   "metadata": {
    "colab": {},
    "colab_type": "code",
    "id": "3v6auOLDxBbD"
   },
   "outputs": [],
   "source": [
    "l2 = [(2 ** 54, 3.578 **10) for i in range(5)]\n",
    "print (\"l2 = \", l2)\n",
    "\n",
    "a2 = np.array(l2)\n",
    "print(\"a2 = \", a2)\n",
    "\n",
    "print (\"Number of elements, a2.size = \", a2.size)\n",
    "\n",
    "print (\"Data type of elements, a2.dtype =\", a2.dtype)\n",
    "\n",
    "print (\"Size of the array elements, a2.itemsize = \", a2.itemsize)\n",
    "\n",
    "print (\"Total number of bytes used to store array data, a2.nbytes = \", a2.nbytes)\n",
    "\n",
    "print (\"Number of dimensions, a2.ndim =\", a2.ndim)\n",
    "\n",
    "print (\"Shape of the array, a2.shape = \", a2.shape, \" ==>  a\", a2.shape[0], \"X\", a2.shape[1])\n",
    "\n",
    "print (\"Strides of the array = \", a2.strides)\n",
    "\n",
    "print (\"Memory use information = \", a2.flags)"
   ]
  },
  {
   "cell_type": "code",
   "execution_count": null,
   "metadata": {
    "colab": {},
    "colab_type": "code",
    "id": "0f6ikTJVxBbG"
   },
   "outputs": [],
   "source": [
    "x = np.ones((2,3,4,5), dtype='float128')\n",
    "x"
   ]
  },
  {
   "cell_type": "markdown",
   "metadata": {
    "colab_type": "text",
    "id": "D2dTCLwOxBbJ"
   },
   "source": [
    "## Summary of useful *ndarray* attributes\n",
    "* For convenience, here a list of *ndarray* attributes\n",
    "* Given x = np.ones( (2,3,4,5), dtype='float128')\n",
    "   * ndim, the number of dimensions; e.g., 4\n",
    "   * shape, the size of each dimension; e.g., (2,3,4,5)\n",
    "   * dtype, the data type of each element; e.g., np.float128\n",
    "   * itemsize, the size of each element \n",
    "        * Determined by the dtype; e.g., 16 bytes\n",
    "   * size, the total number of elements in the array\n",
    "        * Determined by the product of the shape sizes; e.g., 2 \\* 3 \\* 4 \\* 5 = 120\n",
    "   * nbytes, the total size of the array\n",
    "        * Determine by the product of size and itemsize; e.g., 120 * 16 = 1920\n",
    "   * strides, the number of bytes traversed in order to move from element to element in one dimension or across dimensions"
   ]
  },
  {
   "cell_type": "markdown",
   "metadata": {
    "colab_type": "text",
    "id": "UfZFSY6_xBbL"
   },
   "source": [
    "## Using the *zeros* Function to Create *ndarrays*\n",
    "* The *zeros* function, as its name suggest, creates an *ndarray* containing all zeros\n",
    "* Unlike the *array* function, *zeros* doesn't take source data\n",
    "* *zeros* includes a *shape* parameter for specifying the dimensions of the created *ndarray*\n",
    "\n",
    "### Do Now!\n",
    "* View the doc string of the numpy *zeros* function"
   ]
  },
  {
   "cell_type": "code",
   "execution_count": null,
   "metadata": {
    "colab": {},
    "colab_type": "code",
    "id": "u0D6qN0qxBbN"
   },
   "outputs": [],
   "source": [
    "help(np.zeros)"
   ]
  },
  {
   "cell_type": "markdown",
   "metadata": {
    "colab_type": "text",
    "id": "6kqBToTqxBbQ"
   },
   "source": [
    "### Do Now!\n",
    "* Create a one dimensional, five-element array of zeros of dtype int32 \n",
    "* Print the array\n",
    "* Create a two dimensional,  5 X 7,  array of zeros of the default dtype\n",
    "* Print the array\n",
    "* Print the size and type of the elements\n",
    "* Print the number of elements\n",
    "* Print the total number of bytes required to store the data\n",
    "* Print the number of dimensions"
   ]
  },
  {
   "cell_type": "code",
   "execution_count": null,
   "metadata": {
    "colab": {},
    "colab_type": "code",
    "id": "toJ6OjONxBbR"
   },
   "outputs": [],
   "source": [
    "z1 = np.zeros(5, dtype='int32')\n",
    "print (\"z1 = \", z1)\n",
    "\n",
    "z2 = np.zeros( (5,7) )\n",
    "print (\"z2 = \", z2)\n",
    "\n",
    "print (\"Size of elements, z2.itemsize = \", z2.itemsize)\n",
    "print (\"Type of elements, z2.dtype\", z2.dtype)\n",
    "print (\"Number of elements, z2.size = \", z2.size)\n",
    "print (\"Total number of data bytes, z2.nbytes = \", z2.nbytes)\n",
    "print (\"Number of dimensions, z2.ndim = \", z2.ndim)"
   ]
  },
  {
   "cell_type": "markdown",
   "metadata": {
    "colab_type": "text",
    "collapsed": true,
    "id": "LOGFGaa9xBbU"
   },
   "source": [
    "## Using the *ones* Function to Create *ndarrays*\n",
    "* The *ones* function works just like the *zeros* function except that it creates an *ndarray* containing all ones\n",
    "\n",
    "### Do Now!\n",
    "* View the doc string of the numpy *ones* function"
   ]
  },
  {
   "cell_type": "code",
   "execution_count": null,
   "metadata": {
    "colab": {},
    "colab_type": "code",
    "id": "GOq6iar5xBbV"
   },
   "outputs": [],
   "source": [
    "help(np.ones)"
   ]
  },
  {
   "cell_type": "markdown",
   "metadata": {
    "colab_type": "text",
    "id": "5QqA625wxBbY"
   },
   "source": [
    "### Do Now!\n",
    "* Create a four dimensional,  2 X 3 X 4 X 5,  array of ones of type 'complex64'\n",
    "* Print the array\n",
    "* Print the size and type of the elements\n",
    "* Print the number of elements\n",
    "* Print the total number of bytes required to store the data\n",
    "* Print the number of dimensions\n",
    "* Print the shape of the array"
   ]
  },
  {
   "cell_type": "code",
   "execution_count": null,
   "metadata": {
    "colab": {},
    "colab_type": "code",
    "id": "18XWM843xBba"
   },
   "outputs": [],
   "source": [
    "o4 = np.ones( (2,3,4,5), dtype=np.complex64 )\n",
    "print (\"o4 = \", o4, \"\\n\")\n",
    "\n",
    "print (\"Size of elements, o4.itemsize = \", o4.itemsize)\n",
    "print (\"Type of elements, o4.dtype\", o4.dtype)\n",
    "print (\"Number of elements, o4.size = \", o4.size)\n",
    "print (\"Total number of data bytes, o4.nbytes = \", o4.nbytes)\n",
    "print (\"Number of dimensions, o4.ndim = \", o4.ndim)\n",
    "print (\"The shape of the array, o4.shape = \", o4.shape)"
   ]
  },
  {
   "cell_type": "markdown",
   "metadata": {
    "colab_type": "text",
    "id": "msvKwUKBxBbf"
   },
   "source": [
    "## Other Functions for Creating *ndarrays*\n",
    "### Do Now!"
   ]
  },
  {
   "cell_type": "markdown",
   "metadata": {
    "colab_type": "text",
    "id": "1n2cnw-exBbg"
   },
   "source": [
    "### *np.arange*\n",
    "* View the doc string for *np.arange*\n",
    "* Print out an *ndarray* with elements rainging from 5 to 25 with a step of 4"
   ]
  },
  {
   "cell_type": "code",
   "execution_count": null,
   "metadata": {
    "colab": {},
    "colab_type": "code",
    "id": "zPBXte8zxBbh"
   },
   "outputs": [],
   "source": [
    "help(np.arange)"
   ]
  },
  {
   "cell_type": "code",
   "execution_count": null,
   "metadata": {
    "colab": {},
    "colab_type": "code",
    "id": "VXgJu2laxBbm"
   },
   "outputs": [],
   "source": [
    "print (\"arange array = \", np.arange(5, 25, 4))"
   ]
  },
  {
   "cell_type": "markdown",
   "metadata": {
    "colab_type": "text",
    "id": "23oMPBkdxBbw"
   },
   "source": [
    "### *np.linspace*\n",
    "* View the doc string for *np.linspace*\n",
    "* Print an array of 50 numbers spaced over the interval 1 to 25"
   ]
  },
  {
   "cell_type": "code",
   "execution_count": null,
   "metadata": {
    "colab": {},
    "colab_type": "code",
    "id": "fcyxk6S6xBbz"
   },
   "outputs": [],
   "source": [
    "help(np.linspace)"
   ]
  },
  {
   "cell_type": "code",
   "execution_count": null,
   "metadata": {
    "colab": {},
    "colab_type": "code",
    "id": "xN6COUyYxBb2"
   },
   "outputs": [],
   "source": [
    "print (\"Evenly spaced array = \", np.linspace(1,25))"
   ]
  },
  {
   "cell_type": "markdown",
   "metadata": {
    "colab_type": "text",
    "id": "hWa5m_XfxBb5"
   },
   "source": [
    "# End of notebook"
   ]
  }
 ],
 "metadata": {
  "anaconda-cloud": {},
  "colab": {
   "include_colab_link": true,
   "name": "02-02-NumPy-Creating_Arrays.ipynb",
   "provenance": []
  },
  "kernelspec": {
   "display_name": "Python 3",
   "language": "python",
   "name": "python3"
  },
  "language_info": {
   "codemirror_mode": {
    "name": "ipython",
    "version": 3
   },
   "file_extension": ".py",
   "mimetype": "text/x-python",
   "name": "python",
   "nbconvert_exporter": "python",
   "pygments_lexer": "ipython3",
   "version": "3.7.3"
  }
 },
 "nbformat": 4,
 "nbformat_minor": 1
}
