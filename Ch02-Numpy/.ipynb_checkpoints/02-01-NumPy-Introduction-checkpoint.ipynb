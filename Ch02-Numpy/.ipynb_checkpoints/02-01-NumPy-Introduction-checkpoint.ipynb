{
  "nbformat": 4,
  "nbformat_minor": 0,
  "metadata": {
    "anaconda-cloud": {},
    "kernelspec": {
      "display_name": "Python 3",
      "language": "python",
      "name": "python3"
    },
    "language_info": {
      "codemirror_mode": {
        "name": "ipython",
        "version": 3
      },
      "file_extension": ".py",
      "mimetype": "text/x-python",
      "name": "python",
      "nbconvert_exporter": "python",
      "pygments_lexer": "ipython3",
      "version": "3.7.3"
    },
    "colab": {
      "name": "02-01-NumPy-Introduction-checkpoint.ipynb",
      "provenance": [],
      "include_colab_link": true
    }
  },
  "cells": [
    {
      "cell_type": "markdown",
      "metadata": {
        "id": "view-in-github",
        "colab_type": "text"
      },
      "source": [
        "<a href=\"https://colab.research.google.com/github/roitraining/PythonML/blob/master/Ch02-Numpy/.ipynb_checkpoints/02-01-NumPy-Introduction-checkpoint.ipynb\" target=\"_parent\"><img src=\"https://colab.research.google.com/assets/colab-badge.svg\" alt=\"Open In Colab\"/></a>"
      ]
    },
    {
      "cell_type": "markdown",
      "metadata": {
        "id": "XdPzcW2EpfPy",
        "colab_type": "text"
      },
      "source": [
        "# Introduction to NumPy (Numerical Python)\n",
        "\n",
        "## Overview\n",
        "* NumPy is the fundamental package for scientific computing with Python\n",
        "  * See the [NumPy Home Page](http://www.numpy.org/)\n",
        "  \n",
        "### Do Now!\n",
        "* Import NumPy\n",
        "* View the NumPy help page"
      ]
    },
    {
      "cell_type": "code",
      "metadata": {
        "id": "bQt8i49gpfP0",
        "colab_type": "code",
        "colab": {}
      },
      "source": [
        "import numpy as np"
      ],
      "execution_count": 0,
      "outputs": []
    },
    {
      "cell_type": "code",
      "metadata": {
        "id": "YtSfARPhpfP4",
        "colab_type": "code",
        "colab": {}
      },
      "source": [
        "np.__version__"
      ],
      "execution_count": 0,
      "outputs": []
    },
    {
      "cell_type": "code",
      "metadata": {
        "id": "6ZTX0MpFpfP8",
        "colab_type": "code",
        "colab": {}
      },
      "source": [
        "dir(np)"
      ],
      "execution_count": 0,
      "outputs": []
    },
    {
      "cell_type": "markdown",
      "metadata": {
        "id": "ygDYZ9JMpfQB",
        "colab_type": "text"
      },
      "source": [
        "### Do Now!\n",
        "* Determine how many attributes are visible from the NumPy package"
      ]
    },
    {
      "cell_type": "code",
      "metadata": {
        "id": "ftXOaWPVpfQD",
        "colab_type": "code",
        "colab": {}
      },
      "source": [
        "len(dir(np))"
      ],
      "execution_count": 0,
      "outputs": []
    },
    {
      "cell_type": "markdown",
      "metadata": {
        "id": "yH2iZh_ypfQG",
        "colab_type": "text"
      },
      "source": [
        "## NumPy is huge!\n",
        "* Development of NumPy started in the mid-90s\n",
        "* See the Wikipedia article on [NumPy's history](https://en.wikipedia.org/wiki/NumPy#History) for details\n",
        "\n",
        "### Do Now!\n",
        "* Visit the [Routines](https://docs.scipy.org/doc/numpy/reference/routines.html) page of the NumPy online reference documentation for a breakdown of the list of functions by group\n",
        "* How many groups are there? \\_\\_\\_\\_\\_\\_\\_\\_\\_\\_\\_\\_\\_\\_\\_\\_\\_\\_\\_\\_\\_\\_\\_\\_\\_\\_\\_\\_\\_\\_\\_\\_\\_\\_\\_\\_\\_\\_\\_\\_\\_\\_\\_\\_\\_\\_\\_\\_\\_\\_\\_\\_\\_\\_\\_\\_\\_\\_\\_\\_\\_\n",
        "* What is the object that appears in the majority of the groups? \\_\\_\\_\\_\\_\\_\\_\\_\\_\\_\\_\\_\\_\\_\\_\\_\\_\\_\\_\\_\\_\\_\\_\\_\\_\\_\\_\\_\\_\\_\\_\\_\\_\\_\\_\\_"
      ]
    },
    {
      "cell_type": "markdown",
      "metadata": {
        "id": "mc5cnmAxpfQH",
        "colab_type": "text"
      },
      "source": [
        "## About *ndarray*\n",
        "* NumPy provides the class *ndarray*\n",
        "* This contain single dimensional and multidimention arrays\n",
        "\n",
        "### Do Now!\n",
        "* View the help information on ndarray"
      ]
    },
    {
      "cell_type": "code",
      "metadata": {
        "id": "hoDy796wpfQJ",
        "colab_type": "code",
        "colab": {}
      },
      "source": [
        "help(np.ndarray)"
      ],
      "execution_count": 0,
      "outputs": []
    },
    {
      "cell_type": "markdown",
      "metadata": {
        "id": "NaDW_9SPpfQM",
        "colab_type": "text"
      },
      "source": [
        "* From the *ndarray* help, page answer the following questions:\n",
        "  * Can an *ndarray* have multiple dimensions? \\_\\_\\_\\_\\_\\_\\_\\_\\_\\_\\_\\_\\_\\_\\_\\_\\_\\_\\_\\_\\_\\_\\_\\_\\_\\_\\_\\_\\_\\_\\_\\_\\_\\_\\_\n",
        "  * Can an *ndarray* instance hold data of different types? \\_\\_\\_\\_\\_\\_\\_\\_\\_\\_\\_\\_\\_\\_\\_\\_\\_\\_\\_\\_\\_\\_\\_\\_\\_\\_\\_\\_\n",
        "  * What does the associated data-type (dtype) object do? \\_\\_\\_\\_\\_\\_\\_\\_\\_\\_\\_\\_\\_\\_\\_\\_\\_\\_\\_\\_\\_\\_\\_\\_\\_\\_\\_\\_\\_\\_\n",
        "  * What is the default dtype for an *ndarray*? \\_\\_\\_\\_\\_\\_\\_\\_\\_\\_\\_\\_\\_\\_\\_\\_\\_\\_\\_\\_\\_\\_\\_\\_\\_\\_\\_\\_\\_\\_\\_\\_\\_\\_\\_\n",
        "  * Are *ndarray*s also referred to as \"arrays\"? \\_\\_\\_\\_\\_\\_\\_\\_\\_\\_\\_\\_\\_\\_\\_\\_\\_\\_\\_\\_\\_\\_\\_\\_\\_\\_\\_\\_\\_\\_\\_\\_\\_\\_\n",
        "  * How should *ndarray*s be constructed? \\_\\_\\_\\_\\_\\_\\_\\_\\_\\_\\_\\_\\_\\_\\_\\_\\_\\_\\_\\_\\_\\_\\_\\_\\_\\_\\_\\_\\_\\_\\_\\_\\_\\_\\_\\_\\_\\_\n",
        "    * It is possible to create *ndarray* instances using \\_\\_new\\_\\_()\n",
        "    * What is the default dtype for an *ndarray* create using \\_\\_new\\_\\_() ? \\_\\_\\_\\_\\_\\_\\_\\_\\_\\_\\_\\_\\_\\_\\_\\_\\_\\_\\_\n",
        "* When finished reading the *ndarray* help page, enter 'q' after the colon (':') prompt to exit  \n",
        "\n",
        "## *ndarray*s vs. *list*s and *array.array*s\n",
        "* Compared to *list*s, *ndarray*s are:\n",
        "  * more space efficient\n",
        "  * less flexible\n",
        "    * *list*s can hold heterogeneous data\n",
        "  * more performant\n",
        "  * able to be used to solve the same type of problems\n",
        "    * *list*s and *ndarray*s can hold data in multidimensions\n",
        "\n",
        "* Compared to *array.array*s, *ndarray*s are:\n",
        "  * similar in space efficiency\n",
        "  * identical in requiring data to be homogeneous\n",
        "  * similar in their run-time performance\n",
        "  * able to be used with more general problems\n",
        "    * *array.array*s can hold data in only one dimension"
      ]
    },
    {
      "cell_type": "code",
      "metadata": {
        "id": "apZEW9ElpfQP",
        "colab_type": "code",
        "colab": {}
      },
      "source": [
        "dir(np.ndarray)"
      ],
      "execution_count": 0,
      "outputs": []
    },
    {
      "cell_type": "markdown",
      "metadata": {
        "id": "aLfqs1IrpfQU",
        "colab_type": "text"
      },
      "source": [
        "## What can be done with Arrays?\n",
        "* Arrays can be \n",
        "  * Created\n",
        "  * Manipulated (Joining, Spliting, Shaping, etc.)\n",
        "  * Accessed one element at a time\n",
        "  * Accessed via array slices\n",
        "  * Reshaped\n",
        "  * Split\n",
        "  * Concatenated"
      ]
    },
    {
      "cell_type": "markdown",
      "metadata": {
        "id": "CMOdx7uRpfQV",
        "colab_type": "text"
      },
      "source": [
        "# End of Notebook"
      ]
    },
    {
      "cell_type": "code",
      "metadata": {
        "id": "UP0jAXNCpfQX",
        "colab_type": "code",
        "colab": {}
      },
      "source": [
        ""
      ],
      "execution_count": 0,
      "outputs": []
    }
  ]
}