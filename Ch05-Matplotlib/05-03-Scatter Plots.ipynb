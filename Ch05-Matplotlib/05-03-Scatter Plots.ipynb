{
  "nbformat": 4,
  "nbformat_minor": 0,
  "metadata": {
    "kernelspec": {
      "display_name": "Python 3",
      "language": "python",
      "name": "python3"
    },
    "language_info": {
      "codemirror_mode": {
        "name": "ipython",
        "version": 3
      },
      "file_extension": ".py",
      "mimetype": "text/x-python",
      "name": "python",
      "nbconvert_exporter": "python",
      "pygments_lexer": "ipython3",
      "version": "3.7.3"
    },
    "colab": {
      "name": "05-03-Scatter Plots.ipynb",
      "provenance": [],
      "include_colab_link": true
    }
  },
  "cells": [
    {
      "cell_type": "markdown",
      "metadata": {
        "id": "view-in-github",
        "colab_type": "text"
      },
      "source": [
        "<a href=\"https://colab.research.google.com/github/roitraining/PythonML/blob/master/Ch05-Matplotlib/05-03-Scatter%20Plots.ipynb\" target=\"_parent\"><img src=\"https://colab.research.google.com/assets/colab-badge.svg\" alt=\"Open In Colab\"/></a>"
      ]
    },
    {
      "cell_type": "code",
      "metadata": {
        "id": "nTqskddta9F3",
        "colab_type": "code",
        "colab": {}
      },
      "source": [
        "%matplotlib notebook"
      ],
      "execution_count": 0,
      "outputs": []
    },
    {
      "cell_type": "code",
      "metadata": {
        "id": "1EeOeouVa9F_",
        "colab_type": "code",
        "colab": {}
      },
      "source": [
        "import numpy as np\n",
        "import matplotlib.pyplot as plt"
      ],
      "execution_count": 0,
      "outputs": []
    },
    {
      "cell_type": "code",
      "metadata": {
        "id": "Nuwa42Mba9GD",
        "colab_type": "code",
        "colab": {}
      },
      "source": [
        "N=25\n",
        "x= np.random.rand(N)\n",
        "y = np.random.rand(N)\n",
        "area = np.pi * (15 * np.random.rand(N))**2"
      ],
      "execution_count": 0,
      "outputs": []
    },
    {
      "cell_type": "code",
      "metadata": {
        "id": "Cp9AunJua9GH",
        "colab_type": "code",
        "colab": {}
      },
      "source": [
        "fig = plt.figure(figsize=(4,4), dpi=100)"
      ],
      "execution_count": 0,
      "outputs": []
    },
    {
      "cell_type": "code",
      "metadata": {
        "id": "Fx9183aLa9GK",
        "colab_type": "code",
        "colab": {}
      },
      "source": [
        "ax = fig.add_subplot(1,1,1)"
      ],
      "execution_count": 0,
      "outputs": []
    },
    {
      "cell_type": "code",
      "metadata": {
        "id": "hRfNRAt9a9GN",
        "colab_type": "code",
        "colab": {}
      },
      "source": [
        "ax.scatter(x, y, s=area, c='blue', alpha = 0.1)"
      ],
      "execution_count": 0,
      "outputs": []
    },
    {
      "cell_type": "markdown",
      "metadata": {
        "id": "whQvOD1pa9GS",
        "colab_type": "text"
      },
      "source": [
        "* x, y are the locations of the markers\n",
        "* s is the area of the markers\n",
        "    * This can be an array in which case it is used sequentially\n",
        "* c is a color or list of colors to use for the markers\n",
        "* alpha is the amount of transparency"
      ]
    },
    {
      "cell_type": "markdown",
      "metadata": {
        "id": "VGAWHXMZa9GT",
        "colab_type": "text"
      },
      "source": [
        "### More marker\n",
        "* The marker size is specied by the s key word\n",
        "* The marker is specified by the marker key word \n",
        "    * See http://matplotlib.org/api/markers_api.html for possible type\n"
      ]
    },
    {
      "cell_type": "markdown",
      "metadata": {
        "id": "POd0ITENa9GU",
        "colab_type": "text"
      },
      "source": [
        "## More on Color\n",
        "* This can be a single color (or color specification) or a list of colors or a list of numbers to map to a color map\n",
        "\n",
        "### Do Now!\n",
        "Change the `c` to `['b', 'r']` and `alpha` to `1.0` and tap `<Ctrl-Enter>`. \n",
        "\n",
        "Now look at the changes in colors\n",
        "\n",
        "* [See Color](http://www.research.ibm.com/people/l/lloydt/color/color.HTM) to start learning about color\n",
        "\n"
      ]
    },
    {
      "cell_type": "code",
      "metadata": {
        "id": "bBkvlL1wa9GV",
        "colab_type": "code",
        "colab": {}
      },
      "source": [
        "help(ax.scatter)"
      ],
      "execution_count": 0,
      "outputs": []
    },
    {
      "cell_type": "markdown",
      "metadata": {
        "id": "4gtC-oA4a9GZ",
        "colab_type": "text"
      },
      "source": [
        "# End of notebook"
      ]
    }
  ]
}