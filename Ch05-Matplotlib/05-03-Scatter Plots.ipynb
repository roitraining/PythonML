{
 "cells": [
  {
   "cell_type": "markdown",
   "metadata": {
    "colab_type": "text",
    "id": "view-in-github"
   },
   "source": [
    "<a href=\"https://colab.research.google.com/github/roitraining/PythonML/blob/master/Ch05-Matplotlib/05-03-Scatter%20Plots.ipynb\" target=\"_parent\"><img src=\"https://colab.research.google.com/assets/colab-badge.svg\" alt=\"Open In Colab\"/></a>"
   ]
  },
  {
   "cell_type": "code",
   "execution_count": null,
   "metadata": {
    "colab": {},
    "colab_type": "code",
    "id": "nTqskddta9F3"
   },
   "outputs": [],
   "source": [
    "%matplotlib notebook"
   ]
  },
  {
   "cell_type": "code",
   "execution_count": null,
   "metadata": {
    "colab": {},
    "colab_type": "code",
    "id": "1EeOeouVa9F_"
   },
   "outputs": [],
   "source": [
    "import numpy as np\n",
    "import matplotlib.pyplot as plt"
   ]
  },
  {
   "cell_type": "code",
   "execution_count": null,
   "metadata": {
    "colab": {},
    "colab_type": "code",
    "id": "Nuwa42Mba9GD"
   },
   "outputs": [],
   "source": [
    "N=25\n",
    "x= np.random.rand(N)\n",
    "y = np.random.rand(N)\n",
    "area = np.pi * (15 * np.random.rand(N))**2"
   ]
  },
  {
   "cell_type": "code",
   "execution_count": null,
   "metadata": {
    "colab": {},
    "colab_type": "code",
    "id": "Cp9AunJua9GH"
   },
   "outputs": [],
   "source": [
    "fig = plt.figure(figsize=(4,4), dpi=100)"
   ]
  },
  {
   "cell_type": "code",
   "execution_count": null,
   "metadata": {
    "colab": {},
    "colab_type": "code",
    "id": "Fx9183aLa9GK"
   },
   "outputs": [],
   "source": [
    "ax = fig.add_subplot(1,1,1)"
   ]
  },
  {
   "cell_type": "code",
   "execution_count": null,
   "metadata": {
    "colab": {},
    "colab_type": "code",
    "id": "hRfNRAt9a9GN"
   },
   "outputs": [],
   "source": [
    "ax.scatter(x, y, s=area, c='blue', alpha = 0.1)"
   ]
  },
  {
   "cell_type": "markdown",
   "metadata": {
    "colab_type": "text",
    "id": "whQvOD1pa9GS"
   },
   "source": [
    "* x, y are the locations of the markers\n",
    "* s is the area of the markers\n",
    "    * This can be an array in which case it is used sequentially\n",
    "* c is a color or list of colors to use for the markers\n",
    "* alpha is the amount of transparency"
   ]
  },
  {
   "cell_type": "markdown",
   "metadata": {
    "colab_type": "text",
    "id": "VGAWHXMZa9GT"
   },
   "source": [
    "### More marker\n",
    "* The marker size is specied by the s key word\n",
    "* The marker is specified by the marker key word \n",
    "    * See http://matplotlib.org/api/markers_api.html for possible type\n"
   ]
  },
  {
   "cell_type": "markdown",
   "metadata": {
    "colab_type": "text",
    "id": "POd0ITENa9GU"
   },
   "source": [
    "## More on Color\n",
    "* This can be a single color (or color specification) or a list of colors or a list of numbers to map to a color map\n",
    "\n",
    "### Do Now!\n",
    "Change the `c` to `['b', 'r']` and `alpha` to `1.0` and tap `<Ctrl-Enter>`. \n",
    "\n",
    "Now look at the changes in colors\n",
    "\n",
    "* [See Color](http://www.research.ibm.com/people/l/lloydt/color/color.HTM) to start learning about color\n",
    "\n"
   ]
  },
  {
   "cell_type": "code",
   "execution_count": null,
   "metadata": {
    "colab": {},
    "colab_type": "code",
    "id": "bBkvlL1wa9GV"
   },
   "outputs": [],
   "source": [
    "help(ax.scatter)"
   ]
  },
  {
   "cell_type": "markdown",
   "metadata": {
    "colab_type": "text",
    "id": "4gtC-oA4a9GZ"
   },
   "source": [
    "# End of notebook"
   ]
  }
 ],
 "metadata": {
  "colab": {
   "include_colab_link": true,
   "name": "05-03-Scatter Plots.ipynb",
   "provenance": []
  },
  "kernelspec": {
   "display_name": "Python 3",
   "language": "python",
   "name": "python3"
  },
  "language_info": {
   "codemirror_mode": {
    "name": "ipython",
    "version": 3
   },
   "file_extension": ".py",
   "mimetype": "text/x-python",
   "name": "python",
   "nbconvert_exporter": "python",
   "pygments_lexer": "ipython3",
   "version": "3.7.3"
  }
 },
 "nbformat": 4,
 "nbformat_minor": 1
}
