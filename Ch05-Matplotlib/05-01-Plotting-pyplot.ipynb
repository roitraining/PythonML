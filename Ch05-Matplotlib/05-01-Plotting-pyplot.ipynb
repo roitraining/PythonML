{
 "cells": [
  {
   "cell_type": "markdown",
   "metadata": {
    "colab_type": "text",
    "id": "view-in-github"
   },
   "source": [
    "<a href=\"https://colab.research.google.com/github/roitraining/PythonML/blob/master/Ch05-Matplotlib/05-01-Plotting-pyplot.ipynb\" target=\"_parent\"><img src=\"https://colab.research.google.com/assets/colab-badge.svg\" alt=\"Open In Colab\"/></a>"
   ]
  },
  {
   "cell_type": "code",
   "execution_count": null,
   "metadata": {
    "colab": {},
    "colab_type": "code",
    "id": "UEQycUX0YSpK"
   },
   "outputs": [],
   "source": [
    "%pylab"
   ]
  },
  {
   "cell_type": "markdown",
   "metadata": {
    "colab_type": "text",
    "id": "udrKEO31YSpQ"
   },
   "source": [
    "* Numpy is accessed as np\n",
    "* It is matplotlib.pylot as plt\n",
    "* All the rest of matplotlib is available\n",
    "* The plotting is interactive and the plot is outside of the notebook"
   ]
  },
  {
   "cell_type": "markdown",
   "metadata": {
    "colab_type": "text",
    "id": "mMi4v5KHYSpR"
   },
   "source": [
    "## Simple Plot - All Defaults"
   ]
  },
  {
   "cell_type": "markdown",
   "metadata": {
    "colab_type": "text",
    "id": "Y88c9J3PYSpS"
   },
   "source": [
    "### Creating the X and Y points"
   ]
  },
  {
   "cell_type": "code",
   "execution_count": null,
   "metadata": {
    "colab": {},
    "colab_type": "code",
    "id": "5S_EQ0ruYSpT"
   },
   "outputs": [],
   "source": [
    "X = np.linspace(-np.pi, np.pi, 256,endpoint=True)\n",
    "S = np.sin(X)"
   ]
  },
  {
   "cell_type": "markdown",
   "metadata": {
    "colab_type": "text",
    "id": "oVKKFr55YSpZ"
   },
   "source": [
    "### Creating the plot"
   ]
  },
  {
   "cell_type": "code",
   "execution_count": null,
   "metadata": {
    "colab": {},
    "colab_type": "code",
    "id": "WBRvqI4QYSpb"
   },
   "outputs": [],
   "source": [
    "plt.plot(X,S)"
   ]
  },
  {
   "cell_type": "markdown",
   "metadata": {
    "colab_type": "text",
    "id": "JQOW7iWHYSpe"
   },
   "source": [
    "* Notice that the plot is outside of the notebook\n",
    "* Notice that you did not have to ask for the plot to be displayed\n",
    "* Notice the plot symbol of the left side"
   ]
  },
  {
   "cell_type": "markdown",
   "metadata": {
    "colab_type": "text",
    "id": "s0TaKymYYSpf"
   },
   "source": [
    "### Adding a second plot"
   ]
  },
  {
   "cell_type": "code",
   "execution_count": null,
   "metadata": {
    "colab": {},
    "colab_type": "code",
    "id": "1Zn-_ToOYSpg"
   },
   "outputs": [],
   "source": [
    "C = np.cos(X)\n",
    "plt.plot(X,C)"
   ]
  },
  {
   "cell_type": "markdown",
   "metadata": {
    "colab_type": "text",
    "id": "OIq07GaSYSpk"
   },
   "source": [
    "#### Short demonstration of the tools on the figure\n",
    "* Using the magnifying glass\n",
    "* Using the home symbols\n",
    "* Using the slider bar symbol\n",
    "* Using the graph symbol\n",
    "* Using the samv symbol\n"
   ]
  },
  {
   "cell_type": "markdown",
   "metadata": {
    "colab_type": "text",
    "id": "x7120Rc9YSpl"
   },
   "source": [
    "### Close the graph \n",
    "* Either by closing the external graph or by closing the graph symbol on the left\n",
    "    * This will destroy the graph and leave the X, C, and S arrays"
   ]
  },
  {
   "cell_type": "markdown",
   "metadata": {
    "colab_type": "text",
    "id": "4fQ1U_gQYSpm"
   },
   "source": [
    "## Same Graph with All Defaults Specified"
   ]
  },
  {
   "cell_type": "code",
   "execution_count": null,
   "metadata": {
    "colab": {},
    "colab_type": "code",
    "id": "DHt2Mb2UYSpo"
   },
   "outputs": [],
   "source": [
    "plt.figure(figsize=(4,3), dpi=100)"
   ]
  },
  {
   "cell_type": "markdown",
   "metadata": {
    "colab_type": "text",
    "id": "KfSqyshNYSps"
   },
   "source": [
    "* `figsize` is \n",
    "* `dpi` is dot per inch"
   ]
  },
  {
   "cell_type": "code",
   "execution_count": null,
   "metadata": {
    "colab": {},
    "colab_type": "code",
    "id": "QSP0ZeKtYSpt"
   },
   "outputs": [],
   "source": [
    "plt.subplot(1,1,1)"
   ]
  },
  {
   "cell_type": "markdown",
   "metadata": {
    "colab_type": "text",
    "id": "n1QFbmxqYSpy"
   },
   "source": [
    "* (1,1,1) 1 row, 1 column, first plot "
   ]
  },
  {
   "cell_type": "code",
   "execution_count": null,
   "metadata": {
    "colab": {},
    "colab_type": "code",
    "id": "9vdeL6o9YSpz"
   },
   "outputs": [],
   "source": [
    "plt.plot(X, C, color=\"blue\", linewidth=2.0, \n",
    "         linestyle=\"-\")"
   ]
  },
  {
   "cell_type": "markdown",
   "metadata": {
    "colab_type": "text",
    "id": "5qDgCWjVYSqA"
   },
   "source": [
    "* Look at the plot just created\n",
    "    * The linewidth is different\n",
    "    * The size is different"
   ]
  },
  {
   "cell_type": "code",
   "execution_count": null,
   "metadata": {
    "colab": {},
    "colab_type": "code",
    "id": "QEZYEmEeYSqB"
   },
   "outputs": [],
   "source": [
    "plt.plot(X, S, color='red', linewidth=4.0,\n",
    "          linestyle=\"-\")"
   ]
  },
  {
   "cell_type": "markdown",
   "metadata": {
    "colab_type": "text",
    "id": "Ypm2FqU4YSqE"
   },
   "source": [
    "* Look at the plot just created\n",
    "    * The linewidth is different"
   ]
  },
  {
   "cell_type": "code",
   "execution_count": null,
   "metadata": {
    "colab": {},
    "colab_type": "code",
    "id": "F7v2yk2BYSqF"
   },
   "outputs": [],
   "source": [
    "plt.xlim(-4.0, 4.0)"
   ]
  },
  {
   "cell_type": "markdown",
   "metadata": {
    "colab_type": "text",
    "id": "ufF-PY1BYSqJ"
   },
   "source": [
    "* The range of the X-axis"
   ]
  },
  {
   "cell_type": "code",
   "execution_count": null,
   "metadata": {
    "colab": {},
    "colab_type": "code",
    "id": "X18ez1XRYSqL"
   },
   "outputs": [],
   "source": [
    "plt.xticks(np.linspace(-4,4, 9, endpoint=True))"
   ]
  },
  {
   "cell_type": "markdown",
   "metadata": {
    "colab_type": "text",
    "id": "us-gVIwzYSqO"
   },
   "source": [
    "* Addition of tick marks on the X-axis"
   ]
  },
  {
   "cell_type": "code",
   "execution_count": null,
   "metadata": {
    "colab": {},
    "colab_type": "code",
    "id": "IiMaqOdPYSqP"
   },
   "outputs": [],
   "source": [
    "plt.ylim(-1.0,1.0)"
   ]
  },
  {
   "cell_type": "markdown",
   "metadata": {
    "colab_type": "text",
    "id": "0aOYq-AsYSqR"
   },
   "source": [
    "* The range on the Y-axis"
   ]
  },
  {
   "cell_type": "code",
   "execution_count": null,
   "metadata": {
    "colab": {},
    "colab_type": "code",
    "id": "6SuK82ZwYSqS"
   },
   "outputs": [],
   "source": [
    "plt.yticks(np.linspace(-1,1,5,endpoint=True))"
   ]
  },
  {
   "cell_type": "markdown",
   "metadata": {
    "colab_type": "text",
    "id": "rA5nk__7YSqW"
   },
   "source": [
    "* The ticks on the Y-axis"
   ]
  },
  {
   "cell_type": "code",
   "execution_count": null,
   "metadata": {
    "colab": {},
    "colab_type": "code",
    "id": "Y0hGGWLSYSqX"
   },
   "outputs": [],
   "source": [
    "plt.title(\"Plot of sine and cosine\")"
   ]
  },
  {
   "cell_type": "code",
   "execution_count": null,
   "metadata": {
    "colab": {},
    "colab_type": "code",
    "id": "xZbWmAuCYSqc"
   },
   "outputs": [],
   "source": [
    "savefig(\"./sine_and_cosine.png\", dpi=100)"
   ]
  },
  {
   "cell_type": "code",
   "execution_count": null,
   "metadata": {
    "colab": {},
    "colab_type": "code",
    "id": "hWfRi7FpYSqf"
   },
   "outputs": [],
   "source": [
    "!ls\n"
   ]
  },
  {
   "cell_type": "markdown",
   "metadata": {
    "colab_type": "text",
    "id": "N_k0kzqpYSqj"
   },
   "source": [
    "## Close the Plot"
   ]
  },
  {
   "cell_type": "markdown",
   "metadata": {
    "colab_type": "text",
    "id": "rSShDa6-YSqm"
   },
   "source": [
    "## Second Plot All at Once\n",
    "Keep the same X, S (sine), C (cosine) values for plotting"
   ]
  },
  {
   "cell_type": "code",
   "execution_count": null,
   "metadata": {
    "colab": {},
    "colab_type": "code",
    "id": "0D1v8_SUYSqw"
   },
   "outputs": [],
   "source": [
    "plt.figure(figsize=(10,6), dpi=100)"
   ]
  },
  {
   "cell_type": "code",
   "execution_count": null,
   "metadata": {
    "colab": {},
    "colab_type": "code",
    "id": "4rujPY55YSq3"
   },
   "outputs": [],
   "source": [
    "plt.plot(X, C, color='blue', linewidth=1.0, linestyle=\"-\", label=\"Cosine\")\n",
    "plt.plot(X, S, color='red', linewidth=1.0, linestyle=\"-\", label=\"Sine\")"
   ]
  },
  {
   "cell_type": "code",
   "execution_count": null,
   "metadata": {
    "colab": {},
    "colab_type": "code",
    "id": "aZcWVMJNYSrA"
   },
   "outputs": [],
   "source": [
    "plt.xlim(X.min()*1.1, X.max()*1.1)\n",
    "plt.ylim(C.min()*1.1, C.max()*1.1)"
   ]
  },
  {
   "cell_type": "code",
   "execution_count": null,
   "metadata": {
    "colab": {},
    "colab_type": "code",
    "id": "OU-Pf3afYSrE"
   },
   "outputs": [],
   "source": [
    "plt.xticks( [-np.pi, -np.pi/2, 0, np.pi/2, np.pi])\n",
    "plt.yticks( [-1, 0, +1])"
   ]
  },
  {
   "cell_type": "code",
   "execution_count": null,
   "metadata": {
    "colab": {},
    "colab_type": "code",
    "id": "bZHiJk2cYSrJ"
   },
   "outputs": [],
   "source": [
    "plt.xticks([-np.pi, -np.pi/2, 0, np.pi/2, np.pi],\n",
    "          [r'$-\\pi$', r'$-\\pi/2$', r'$0$', r'$+\\pi/2$', r'$+\\pi$'])\n",
    "plt.yticks([-1, 0, +1], [r'$-1$', r'$0$', r'$+1$'])"
   ]
  },
  {
   "cell_type": "code",
   "execution_count": null,
   "metadata": {
    "colab": {},
    "colab_type": "code",
    "id": "KYUhrFKqYSrO"
   },
   "outputs": [],
   "source": [
    "plt.legend(loc='upper left', frameon=False)"
   ]
  },
  {
   "cell_type": "markdown",
   "metadata": {
    "colab_type": "text",
    "id": "vK0_y1xVYSrR"
   },
   "source": [
    "###  Delete the Plot"
   ]
  },
  {
   "cell_type": "markdown",
   "metadata": {
    "colab_type": "text",
    "id": "BzAFRFpRYSrS"
   },
   "source": [
    "## Figures and Subplots\n",
    "Again, X, S, and C will be reused."
   ]
  },
  {
   "cell_type": "markdown",
   "metadata": {
    "colab_type": "text",
    "id": "tTr6qxUXYSrT"
   },
   "source": [
    "### Figure\n",
    "The figure is the canvas the plots are drawn on.\n",
    "  \n",
    "    plt.figure(num=1, figsize=(width,height),dpi=100,frameon=True)\n",
    "    \n",
    "`facecolor` and `edgecolor` can also be specified"
   ]
  },
  {
   "cell_type": "markdown",
   "metadata": {
    "colab_type": "text",
    "id": "SeJsO7BVYSrU"
   },
   "source": [
    "### Subplot\n",
    "With subplot you can specify plots in a regular grid.\n",
    "\n",
    "    plt.subplot(row_count, column_count, plot_number)\n",
    "    \n",
    "See below:"
   ]
  },
  {
   "cell_type": "markdown",
   "metadata": {
    "colab_type": "text",
    "id": "Iy6E_WOAYSrU"
   },
   "source": [
    "<img src=\"https://github.com/roitraining/PythonML/blob/master/Ch05-Matplotlib/Images/211.png?raw=1\">\n",
    "\n",
    "<img src=\"https://github.com/roitraining/PythonML/blob/master/Ch05-Matplotlib/Images/121.png?raw=1\">"
   ]
  },
  {
   "cell_type": "markdown",
   "metadata": {
    "colab_type": "text",
    "id": "8WJYU3u_YSrV"
   },
   "source": [
    "### Two subplots"
   ]
  },
  {
   "cell_type": "code",
   "execution_count": null,
   "metadata": {
    "colab": {},
    "colab_type": "code",
    "id": "bbp34BTBYSrW"
   },
   "outputs": [],
   "source": [
    "plt.figure(figsize=(5,10), dpi=100)\n",
    "plt.subplot(2,1,1)\n",
    "plt.plot(X, S, color='red', linewidth=1.0, linestyle=\"-\", \n",
    "         label=\"Sine\")\n",
    "plt.xlim(X.min()*1.1, X.max()*1.1)\n",
    "plt.ylim(C.min()*1.1, C.max()*1.1)\n",
    "plt.xticks([-np.pi, -np.pi/2, 0, np.pi/2, np.pi],\n",
    "          [r'$-\\pi$', r'$-\\pi/2$', r'$0$', r'$+\\pi/2$', r'$+\\pi$'])\n",
    "plt.yticks([-1, 0, +1], [r'$-1$', r'$0$', r'$+1$'])\n",
    "plt.legend(loc='upper left', frameon=False)\n",
    "plt.title(\"Sine Plot\")\n",
    "#plt.subplots_adjust(hspace=0.5)"
   ]
  },
  {
   "cell_type": "code",
   "execution_count": null,
   "metadata": {
    "colab": {},
    "colab_type": "code",
    "id": "YocbZBKCYSrY"
   },
   "outputs": [],
   "source": [
    "plt.subplot(2,1,2)\n",
    "plt.plot(X, C, color='blue', linewidth=1.0, linestyle=\"-\", \n",
    "         label=\"Cosine\")\n",
    "plt.xlim(X.min()*1.1, X.max()*1.1)\n",
    "plt.ylim(C.min()*1.1, C.max()*1.1)\n",
    "plt.xticks([-np.pi, -np.pi/2, 0, np.pi/2, np.pi],\n",
    "          [r'$-\\pi$', r'$-\\pi/2$', r'$0$', r'$+\\pi/2$', r'$+\\pi$'])\n",
    "plt.yticks([-1, 0, +1], [r'$-1$', r'$0$', r'$+1$'])\n",
    "plt.legend(loc='upper left', frameon=False)\n",
    "plt.title(\"Cosine Plot\")\n",
    "plt.subplots_adjust(hspace=0.3)"
   ]
  },
  {
   "cell_type": "markdown",
   "metadata": {
    "colab_type": "text",
    "id": "RiCvkPtPYSrb"
   },
   "source": [
    "# End of notebook"
   ]
  },
  {
   "cell_type": "code",
   "execution_count": null,
   "metadata": {},
   "outputs": [],
   "source": []
  },
  {
   "cell_type": "code",
   "execution_count": null,
   "metadata": {},
   "outputs": [],
   "source": []
  }
 ],
 "metadata": {
  "colab": {
   "include_colab_link": true,
   "name": "05-01-Plotting-pyplot.ipynb",
   "provenance": []
  },
  "kernelspec": {
   "display_name": "Python 3",
   "language": "python",
   "name": "python3"
  },
  "language_info": {
   "codemirror_mode": {
    "name": "ipython",
    "version": 3
   },
   "file_extension": ".py",
   "mimetype": "text/x-python",
   "name": "python",
   "nbconvert_exporter": "python",
   "pygments_lexer": "ipython3",
   "version": "3.7.3"
  }
 },
 "nbformat": 4,
 "nbformat_minor": 1
}
