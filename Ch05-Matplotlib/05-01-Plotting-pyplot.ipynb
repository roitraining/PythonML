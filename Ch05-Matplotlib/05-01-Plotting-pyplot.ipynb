{
  "nbformat": 4,
  "nbformat_minor": 0,
  "metadata": {
    "kernelspec": {
      "display_name": "Python 3",
      "language": "python",
      "name": "python3"
    },
    "language_info": {
      "codemirror_mode": {
        "name": "ipython",
        "version": 3
      },
      "file_extension": ".py",
      "mimetype": "text/x-python",
      "name": "python",
      "nbconvert_exporter": "python",
      "pygments_lexer": "ipython3",
      "version": "3.7.3"
    },
    "colab": {
      "name": "05-01-Plotting-pyplot.ipynb",
      "provenance": [],
      "include_colab_link": true
    }
  },
  "cells": [
    {
      "cell_type": "markdown",
      "metadata": {
        "id": "view-in-github",
        "colab_type": "text"
      },
      "source": [
        "<a href=\"https://colab.research.google.com/github/roitraining/PythonML/blob/master/Ch05-Matplotlib/05-01-Plotting-pyplot.ipynb\" target=\"_parent\"><img src=\"https://colab.research.google.com/assets/colab-badge.svg\" alt=\"Open In Colab\"/></a>"
      ]
    },
    {
      "cell_type": "code",
      "metadata": {
        "id": "UEQycUX0YSpK",
        "colab_type": "code",
        "colab": {}
      },
      "source": [
        "%pylab"
      ],
      "execution_count": 0,
      "outputs": []
    },
    {
      "cell_type": "markdown",
      "metadata": {
        "id": "udrKEO31YSpQ",
        "colab_type": "text"
      },
      "source": [
        "* Numpy is accessed as np\n",
        "* It is matplotlib.pylot as plt\n",
        "* All the rest of matplotlib is available\n",
        "* The plotting is interactive and the plot is outside of the notebook"
      ]
    },
    {
      "cell_type": "markdown",
      "metadata": {
        "id": "mMi4v5KHYSpR",
        "colab_type": "text"
      },
      "source": [
        "## Simple Plot - All Defaults"
      ]
    },
    {
      "cell_type": "markdown",
      "metadata": {
        "id": "Y88c9J3PYSpS",
        "colab_type": "text"
      },
      "source": [
        "### Creating the X and Y points"
      ]
    },
    {
      "cell_type": "code",
      "metadata": {
        "id": "5S_EQ0ruYSpT",
        "colab_type": "code",
        "colab": {}
      },
      "source": [
        "X = np.linspace(-np.pi, np.pi, 256,endpoint=True)\n",
        "S = np.sin(X)"
      ],
      "execution_count": 0,
      "outputs": []
    },
    {
      "cell_type": "markdown",
      "metadata": {
        "id": "oVKKFr55YSpZ",
        "colab_type": "text"
      },
      "source": [
        "### Creating the plot"
      ]
    },
    {
      "cell_type": "code",
      "metadata": {
        "id": "WBRvqI4QYSpb",
        "colab_type": "code",
        "colab": {}
      },
      "source": [
        "plt.plot(X,S)"
      ],
      "execution_count": 0,
      "outputs": []
    },
    {
      "cell_type": "markdown",
      "metadata": {
        "id": "JQOW7iWHYSpe",
        "colab_type": "text"
      },
      "source": [
        "* Notice that the plot is outside of the notebook\n",
        "* Notice that you did not have to ask for the plot to be displayed\n",
        "* Notice the plot symbol of the left side"
      ]
    },
    {
      "cell_type": "markdown",
      "metadata": {
        "id": "s0TaKymYYSpf",
        "colab_type": "text"
      },
      "source": [
        "### Adding a second plot"
      ]
    },
    {
      "cell_type": "code",
      "metadata": {
        "id": "1Zn-_ToOYSpg",
        "colab_type": "code",
        "colab": {}
      },
      "source": [
        "C = np.cos(X)\n",
        "plt.plot(X,C)"
      ],
      "execution_count": 0,
      "outputs": []
    },
    {
      "cell_type": "markdown",
      "metadata": {
        "id": "OIq07GaSYSpk",
        "colab_type": "text"
      },
      "source": [
        "#### Short demonstration of the tools on the figure\n",
        "* Using the magnifying glass\n",
        "* Using the home symbols\n",
        "* Using the slider bar symbol\n",
        "* Using the graph symbol\n",
        "* Using the samv symbol\n"
      ]
    },
    {
      "cell_type": "markdown",
      "metadata": {
        "id": "x7120Rc9YSpl",
        "colab_type": "text"
      },
      "source": [
        "### Close the graph \n",
        "* Either by closing the external graph or by closing the graph symbol on the left\n",
        "    * This will destroy the graph and leave the X, C, and S arrays"
      ]
    },
    {
      "cell_type": "markdown",
      "metadata": {
        "id": "4fQ1U_gQYSpm",
        "colab_type": "text"
      },
      "source": [
        "## Same Graph with All Defaults Specified"
      ]
    },
    {
      "cell_type": "code",
      "metadata": {
        "id": "DHt2Mb2UYSpo",
        "colab_type": "code",
        "colab": {}
      },
      "source": [
        "plt.figure(figsize=(4,3), dpi=100)"
      ],
      "execution_count": 0,
      "outputs": []
    },
    {
      "cell_type": "markdown",
      "metadata": {
        "id": "KfSqyshNYSps",
        "colab_type": "text"
      },
      "source": [
        "* `figsize` is \n",
        "* `dpi` is dot per inch"
      ]
    },
    {
      "cell_type": "code",
      "metadata": {
        "id": "QSP0ZeKtYSpt",
        "colab_type": "code",
        "colab": {}
      },
      "source": [
        "plt.subplot(1,1,1)"
      ],
      "execution_count": 0,
      "outputs": []
    },
    {
      "cell_type": "markdown",
      "metadata": {
        "id": "n1QFbmxqYSpy",
        "colab_type": "text"
      },
      "source": [
        "* (1,1,1) 1 row, 1 column, first plot "
      ]
    },
    {
      "cell_type": "code",
      "metadata": {
        "id": "9vdeL6o9YSpz",
        "colab_type": "code",
        "colab": {}
      },
      "source": [
        "plt.plot(X, C, color=\"blue\", linewidth=2.0, \n",
        "         linestyle=\"-\")"
      ],
      "execution_count": 0,
      "outputs": []
    },
    {
      "cell_type": "markdown",
      "metadata": {
        "id": "5qDgCWjVYSqA",
        "colab_type": "text"
      },
      "source": [
        "* Look at the plot just created\n",
        "    * The linewidth is different\n",
        "    * The size is different"
      ]
    },
    {
      "cell_type": "code",
      "metadata": {
        "id": "QEZYEmEeYSqB",
        "colab_type": "code",
        "colab": {}
      },
      "source": [
        "plt.plot(X, S, color='red', linewidth=4.0,\n",
        "          linestyle=\"-\")"
      ],
      "execution_count": 0,
      "outputs": []
    },
    {
      "cell_type": "markdown",
      "metadata": {
        "id": "Ypm2FqU4YSqE",
        "colab_type": "text"
      },
      "source": [
        "* Look at the plot just created\n",
        "    * The linewidth is different"
      ]
    },
    {
      "cell_type": "code",
      "metadata": {
        "id": "F7v2yk2BYSqF",
        "colab_type": "code",
        "colab": {}
      },
      "source": [
        "plt.xlim(-4.0, 4.0)"
      ],
      "execution_count": 0,
      "outputs": []
    },
    {
      "cell_type": "markdown",
      "metadata": {
        "id": "ufF-PY1BYSqJ",
        "colab_type": "text"
      },
      "source": [
        "* The range of the X-axis"
      ]
    },
    {
      "cell_type": "code",
      "metadata": {
        "id": "X18ez1XRYSqL",
        "colab_type": "code",
        "colab": {}
      },
      "source": [
        "plt.xticks(np.linspace(-4,4, 9, endpoint=True))"
      ],
      "execution_count": 0,
      "outputs": []
    },
    {
      "cell_type": "markdown",
      "metadata": {
        "id": "us-gVIwzYSqO",
        "colab_type": "text"
      },
      "source": [
        "* Addition of tick marks on the X-axis"
      ]
    },
    {
      "cell_type": "code",
      "metadata": {
        "id": "IiMaqOdPYSqP",
        "colab_type": "code",
        "colab": {}
      },
      "source": [
        "plt.ylim(-1.0,1.0)"
      ],
      "execution_count": 0,
      "outputs": []
    },
    {
      "cell_type": "markdown",
      "metadata": {
        "id": "0aOYq-AsYSqR",
        "colab_type": "text"
      },
      "source": [
        "* The range on the Y-axis"
      ]
    },
    {
      "cell_type": "code",
      "metadata": {
        "id": "6SuK82ZwYSqS",
        "colab_type": "code",
        "colab": {}
      },
      "source": [
        "plt.yticks(np.linspace(-1,1,5,endpoint=True))"
      ],
      "execution_count": 0,
      "outputs": []
    },
    {
      "cell_type": "markdown",
      "metadata": {
        "id": "rA5nk__7YSqW",
        "colab_type": "text"
      },
      "source": [
        "* The ticks on the Y-axis"
      ]
    },
    {
      "cell_type": "code",
      "metadata": {
        "id": "Y0hGGWLSYSqX",
        "colab_type": "code",
        "colab": {}
      },
      "source": [
        "plt.title(\"Plot of sine and cosine\")"
      ],
      "execution_count": 0,
      "outputs": []
    },
    {
      "cell_type": "code",
      "metadata": {
        "id": "xZbWmAuCYSqc",
        "colab_type": "code",
        "colab": {}
      },
      "source": [
        "savefig(\"./sine_and_cosine.png\", dpi=100)"
      ],
      "execution_count": 0,
      "outputs": []
    },
    {
      "cell_type": "code",
      "metadata": {
        "id": "hWfRi7FpYSqf",
        "colab_type": "code",
        "colab": {}
      },
      "source": [
        "!ls\n"
      ],
      "execution_count": 0,
      "outputs": []
    },
    {
      "cell_type": "markdown",
      "metadata": {
        "id": "N_k0kzqpYSqj",
        "colab_type": "text"
      },
      "source": [
        "## Close the Plot"
      ]
    },
    {
      "cell_type": "markdown",
      "metadata": {
        "id": "rSShDa6-YSqm",
        "colab_type": "text"
      },
      "source": [
        "## Second Plot All at Once\n",
        "Keep the same X, S (sine), C (cosine) values for plotting"
      ]
    },
    {
      "cell_type": "code",
      "metadata": {
        "id": "0D1v8_SUYSqw",
        "colab_type": "code",
        "colab": {}
      },
      "source": [
        "plt.figure(figsize=(10,6), dpi=100)"
      ],
      "execution_count": 0,
      "outputs": []
    },
    {
      "cell_type": "code",
      "metadata": {
        "id": "4rujPY55YSq3",
        "colab_type": "code",
        "colab": {}
      },
      "source": [
        "plt.plot(X, C, color='blue', linewidth=1.0, linestyle=\"-\", label=\"Cosine\")\n",
        "plt.plot(X, S, color='red', linewidth=1.0, linestyle=\"-\", label=\"Sine\")"
      ],
      "execution_count": 0,
      "outputs": []
    },
    {
      "cell_type": "code",
      "metadata": {
        "id": "aZcWVMJNYSrA",
        "colab_type": "code",
        "colab": {}
      },
      "source": [
        "plt.xlim(X.min()*1.1, X.max()*1.1)\n",
        "plt.ylim(C.min()*1.1, C.max()*1.1)"
      ],
      "execution_count": 0,
      "outputs": []
    },
    {
      "cell_type": "code",
      "metadata": {
        "id": "OU-Pf3afYSrE",
        "colab_type": "code",
        "colab": {}
      },
      "source": [
        "plt.xticks( [-np.pi, -np.pi/2, 0, np.pi/2, np.pi])\n",
        "plt.yticks( [-1, 0, +1])"
      ],
      "execution_count": 0,
      "outputs": []
    },
    {
      "cell_type": "code",
      "metadata": {
        "id": "bZHiJk2cYSrJ",
        "colab_type": "code",
        "colab": {}
      },
      "source": [
        "plt.xticks([-np.pi, -np.pi/2, 0, np.pi/2, np.pi],\n",
        "          [r'$-\\pi$', r'$-\\pi/2$', r'$0$', r'$+\\pi/2$', r'$+\\pi$'])\n",
        "plt.yticks([-1, 0, +1], [r'$-1$', r'$0$', r'$+1$'])"
      ],
      "execution_count": 0,
      "outputs": []
    },
    {
      "cell_type": "code",
      "metadata": {
        "id": "KYUhrFKqYSrO",
        "colab_type": "code",
        "colab": {}
      },
      "source": [
        "plt.legend(loc='upper left', frameon=False)"
      ],
      "execution_count": 0,
      "outputs": []
    },
    {
      "cell_type": "markdown",
      "metadata": {
        "id": "vK0_y1xVYSrR",
        "colab_type": "text"
      },
      "source": [
        "###  Delete the Plot"
      ]
    },
    {
      "cell_type": "markdown",
      "metadata": {
        "id": "BzAFRFpRYSrS",
        "colab_type": "text"
      },
      "source": [
        "## Figures and Subplots\n",
        "Again, X, S, and C will be reused."
      ]
    },
    {
      "cell_type": "markdown",
      "metadata": {
        "id": "tTr6qxUXYSrT",
        "colab_type": "text"
      },
      "source": [
        "### Figure\n",
        "The figure is the canvas the plots are drawn on.\n",
        "  \n",
        "    plt.figure(num=1, figsize=(width,height),dpi=100,frameon=True)\n",
        "    \n",
        "`facecolor` and `edgecolor` can also be specified"
      ]
    },
    {
      "cell_type": "markdown",
      "metadata": {
        "id": "SeJsO7BVYSrU",
        "colab_type": "text"
      },
      "source": [
        "### Subplot\n",
        "With subplot you can specify plots in a regular grid.\n",
        "\n",
        "    plt.subplot(row_count, column_count, plot_number)\n",
        "    \n",
        "See below:"
      ]
    },
    {
      "cell_type": "markdown",
      "metadata": {
        "id": "Iy6E_WOAYSrU",
        "colab_type": "text"
      },
      "source": [
        "<img src=\"https://github.com/roitraining/PythonML/blob/master/Ch05-Matplotlib/Images/211.png?raw=1\">\n",
        "\n",
        "<img src=\"https://github.com/roitraining/PythonML/blob/master/Ch05-Matplotlib/Images/121.png?raw=1\">"
      ]
    },
    {
      "cell_type": "markdown",
      "metadata": {
        "id": "8WJYU3u_YSrV",
        "colab_type": "text"
      },
      "source": [
        "### Two subplots"
      ]
    },
    {
      "cell_type": "code",
      "metadata": {
        "id": "bbp34BTBYSrW",
        "colab_type": "code",
        "colab": {}
      },
      "source": [
        "plt.figure(figsize=(5,10), dpi=100)\n",
        "plt.subplot(2,1,1)\n",
        "plt.plot(X, S, color='red', linewidth=1.0, linestyle=\"-\", \n",
        "         label=\"Sine\")\n",
        "plt.xlim(X.min()*1.1, X.max()*1.1)\n",
        "plt.ylim(C.min()*1.1, C.max()*1.1)\n",
        "plt.xticks([-np.pi, -np.pi/2, 0, np.pi/2, np.pi],\n",
        "          [r'$-\\pi$', r'$-\\pi/2$', r'$0$', r'$+\\pi/2$', r'$+\\pi$'])\n",
        "plt.yticks([-1, 0, +1], [r'$-1$', r'$0$', r'$+1$'])\n",
        "plt.legend(loc='upper left', frameon=False)\n",
        "plt.title(\"Sine Plot\")\n",
        "#plt.subplots_adjust(hspace=0.5)"
      ],
      "execution_count": 0,
      "outputs": []
    },
    {
      "cell_type": "code",
      "metadata": {
        "id": "YocbZBKCYSrY",
        "colab_type": "code",
        "colab": {}
      },
      "source": [
        "plt.subplot(2,1,2)\n",
        "plt.plot(X, C, color='blue', linewidth=1.0, linestyle=\"-\", \n",
        "         label=\"Cosine\")\n",
        "plt.xlim(X.min()*1.1, X.max()*1.1)\n",
        "plt.ylim(C.min()*1.1, C.max()*1.1)\n",
        "plt.xticks([-np.pi, -np.pi/2, 0, np.pi/2, np.pi],\n",
        "          [r'$-\\pi$', r'$-\\pi/2$', r'$0$', r'$+\\pi/2$', r'$+\\pi$'])\n",
        "plt.yticks([-1, 0, +1], [r'$-1$', r'$0$', r'$+1$'])\n",
        "plt.legend(loc='upper left', frameon=False)\n",
        "plt.title(\"Cosine Plot\")\n",
        "plt.subplots_adjust(hspace=0.3)"
      ],
      "execution_count": 0,
      "outputs": []
    },
    {
      "cell_type": "markdown",
      "metadata": {
        "id": "RiCvkPtPYSrb",
        "colab_type": "text"
      },
      "source": [
        "# End of notebook"
      ]
    }
  ]
}