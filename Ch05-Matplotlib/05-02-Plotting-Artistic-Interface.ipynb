{
 "cells": [
  {
   "cell_type": "markdown",
   "metadata": {
    "colab_type": "text",
    "id": "view-in-github"
   },
   "source": [
    "<a href=\"https://colab.research.google.com/github/roitraining/PythonML/blob/master/Ch05-Matplotlib/05-02-Plotting-Artistic-Interface.ipynb\" target=\"_parent\"><img src=\"https://colab.research.google.com/assets/colab-badge.svg\" alt=\"Open In Colab\"/></a>"
   ]
  },
  {
   "cell_type": "markdown",
   "metadata": {
    "colab_type": "text",
    "id": "GkEABRRsZc2x"
   },
   "source": [
    "## matplotlib:  Artistic Interface"
   ]
  },
  {
   "cell_type": "markdown",
   "metadata": {
    "colab_type": "text",
    "id": "teBiimofZc20"
   },
   "source": [
    "## Three Layers of Interface\n",
    "`matplotlib.backend_bases.FigureCanvas` is the area onto which the figure is drawn\n",
    "\n",
    "`matplotlib.backend_bases.Renderer` is the object which knows how to draw on the FigureCanvas\n",
    "\n",
    "`matplotlib.artist.Artist` is the object that knows how to use a renderer to paint onto the canvas\n",
    "### `Artist` types\n",
    "`primitives` represent the standard graphical objects we want to paint onto our canvas\n",
    "\n",
    "`containers` are places to put them (`Figures, Axes, Axis`)\n"
   ]
  },
  {
   "cell_type": "markdown",
   "metadata": {
    "colab_type": "text",
    "id": "2dCr3LEvZc21"
   },
   "source": [
    "## Typical Usage\n",
    "1. Create a Figure instance\n",
    "2. Create 1 or more subplots on Figure\n",
    "3. Use the Axes instance helper methods to create the primitives (Plots)\n",
    "\n",
    "### You can drop down and use the `Artist` primitives and containers or the `Renderer` or the `FigureCanvas`"
   ]
  },
  {
   "cell_type": "markdown",
   "metadata": {
    "colab_type": "text",
    "id": "altsM4V-Zc23"
   },
   "source": [
    "## Simple Plot "
   ]
  },
  {
   "cell_type": "code",
   "execution_count": null,
   "metadata": {
    "colab": {},
    "colab_type": "code",
    "id": "jknpOj4xZc24"
   },
   "outputs": [],
   "source": [
    "%matplotlib notebook"
   ]
  },
  {
   "cell_type": "markdown",
   "metadata": {
    "colab_type": "text",
    "id": "UuxgxtWbZc29"
   },
   "source": [
    "* Creates the image inside the notebook if possible\n",
    "* This setup allows for continuous update of the canvas\n",
    "* Note: Artistic interface will work with `%maplotlib` and `%matplotlib inline` and `%pylab`"
   ]
  },
  {
   "cell_type": "code",
   "execution_count": null,
   "metadata": {
    "colab": {},
    "colab_type": "code",
    "id": "C5AsM9PuZc2-"
   },
   "outputs": [],
   "source": [
    "import numpy as np\n",
    "import matplotlib.pyplot as plt"
   ]
  },
  {
   "cell_type": "markdown",
   "metadata": {
    "colab_type": "text",
    "id": "DYfAuLmwZc3C"
   },
   "source": [
    "* You still need to bring in the \n",
    "* It is matplotlib.pylot as plt"
   ]
  },
  {
   "cell_type": "markdown",
   "metadata": {
    "colab_type": "text",
    "id": "pjibA4wyZc3D"
   },
   "source": [
    "### Creating the X and Y points"
   ]
  },
  {
   "cell_type": "code",
   "execution_count": null,
   "metadata": {
    "colab": {},
    "colab_type": "code",
    "id": "24IXPHXaZc3E"
   },
   "outputs": [],
   "source": [
    "X = np.linspace(-np.pi, np.pi, 256,endpoint=True)\n",
    "S = np.sin(X)\n",
    "C = np.cos(X)"
   ]
  },
  {
   "cell_type": "markdown",
   "metadata": {
    "colab_type": "text",
    "id": "qw_Bc9XUZc3H"
   },
   "source": [
    "### Set Up Canvas"
   ]
  },
  {
   "cell_type": "code",
   "execution_count": null,
   "metadata": {
    "colab": {},
    "colab_type": "code",
    "id": "auCd_mV7Zc3J"
   },
   "outputs": [],
   "source": [
    "fig = plt.figure(figsize=(5,6), dpi=100)"
   ]
  },
  {
   "cell_type": "markdown",
   "metadata": {
    "colab_type": "text",
    "id": "Pc-FwEZvZc3M"
   },
   "source": [
    "* `fig` refers to the entire canvas\n"
   ]
  },
  {
   "cell_type": "code",
   "execution_count": null,
   "metadata": {
    "colab": {},
    "colab_type": "code",
    "id": "sxhTr_-IZc3O"
   },
   "outputs": [],
   "source": [
    "ax = fig.add_subplot(2,1,1) # two rows, 1 column, first plot"
   ]
  },
  {
   "cell_type": "markdown",
   "metadata": {
    "colab_type": "text",
    "id": "RKG4WmsEZc3R"
   },
   "source": [
    "* `ax` refers to the first subplot on the canvas\n",
    "    * The range and tick mark are the default values"
   ]
  },
  {
   "cell_type": "markdown",
   "metadata": {
    "colab_type": "text",
    "id": "obdAezB7Zc3S"
   },
   "source": [
    "### Adding a second plot"
   ]
  },
  {
   "cell_type": "code",
   "execution_count": null,
   "metadata": {
    "colab": {},
    "colab_type": "code",
    "id": "Bbc4kOQ5Zc3T"
   },
   "outputs": [],
   "source": [
    "ax2 = fig.add_subplot(2,1,2) # two rows, 1 column, second plot"
   ]
  },
  {
   "cell_type": "markdown",
   "metadata": {
    "colab_type": "text",
    "id": "V4FXaU3ZZc3Z"
   },
   "source": [
    "### Adding a line to the first plot\n",
    "\n"
   ]
  },
  {
   "cell_type": "code",
   "execution_count": null,
   "metadata": {
    "colab": {},
    "colab_type": "code",
    "id": "2VJsarLEZc3c"
   },
   "outputs": [],
   "source": [
    "ax.plot(S, X, color='blue', linestyle='-', label='Sine' )\n"
   ]
  },
  {
   "cell_type": "markdown",
   "metadata": {
    "colab_type": "text",
    "id": "ASOzgVsKZc3h"
   },
   "source": [
    "### Oops!\n",
    "The X-axis should be specified first\n",
    "\n",
    "Remove the line\n"
   ]
  },
  {
   "cell_type": "code",
   "execution_count": null,
   "metadata": {
    "colab": {},
    "colab_type": "code",
    "id": "S76J2cTOZc3j"
   },
   "outputs": [],
   "source": [
    "del ax.lines[0]\n"
   ]
  },
  {
   "cell_type": "code",
   "execution_count": null,
   "metadata": {
    "colab": {},
    "colab_type": "code",
    "id": "KfIB9xkDZc3m"
   },
   "outputs": [],
   "source": [
    "ax.plot(X, S, color='blue', linestyle='-', label='Sine' )"
   ]
  },
  {
   "cell_type": "markdown",
   "metadata": {
    "colab_type": "text",
    "id": "MCzL_uJfZc3q"
   },
   "source": [
    "### Work on the second graph"
   ]
  },
  {
   "cell_type": "code",
   "execution_count": null,
   "metadata": {
    "colab": {},
    "colab_type": "code",
    "id": "6_hzRhEHZc3r"
   },
   "outputs": [],
   "source": [
    "ax2.plot(X, C, color='red', linestyle='-', label='Cosine' )"
   ]
  },
  {
   "cell_type": "code",
   "execution_count": null,
   "metadata": {
    "colab": {},
    "colab_type": "code",
    "id": "b0J2sb5zZc3u"
   },
   "outputs": [],
   "source": [
    "plt.subplots_adjust(hspace=0.4)"
   ]
  },
  {
   "cell_type": "markdown",
   "metadata": {
    "colab_type": "text",
    "id": "Q0fy56vIZc3x"
   },
   "source": [
    "* This moves the space between the plot as it did in the first notebook\n"
   ]
  },
  {
   "cell_type": "markdown",
   "metadata": {
    "colab_type": "text",
    "id": "mUE6HTLOZc3y"
   },
   "source": [
    "### Setting title\n"
   ]
  },
  {
   "cell_type": "code",
   "execution_count": null,
   "metadata": {
    "colab": {},
    "colab_type": "code",
    "id": "xCD7LSduZc3z"
   },
   "outputs": [],
   "source": [
    "ax.set_title(\"Sine\")\n",
    "ax2.set_title(\"Cosine\")"
   ]
  },
  {
   "cell_type": "markdown",
   "metadata": {
    "colab_type": "text",
    "id": "-aevbpENZc32"
   },
   "source": [
    "### Setting the X-axis and Y-axis limits"
   ]
  },
  {
   "cell_type": "code",
   "execution_count": null,
   "metadata": {
    "colab": {},
    "colab_type": "code",
    "id": "UFILmmYPZc33"
   },
   "outputs": [],
   "source": [
    "ax.set_xlim(X.min() * 1.1, X.max() * 1.1)\n",
    "ax.set_ylim(S.min() * 1.1, S.max() * 1.1)"
   ]
  },
  {
   "cell_type": "markdown",
   "metadata": {
    "colab_type": "text",
    "id": "aI0rSFbmZc38"
   },
   "source": [
    "### Setting the X-axis tick marks"
   ]
  },
  {
   "cell_type": "code",
   "execution_count": null,
   "metadata": {
    "colab": {},
    "colab_type": "code",
    "id": "gKhQUF1lZc39"
   },
   "outputs": [],
   "source": [
    "ax.set_xticks([-np.pi, -np.pi/2, 0, np.pi/2, np.pi])"
   ]
  },
  {
   "cell_type": "markdown",
   "metadata": {
    "colab_type": "text",
    "id": "twiGaYqAZc4D"
   },
   "source": [
    "### Setting X-axis tick labels"
   ]
  },
  {
   "cell_type": "code",
   "execution_count": null,
   "metadata": {
    "colab": {},
    "colab_type": "code",
    "id": "l7-3lXUmZc4F"
   },
   "outputs": [],
   "source": [
    "ax.set_xticklabels([r'$-\\pi$', r'$-\\pi/2$', r'$0$', r'$+\\pi/2$', r'$+\\pi$'])"
   ]
  },
  {
   "cell_type": "markdown",
   "metadata": {
    "colab_type": "text",
    "id": "WHpVNppkZc4O"
   },
   "source": [
    "### Setting X-axis ticks and tick labels"
   ]
  },
  {
   "cell_type": "code",
   "execution_count": null,
   "metadata": {
    "colab": {},
    "colab_type": "code",
    "id": "d5I4BYWdZc4Q"
   },
   "outputs": [],
   "source": [
    "ax.set_yticks([-1, 0, +1])\n",
    "ax.set_yticklabels([r'$-1$', r'$0$', r'$+1$'])"
   ]
  },
  {
   "cell_type": "markdown",
   "metadata": {
    "colab_type": "text",
    "id": "EcDWMXAbZc4V"
   },
   "source": [
    "### Settin all the X-axis and Y-axis markers"
   ]
  },
  {
   "cell_type": "code",
   "execution_count": null,
   "metadata": {
    "colab": {},
    "colab_type": "code",
    "id": "HTjS8eCNZc4W"
   },
   "outputs": [],
   "source": [
    "ax2.set_xlim(X.min() * 1.1, X.max() * 1.1)\n",
    "ax2.set_ylim(S.min() * 1.1, S.max() * 1.1)\n",
    "ax2.set_xticks([-np.pi, -np.pi/2, 0, np.pi/2, np.pi])\n",
    "ax2.set_xticklabels([r'$-\\pi$', r'$-\\pi/2$', r'$0$', r'$+\\pi/2$', r'$+\\pi$'])\n",
    "ax2.set_yticks([-1, 0, +1])\n",
    "ax2.set_yticklabels([r'$-1$', r'$0$', r'$+1$'])"
   ]
  },
  {
   "cell_type": "markdown",
   "metadata": {
    "colab_type": "text",
    "id": "tMdVHgjWZc4b"
   },
   "source": [
    "### Setting X-axis and Y-axis labels"
   ]
  },
  {
   "cell_type": "code",
   "execution_count": null,
   "metadata": {
    "colab": {},
    "colab_type": "code",
    "id": "qbXWzhVOZc4c"
   },
   "outputs": [],
   "source": [
    "ax.set_xlabel(\"X Values\")\n",
    "ax2.set_xlabel(\"X Values\")\n",
    "ax.set_ylabel(\"Sin(X)\")\n",
    "ax2.set_ylabel(\"Cos(X)\")"
   ]
  },
  {
   "cell_type": "markdown",
   "metadata": {
    "colab_type": "text",
    "id": "C19MxADCZc4g"
   },
   "source": [
    "### Setting legend"
   ]
  },
  {
   "cell_type": "code",
   "execution_count": null,
   "metadata": {
    "colab": {},
    "colab_type": "code",
    "id": "UDPqqGEkZc4h"
   },
   "outputs": [],
   "source": [
    "ax.legend(loc='upper left', frameon=False)\n",
    "ax2.legend(loc='upper left', frameon=False)"
   ]
  },
  {
   "cell_type": "markdown",
   "metadata": {
    "colab_type": "text",
    "id": "bOuv4L4GZc4l"
   },
   "source": [
    "# End of notebook"
   ]
  }
 ],
 "metadata": {
  "colab": {
   "include_colab_link": true,
   "name": "05-02-Plotting-Artistic-Interface.ipynb",
   "provenance": []
  },
  "kernelspec": {
   "display_name": "Python 3",
   "language": "python",
   "name": "python3"
  },
  "language_info": {
   "codemirror_mode": {
    "name": "ipython",
    "version": 3
   },
   "file_extension": ".py",
   "mimetype": "text/x-python",
   "name": "python",
   "nbconvert_exporter": "python",
   "pygments_lexer": "ipython3",
   "version": "3.7.3"
  }
 },
 "nbformat": 4,
 "nbformat_minor": 1
}
