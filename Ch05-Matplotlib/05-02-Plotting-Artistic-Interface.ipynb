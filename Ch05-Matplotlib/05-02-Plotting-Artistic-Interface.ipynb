{
  "nbformat": 4,
  "nbformat_minor": 0,
  "metadata": {
    "kernelspec": {
      "display_name": "Python 3",
      "language": "python",
      "name": "python3"
    },
    "language_info": {
      "codemirror_mode": {
        "name": "ipython",
        "version": 3
      },
      "file_extension": ".py",
      "mimetype": "text/x-python",
      "name": "python",
      "nbconvert_exporter": "python",
      "pygments_lexer": "ipython3",
      "version": "3.7.3"
    },
    "colab": {
      "name": "05-02-Plotting-Artistic-Interface.ipynb",
      "provenance": [],
      "include_colab_link": true
    }
  },
  "cells": [
    {
      "cell_type": "markdown",
      "metadata": {
        "id": "view-in-github",
        "colab_type": "text"
      },
      "source": [
        "<a href=\"https://colab.research.google.com/github/roitraining/PythonML/blob/Development/Ch05-Matplotlib/05-02-Plotting-Artistic-Interface.ipynb\" target=\"_parent\"><img src=\"https://colab.research.google.com/assets/colab-badge.svg\" alt=\"Open In Colab\"/></a>"
      ]
    },
    {
      "cell_type": "markdown",
      "metadata": {
        "id": "RVNlJkMzevUJ",
        "colab_type": "text"
      },
      "source": [
        "## matplotlib:  Artistic Interface"
      ]
    },
    {
      "cell_type": "markdown",
      "metadata": {
        "id": "9WT0XgL6evUL",
        "colab_type": "text"
      },
      "source": [
        "## Three layers of interface\n",
        "`matplotlib.backend_bases.FigureCanvas` is the area onto which the figure is drawn\n",
        "\n",
        "`matplotlib.backend_bases.Renderer` is the object which knows how to draw on the FigureCanvas\n",
        "\n",
        "`matplotlib.artist.Artist` is the object that knows how to use a renderer to paint onto the canvas\n",
        "### `Artist` types\n",
        "`primitives` represent the standard graphical objects we want to paint onto our canvas\n",
        "\n",
        "`containers` are places to put them (`Figures, Axes, Axis`)\n"
      ]
    },
    {
      "cell_type": "markdown",
      "metadata": {
        "id": "CmOWQZBMevUN",
        "colab_type": "text"
      },
      "source": [
        "## Typical Usage\n",
        "1. Create a Figure instance\n",
        "2. Create 1 or more subplots on Figure\n",
        "3. Use the Axes instance helper methods to create the primitives (Plots)\n",
        "\n",
        "### You can drop down and use the `Artist` primitives and containers or the `Renderer` or the `FigureCanvas`"
      ]
    },
    {
      "cell_type": "markdown",
      "metadata": {
        "id": "EVWvNrVfevUP",
        "colab_type": "text"
      },
      "source": [
        "## Simple Plot "
      ]
    },
    {
      "cell_type": "code",
      "metadata": {
        "id": "kNlsl2-IevUQ",
        "colab_type": "code",
        "colab": {}
      },
      "source": [
        "%matplotlib notebook"
      ],
      "execution_count": 0,
      "outputs": []
    },
    {
      "cell_type": "markdown",
      "metadata": {
        "id": "8PaTHUhOevUU",
        "colab_type": "text"
      },
      "source": [
        "* Creates the image inside the notebook if possible\n",
        "* This setup allows for continuous update of the canvas\n",
        "* Note: Artistic interface will work with `%maplotlib` and `%matplotlib inline` and `%pylab`"
      ]
    },
    {
      "cell_type": "code",
      "metadata": {
        "id": "C41mUckOevUV",
        "colab_type": "code",
        "colab": {}
      },
      "source": [
        "import numpy as np\n",
        "import matplotlib.pyplot as plt"
      ],
      "execution_count": 0,
      "outputs": []
    },
    {
      "cell_type": "markdown",
      "metadata": {
        "id": "3DfQMM_AevUZ",
        "colab_type": "text"
      },
      "source": [
        "### Creating the X and Y points"
      ]
    },
    {
      "cell_type": "code",
      "metadata": {
        "id": "mUdQ_SVievUb",
        "colab_type": "code",
        "colab": {}
      },
      "source": [
        "X = np.linspace(-np.pi, np.pi, 256,endpoint=True)\n",
        "S = np.sin(X)\n",
        "C = np.cos(X)"
      ],
      "execution_count": 0,
      "outputs": []
    },
    {
      "cell_type": "markdown",
      "metadata": {
        "id": "HBmTY50kevUf",
        "colab_type": "text"
      },
      "source": [
        "### Set up canvas"
      ]
    },
    {
      "cell_type": "code",
      "metadata": {
        "id": "d7GQkLprevUh",
        "colab_type": "code",
        "colab": {}
      },
      "source": [
        "fig = plt.figure(figsize=(5,6), dpi=100)"
      ],
      "execution_count": 0,
      "outputs": []
    },
    {
      "cell_type": "markdown",
      "metadata": {
        "id": "icPK3DFDevUl",
        "colab_type": "text"
      },
      "source": [
        "* `fig` refers to the entire canvas\n"
      ]
    },
    {
      "cell_type": "code",
      "metadata": {
        "id": "7QeGJ_2KevUm",
        "colab_type": "code",
        "colab": {}
      },
      "source": [
        "ax = fig.add_subplot(2,1,1) # two rows, 1 column, first plot"
      ],
      "execution_count": 0,
      "outputs": []
    },
    {
      "cell_type": "markdown",
      "metadata": {
        "id": "NNY9Wk09evUq",
        "colab_type": "text"
      },
      "source": [
        "* `ax` refers to the first subplot on the canvas\n",
        "    * The range and tick mark are the default values"
      ]
    },
    {
      "cell_type": "markdown",
      "metadata": {
        "id": "5AWpbcv1evUr",
        "colab_type": "text"
      },
      "source": [
        "### Adding a second plot"
      ]
    },
    {
      "cell_type": "code",
      "metadata": {
        "id": "yjO5I125evUt",
        "colab_type": "code",
        "colab": {}
      },
      "source": [
        "ax2 = fig.add_subplot(2,1,2) # two rows, 1 column, second plot"
      ],
      "execution_count": 0,
      "outputs": []
    },
    {
      "cell_type": "markdown",
      "metadata": {
        "id": "40fNyNezevUx",
        "colab_type": "text"
      },
      "source": [
        "### Adding a line to the first plot\n",
        "\n"
      ]
    },
    {
      "cell_type": "code",
      "metadata": {
        "id": "M4Khb0eUevUz",
        "colab_type": "code",
        "colab": {}
      },
      "source": [
        "ax.plot(S, X, color='blue', linestyle='-', label='Sine' )\n"
      ],
      "execution_count": 0,
      "outputs": []
    },
    {
      "cell_type": "markdown",
      "metadata": {
        "id": "REYKMK0wevU2",
        "colab_type": "text"
      },
      "source": [
        "### Oops!\n",
        "The X-axis should be specified first.\n",
        "\n",
        "Remove the line.\n"
      ]
    },
    {
      "cell_type": "code",
      "metadata": {
        "id": "OgUV10XdevU6",
        "colab_type": "code",
        "colab": {}
      },
      "source": [
        "del ax.lines[0]\n"
      ],
      "execution_count": 0,
      "outputs": []
    },
    {
      "cell_type": "code",
      "metadata": {
        "id": "WzcndZ6NevU9",
        "colab_type": "code",
        "colab": {}
      },
      "source": [
        "ax.plot(X, S, color='blue', linestyle='-', label='Sine' )"
      ],
      "execution_count": 0,
      "outputs": []
    },
    {
      "cell_type": "markdown",
      "metadata": {
        "id": "f-5PmNG6evVD",
        "colab_type": "text"
      },
      "source": [
        "### Work on the second graph"
      ]
    },
    {
      "cell_type": "code",
      "metadata": {
        "id": "h3VXr7G-evVE",
        "colab_type": "code",
        "colab": {}
      },
      "source": [
        "ax2.plot(X, C, color='red', linestyle='-', label='Cosine' )"
      ],
      "execution_count": 0,
      "outputs": []
    },
    {
      "cell_type": "code",
      "metadata": {
        "id": "bwVbYb_LevVI",
        "colab_type": "code",
        "colab": {}
      },
      "source": [
        "plt.subplots_adjust(hspace=0.4)"
      ],
      "execution_count": 0,
      "outputs": []
    },
    {
      "cell_type": "markdown",
      "metadata": {
        "id": "MtyB0AeJevVM",
        "colab_type": "text"
      },
      "source": [
        "* This moves the space between the plot as it did in the first notebook\n"
      ]
    },
    {
      "cell_type": "markdown",
      "metadata": {
        "id": "zc5_r8-RevVN",
        "colab_type": "text"
      },
      "source": [
        "### Setting title\n"
      ]
    },
    {
      "cell_type": "code",
      "metadata": {
        "id": "IDMFQIRBevVO",
        "colab_type": "code",
        "colab": {}
      },
      "source": [
        "ax.set_title(\"Sine\")\n",
        "ax2.set_title(\"Cosine\")"
      ],
      "execution_count": 0,
      "outputs": []
    },
    {
      "cell_type": "markdown",
      "metadata": {
        "id": "h2JxZ-bwevVS",
        "colab_type": "text"
      },
      "source": [
        "### Setting the X-axis and Y-axis limits"
      ]
    },
    {
      "cell_type": "code",
      "metadata": {
        "id": "vA_9Y_kEevVT",
        "colab_type": "code",
        "colab": {}
      },
      "source": [
        "ax.set_xlim(X.min() * 1.1, X.max() * 1.1)\n",
        "ax.set_ylim(S.min() * 1.1, S.max() * 1.1)"
      ],
      "execution_count": 0,
      "outputs": []
    },
    {
      "cell_type": "markdown",
      "metadata": {
        "id": "qLe5OB6QevVW",
        "colab_type": "text"
      },
      "source": [
        "### Setting the X-axis tick marks"
      ]
    },
    {
      "cell_type": "code",
      "metadata": {
        "id": "NwxFGfMPevVY",
        "colab_type": "code",
        "colab": {}
      },
      "source": [
        "ax.set_xticks([-np.pi, -np.pi/2, 0, np.pi/2, np.pi])"
      ],
      "execution_count": 0,
      "outputs": []
    },
    {
      "cell_type": "markdown",
      "metadata": {
        "id": "TGhCDSMEevVb",
        "colab_type": "text"
      },
      "source": [
        "### Setting X-axis tick Labels"
      ]
    },
    {
      "cell_type": "code",
      "metadata": {
        "id": "D9ijTcxhevVc",
        "colab_type": "code",
        "colab": {}
      },
      "source": [
        "ax.set_xticklabels([r'$-\\pi$', r'$-\\pi/2$', r'$0$', r'$+\\pi/2$', r'$+\\pi$'])"
      ],
      "execution_count": 0,
      "outputs": []
    },
    {
      "cell_type": "markdown",
      "metadata": {
        "id": "2Jn6j_lbevVl",
        "colab_type": "text"
      },
      "source": [
        "### Setting X-axis ticks and tick labels"
      ]
    },
    {
      "cell_type": "code",
      "metadata": {
        "id": "GHZOOz_OevVp",
        "colab_type": "code",
        "colab": {}
      },
      "source": [
        "ax.set_yticks([-1, 0, +1])\n",
        "ax.set_yticklabels([r'$-1$', r'$0$', r'$+1$'])"
      ],
      "execution_count": 0,
      "outputs": []
    },
    {
      "cell_type": "markdown",
      "metadata": {
        "id": "Prwv5LK_evVx",
        "colab_type": "text"
      },
      "source": [
        "### Setting all the X-axis and Y-axis markers"
      ]
    },
    {
      "cell_type": "code",
      "metadata": {
        "id": "bV8xa18cevVz",
        "colab_type": "code",
        "colab": {}
      },
      "source": [
        "ax2.set_xlim(X.min() * 1.1, X.max() * 1.1)\n",
        "ax2.set_ylim(S.min() * 1.1, S.max() * 1.1)\n",
        "ax2.set_xticks([-np.pi, -np.pi/2, 0, np.pi/2, np.pi])\n",
        "ax2.set_xticklabels([r'$-\\pi$', r'$-\\pi/2$', r'$0$', r'$+\\pi/2$', r'$+\\pi$'])\n",
        "ax2.set_yticks([-1, 0, +1])\n",
        "ax2.set_yticklabels([r'$-1$', r'$0$', r'$+1$'])"
      ],
      "execution_count": 0,
      "outputs": []
    },
    {
      "cell_type": "markdown",
      "metadata": {
        "id": "q3Cirr0CevV3",
        "colab_type": "text"
      },
      "source": [
        "### Setting X-axis and Y-axis labels"
      ]
    },
    {
      "cell_type": "code",
      "metadata": {
        "id": "L8mjtHb8evV4",
        "colab_type": "code",
        "colab": {}
      },
      "source": [
        "ax.set_xlabel(\"X Values\")\n",
        "ax2.set_xlabel(\"X Values\")\n",
        "ax.set_ylabel(\"Sin(X)\")\n",
        "ax2.set_ylabel(\"Cos(X)\")"
      ],
      "execution_count": 0,
      "outputs": []
    },
    {
      "cell_type": "markdown",
      "metadata": {
        "id": "_CYroZyfevV7",
        "colab_type": "text"
      },
      "source": [
        "### Setting legend"
      ]
    },
    {
      "cell_type": "code",
      "metadata": {
        "id": "2VyODbTievV8",
        "colab_type": "code",
        "colab": {}
      },
      "source": [
        "ax.legend(loc='upper left', frameon=False)\n",
        "ax2.legend(loc='upper left', frameon=False)"
      ],
      "execution_count": 0,
      "outputs": []
    },
    {
      "cell_type": "markdown",
      "metadata": {
        "id": "4Y0lMiWyevV_",
        "colab_type": "text"
      },
      "source": [
        "# End of notebook"
      ]
    }
  ]
}