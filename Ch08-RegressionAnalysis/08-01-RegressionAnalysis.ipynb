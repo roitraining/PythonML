{
  "nbformat": 4,
  "nbformat_minor": 0,
  "metadata": {
    "kernelspec": {
      "display_name": "Python 3",
      "language": "python",
      "name": "python3"
    },
    "language_info": {
      "codemirror_mode": {
        "name": "ipython",
        "version": 3
      },
      "file_extension": ".py",
      "mimetype": "text/x-python",
      "name": "python",
      "nbconvert_exporter": "python",
      "pygments_lexer": "ipython3",
      "version": "3.7.3"
    },
    "colab": {
      "name": "08-01-RegressionAnalysis.ipynb",
      "provenance": [],
      "include_colab_link": true
    }
  },
  "cells": [
    {
      "cell_type": "markdown",
      "metadata": {
        "id": "view-in-github",
        "colab_type": "text"
      },
      "source": [
        "<a href=\"https://colab.research.google.com/github/roitraining/PythonML/blob/Development/Ch08-RegressionAnalysis/08-01-RegressionAnalysis.ipynb\" target=\"_parent\"><img src=\"https://colab.research.google.com/assets/colab-badge.svg\" alt=\"Open In Colab\"/></a>"
      ]
    },
    {
      "cell_type": "code",
      "metadata": {
        "id": "0YZkvGltnrYQ",
        "colab_type": "code",
        "colab": {}
      },
      "source": [
        "%matplotlib inline\n",
        "import pandas as pd\n",
        "import matplotlib.pyplot as plt\n",
        "import seaborn as sns\n",
        "\n",
        "USAhousing = pd.read_csv('USA_Housing.csv')\n",
        "print (USAhousing.columns)\n",
        "print (USAhousing.head())\n",
        "\n",
        "sns.distplot(USAhousing['Price'])\n",
        "\n"
      ],
      "execution_count": 0,
      "outputs": []
    },
    {
      "cell_type": "code",
      "metadata": {
        "id": "enGipIHtnrYY",
        "colab_type": "code",
        "colab": {}
      },
      "source": [
        "%matplotlib inline\n",
        "from sklearn.model_selection import train_test_split\n",
        "from sklearn.metrics import mean_squared_error, r2_score\n",
        "\n",
        "x = USAhousing[['Avg. Area Income', 'Avg. Area House Age', 'Avg. Area Number of Rooms',\n",
        "               'Avg. Area Number of Bedrooms', 'Area Population']]\n",
        "y = USAhousing['Price']\n",
        "\n",
        "trainX, testX, trainY, testY = train_test_split(x, y, test_size = 0.4, random_state = 101)\n",
        "\n",
        "from sklearn.linear_model import LinearRegression\n",
        "lm = LinearRegression()\n",
        "lm.fit(trainX, trainY)\n",
        "predictions = lm.predict(testX)\n",
        "plt.scatter(testY, predictions)\n",
        "\n",
        "print (\"Mean squared error: %.2f\" % mean_squared_error(testY, predictions))\n",
        "print ('Variance score: %.2f' % r2_score(testY, predictions))\n",
        "print (lm.coef_)\n"
      ],
      "execution_count": 0,
      "outputs": []
    },
    {
      "cell_type": "code",
      "metadata": {
        "id": "PEIJz4dJnrYc",
        "colab_type": "code",
        "colab": {}
      },
      "source": [
        "%matplotlib inline\n",
        "import statsmodels.api as sm\n",
        "\n",
        "model = sm.OLS(trainY, trainX).fit()\n",
        "print (model.summary())\n",
        "\n",
        "predictions = model.predict(testX) # make the predictions by the model\n",
        "plt.scatter(testY, predictions)\n"
      ],
      "execution_count": 0,
      "outputs": []
    },
    {
      "cell_type": "markdown",
      "metadata": {
        "id": "5BuwVdtgnuxa",
        "colab_type": "text"
      },
      "source": [
        "# End of notebook"
      ]
    }
  ]
}